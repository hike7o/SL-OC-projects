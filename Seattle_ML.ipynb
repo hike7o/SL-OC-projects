{
 "cells": [
  {
   "cell_type": "markdown",
   "id": "b51e2588",
   "metadata": {},
   "source": [
    "<div style=\"width:100%;text-align: top;\"> <img align=middle src=\"https://mmo.aiircdn.com/141/5ed59862e602f.png\" alt=\"Heat beating\" style=\"height:400px;margin-top:1rem;\"> </div>"
   ]
  },
  {
   "cell_type": "markdown",
   "id": "8baf8708",
   "metadata": {},
   "source": [
    "## BUILDING ENERGY CONSUMPTION ANALYSIS"
   ]
  },
  {
   "cell_type": "markdown",
   "id": "e579261c",
   "metadata": {},
   "source": [
    "Climate change is a global challenge and carbon pollution knows no boundaries.<br>\n",
    "In 2011, Seattle adopted the goal to become carbon neutral by 2050. The overall approach to carbon reductions in the buildings is to provide information, financial and other incentives, and technical assistance, while establishing strong standards for efficiency and emissions. <br>\n",
    "As part of the City of Seattle, our team will focus on Green House Gas Emissions from non residential buildings.<br>\n",
    "Our final objective is to predict CO2 emissions and the Total Energy Use for buildings that do not have yet any measurements.  <br>\n",
    "To achieve this"
   ]
  },
  {
   "cell_type": "code",
   "execution_count": 613,
   "id": "40b57bb7",
   "metadata": {},
   "outputs": [],
   "source": [
    "#! usr/bin/env python 3\n",
    "# coding: utf-8\n",
    "\n",
    "# Importing librairies\n",
    "\n",
    "import numpy as np                # numerical data processing\n",
    "import pandas as pd               # numerical tables & time series\n",
    "import scipy as sp                # numerical integration, interpolation, optimization, linear algebra, and statistics\n",
    "import scipy.stats as st          # statistical functions\n",
    "import seaborn as sns             # statistical data visualization\n",
    "import matplotlib.pyplot as plt   # static, animated, and interactive visualizations in Python\n",
    "\n",
    "from sklearn import model_selection\n",
    "from sklearn.linear_model import Ridge\n",
    "from sklearn.linear_model import Lasso\n",
    "from sklearn.linear_model import ElasticNet\n",
    "from sklearn.neighbors import KNeighborsRegressor\n",
    "from sklearn.model_selection import RandomizedSearchCV\n",
    "import xgboost as xgb\n",
    "from xgboost import XGBRegressor\n",
    "from sklearn.svm import SVR\n",
    "from sklearn.ensemble import RandomForestRegressor\n",
    "from math import sqrt\n",
    "from IPython.display import HTML\n",
    "import warnings\n",
    "warnings.filterwarnings('ignore')\n"
   ]
  },
  {
   "cell_type": "code",
   "execution_count": 688,
   "id": "974bf9f7",
   "metadata": {},
   "outputs": [],
   "source": [
    "from IPython.display import HTML\n",
    "import random\n",
    "\n",
    "def hide_toggle(for_next=False):\n",
    "    this_cell = \"\"\"$('div.cell.code_cell.rendered.selected')\"\"\"\n",
    "    next_cell = this_cell + '.next()'\n",
    "\n",
    "    toggle_text = 'Toggle show/hide'  # text shown on toggle link\n",
    "    target_cell = this_cell  # target cell to control with toggle\n",
    "    js_hide_current = ''  # bit of JS to permanently hide code in current cell (only when toggling next cell)\n",
    "\n",
    "    if for_next:\n",
    "        target_cell = next_cell\n",
    "        toggle_text += ' next cell'\n",
    "        js_hide_current = this_cell + '.find(\"div.input\").hide();'\n",
    "\n",
    "    js_f_name = 'code_toggle_{}'.format(str(random.randint(1,2**64)))\n",
    "\n",
    "    html = \"\"\"\n",
    "        <script>\n",
    "            function {f_name}() {{\n",
    "                {cell_selector}.find('div.input').toggle();\n",
    "            }}\n",
    "\n",
    "            {js_hide_current}\n",
    "        </script>\n",
    "\n",
    "        <a href=\"javascript:{f_name}()\">{toggle_text}</a>\n",
    "    \"\"\".format(\n",
    "        f_name=js_f_name,\n",
    "        cell_selector=target_cell,\n",
    "        js_hide_current=js_hide_current, \n",
    "        toggle_text=toggle_text\n",
    "    )\n",
    "\n",
    "    return HTML(html)"
   ]
  },
  {
   "cell_type": "code",
   "execution_count": 614,
   "id": "d227a01f",
   "metadata": {},
   "outputs": [
    {
     "data": {
      "text/html": [
       "<div>\n",
       "<style scoped>\n",
       "    .dataframe tbody tr th:only-of-type {\n",
       "        vertical-align: middle;\n",
       "    }\n",
       "\n",
       "    .dataframe tbody tr th {\n",
       "        vertical-align: top;\n",
       "    }\n",
       "\n",
       "    .dataframe thead th {\n",
       "        text-align: right;\n",
       "    }\n",
       "</style>\n",
       "<table border=\"1\" class=\"dataframe\">\n",
       "  <thead>\n",
       "    <tr style=\"text-align: right;\">\n",
       "      <th></th>\n",
       "      <th>OSEBuildingID</th>\n",
       "      <th>DataYear</th>\n",
       "      <th>BuildingType</th>\n",
       "      <th>PrimaryPropertyType</th>\n",
       "      <th>PropertyName</th>\n",
       "      <th>Neighborhood</th>\n",
       "      <th>NumberofBuildings</th>\n",
       "      <th>NumberofFloors</th>\n",
       "      <th>PropertyGFATotal</th>\n",
       "      <th>LargestPropertyUseType</th>\n",
       "      <th>...</th>\n",
       "      <th>Longitude</th>\n",
       "      <th>Address</th>\n",
       "      <th>City</th>\n",
       "      <th>State</th>\n",
       "      <th>ZipCode</th>\n",
       "      <th>AgeofBuilding</th>\n",
       "      <th>MeanBuildingGFA</th>\n",
       "      <th>MeanFloorGFA</th>\n",
       "      <th>BuildingGFApct</th>\n",
       "      <th>ParkingGFApct</th>\n",
       "    </tr>\n",
       "  </thead>\n",
       "  <tbody>\n",
       "    <tr>\n",
       "      <th>0</th>\n",
       "      <td>1</td>\n",
       "      <td>2015</td>\n",
       "      <td>NonResidential</td>\n",
       "      <td>Hotel</td>\n",
       "      <td>Mayflower Park Hotel</td>\n",
       "      <td>Downtown</td>\n",
       "      <td>1.0</td>\n",
       "      <td>12.0</td>\n",
       "      <td>88434</td>\n",
       "      <td>Hotel</td>\n",
       "      <td>...</td>\n",
       "      <td>-122.337997</td>\n",
       "      <td>405 Olive Way</td>\n",
       "      <td>Seattle</td>\n",
       "      <td>WA</td>\n",
       "      <td>98101.0</td>\n",
       "      <td>88</td>\n",
       "      <td>88434.0</td>\n",
       "      <td>7369.5</td>\n",
       "      <td>1.0</td>\n",
       "      <td>0.0</td>\n",
       "    </tr>\n",
       "    <tr>\n",
       "      <th>1</th>\n",
       "      <td>1</td>\n",
       "      <td>2016</td>\n",
       "      <td>NonResidential</td>\n",
       "      <td>Hotel</td>\n",
       "      <td>Mayflower Park Hotel</td>\n",
       "      <td>Downtown</td>\n",
       "      <td>1.0</td>\n",
       "      <td>12.0</td>\n",
       "      <td>88434</td>\n",
       "      <td>Hotel</td>\n",
       "      <td>...</td>\n",
       "      <td>-122.337990</td>\n",
       "      <td>405 Olive Way</td>\n",
       "      <td>Seattle</td>\n",
       "      <td>WA</td>\n",
       "      <td>98101.0</td>\n",
       "      <td>89</td>\n",
       "      <td>88434.0</td>\n",
       "      <td>7369.5</td>\n",
       "      <td>1.0</td>\n",
       "      <td>0.0</td>\n",
       "    </tr>\n",
       "  </tbody>\n",
       "</table>\n",
       "<p>2 rows × 26 columns</p>\n",
       "</div>"
      ],
      "text/plain": [
       "   OSEBuildingID  DataYear    BuildingType PrimaryPropertyType  \\\n",
       "0              1      2015  NonResidential               Hotel   \n",
       "1              1      2016  NonResidential               Hotel   \n",
       "\n",
       "           PropertyName Neighborhood  NumberofBuildings  NumberofFloors  \\\n",
       "0  Mayflower Park Hotel     Downtown                1.0            12.0   \n",
       "1  Mayflower Park Hotel     Downtown                1.0            12.0   \n",
       "\n",
       "   PropertyGFATotal LargestPropertyUseType  ...   Longitude         Address  \\\n",
       "0             88434                  Hotel  ... -122.337997   405 Olive Way   \n",
       "1             88434                  Hotel  ... -122.337990   405 Olive Way   \n",
       "\n",
       "       City  State  ZipCode  AgeofBuilding  MeanBuildingGFA MeanFloorGFA  \\\n",
       "0   Seattle     WA  98101.0             88          88434.0       7369.5   \n",
       "1   Seattle     WA  98101.0             89          88434.0       7369.5   \n",
       "\n",
       "  BuildingGFApct ParkingGFApct  \n",
       "0            1.0           0.0  \n",
       "1            1.0           0.0  \n",
       "\n",
       "[2 rows x 26 columns]"
      ]
     },
     "execution_count": 614,
     "metadata": {},
     "output_type": "execute_result"
    }
   ],
   "source": [
    "# Transforming input files.csv to dataframes\n",
    "\n",
    "df_data = pd.read_csv(\"data_cleaned.csv\")\n",
    "df_data = df_data.drop(['Unnamed: 0'], axis=1)\n",
    "df_data.head(2)\n"
   ]
  },
  {
   "cell_type": "code",
   "execution_count": 615,
   "id": "07c85fb7",
   "metadata": {},
   "outputs": [
    {
     "name": "stdout",
     "output_type": "stream",
     "text": [
      "<class 'pandas.core.frame.DataFrame'>\n",
      "RangeIndex: 3173 entries, 0 to 3172\n",
      "Data columns (total 26 columns):\n",
      " #   Column                        Non-Null Count  Dtype  \n",
      "---  ------                        --------------  -----  \n",
      " 0   OSEBuildingID                 3173 non-null   int64  \n",
      " 1   DataYear                      3173 non-null   int64  \n",
      " 2   BuildingType                  3173 non-null   object \n",
      " 3   PrimaryPropertyType           3173 non-null   object \n",
      " 4   PropertyName                  3173 non-null   object \n",
      " 5   Neighborhood                  3173 non-null   object \n",
      " 6   NumberofBuildings             3173 non-null   float64\n",
      " 7   NumberofFloors                3173 non-null   float64\n",
      " 8   PropertyGFATotal              3173 non-null   int64  \n",
      " 9   LargestPropertyUseType        3104 non-null   object \n",
      " 10  YearsENERGYSTARCertified      183 non-null    object \n",
      " 11  ENERGYSTARScore               2104 non-null   float64\n",
      " 12  SiteEnergyUse(kBtu)           3173 non-null   float64\n",
      " 13  GHGEmissions(MetricTonsCO2e)  3173 non-null   float64\n",
      " 14  Outlier                       28 non-null     object \n",
      " 15  Latitude                      3173 non-null   float64\n",
      " 16  Longitude                     3173 non-null   float64\n",
      " 17  Address                       3173 non-null   object \n",
      " 18  City                          3173 non-null   object \n",
      " 19  State                         3173 non-null   object \n",
      " 20  ZipCode                       3160 non-null   float64\n",
      " 21  AgeofBuilding                 3173 non-null   int64  \n",
      " 22  MeanBuildingGFA               3173 non-null   float64\n",
      " 23  MeanFloorGFA                  3173 non-null   float64\n",
      " 24  BuildingGFApct                3173 non-null   float64\n",
      " 25  ParkingGFApct                 3173 non-null   float64\n",
      "dtypes: float64(12), int64(4), object(10)\n",
      "memory usage: 644.6+ KB\n"
     ]
    }
   ],
   "source": [
    "target_features = ['SiteEnergyUse(kBtu)','GHGEmissions(MetricTonsCO2e)']\n",
    "df_data.info()"
   ]
  },
  {
   "cell_type": "code",
   "execution_count": 616,
   "id": "df1e7ae3",
   "metadata": {},
   "outputs": [],
   "source": [
    "non_reg = ['YearsENERGYSTARCertified']\n",
    "df_data.drop(non_reg, axis=1, inplace=True)"
   ]
  },
  {
   "cell_type": "code",
   "execution_count": 617,
   "id": "4f4f1817",
   "metadata": {},
   "outputs": [],
   "source": [
    "loc_features = ['Outlier', 'OSEBuildingID', 'PropertyName', 'Address', 'City', 'State', 'ZipCode']\n",
    "df_data_loc = df_data[loc_features]\n",
    "df_data.drop(loc_features, axis=1, inplace = True)"
   ]
  },
  {
   "cell_type": "code",
   "execution_count": 618,
   "id": "4b6973ab",
   "metadata": {},
   "outputs": [],
   "source": [
    "space = ['Latitude', 'Longitude']\n",
    "df_data_nonloc = df_data.drop(space, axis=1)"
   ]
  },
  {
   "cell_type": "code",
   "execution_count": 619,
   "id": "d971575d",
   "metadata": {},
   "outputs": [],
   "source": [
    "df_data_non_ener = df_data_nonloc.drop(['ENERGYSTARScore'], axis=1)\n",
    "df_data_non_ener['DataYear'] = df_data_non_ener['DataYear'].astype(str)"
   ]
  },
  {
   "cell_type": "code",
   "execution_count": 620,
   "id": "44449858",
   "metadata": {
    "scrolled": true
   },
   "outputs": [
    {
     "name": "stdout",
     "output_type": "stream",
     "text": [
      "<class 'pandas.core.frame.DataFrame'>\n",
      "RangeIndex: 3173 entries, 0 to 3172\n",
      "Data columns (total 15 columns):\n",
      " #   Column                        Non-Null Count  Dtype  \n",
      "---  ------                        --------------  -----  \n",
      " 0   DataYear                      3173 non-null   object \n",
      " 1   BuildingType                  3173 non-null   object \n",
      " 2   PrimaryPropertyType           3173 non-null   object \n",
      " 3   Neighborhood                  3173 non-null   object \n",
      " 4   NumberofBuildings             3173 non-null   float64\n",
      " 5   NumberofFloors                3173 non-null   float64\n",
      " 6   PropertyGFATotal              3173 non-null   int64  \n",
      " 7   LargestPropertyUseType        3104 non-null   object \n",
      " 8   SiteEnergyUse(kBtu)           3173 non-null   float64\n",
      " 9   GHGEmissions(MetricTonsCO2e)  3173 non-null   float64\n",
      " 10  AgeofBuilding                 3173 non-null   int64  \n",
      " 11  MeanBuildingGFA               3173 non-null   float64\n",
      " 12  MeanFloorGFA                  3173 non-null   float64\n",
      " 13  BuildingGFApct                3173 non-null   float64\n",
      " 14  ParkingGFApct                 3173 non-null   float64\n",
      "dtypes: float64(8), int64(2), object(5)\n",
      "memory usage: 372.0+ KB\n"
     ]
    }
   ],
   "source": [
    "df_data_non_ener.info()"
   ]
  },
  {
   "cell_type": "code",
   "execution_count": 621,
   "id": "711e6cbf",
   "metadata": {},
   "outputs": [],
   "source": [
    "#df_data_non_ener['LargestPropertyUseType'] = df_data_non_ener['LargestPropertyUseType'].fillna(\"Nodata\")"
   ]
  },
  {
   "cell_type": "code",
   "execution_count": 622,
   "id": "9f356d5b",
   "metadata": {},
   "outputs": [],
   "source": [
    "numerical_features = df_data_non_ener.select_dtypes(include=['int64','float64'])\n",
    "categorical_features = df_data_non_ener.select_dtypes(exclude=['int64','float64']) "
   ]
  },
  {
   "cell_type": "code",
   "execution_count": 623,
   "id": "af0b578c",
   "metadata": {},
   "outputs": [
    {
     "name": "stdout",
     "output_type": "stream",
     "text": [
      "<class 'pandas.core.frame.DataFrame'>\n",
      "RangeIndex: 3173 entries, 0 to 3172\n",
      "Data columns (total 10 columns):\n",
      " #   Column                        Non-Null Count  Dtype  \n",
      "---  ------                        --------------  -----  \n",
      " 0   NumberofBuildings             3173 non-null   float64\n",
      " 1   NumberofFloors                3173 non-null   float64\n",
      " 2   PropertyGFATotal              3173 non-null   int64  \n",
      " 3   SiteEnergyUse(kBtu)           3173 non-null   float64\n",
      " 4   GHGEmissions(MetricTonsCO2e)  3173 non-null   float64\n",
      " 5   AgeofBuilding                 3173 non-null   int64  \n",
      " 6   MeanBuildingGFA               3173 non-null   float64\n",
      " 7   MeanFloorGFA                  3173 non-null   float64\n",
      " 8   BuildingGFApct                3173 non-null   float64\n",
      " 9   ParkingGFApct                 3173 non-null   float64\n",
      "dtypes: float64(8), int64(2)\n",
      "memory usage: 248.0 KB\n"
     ]
    }
   ],
   "source": [
    "numerical_features.info()"
   ]
  },
  {
   "cell_type": "code",
   "execution_count": 624,
   "id": "af7e59f5",
   "metadata": {
    "scrolled": false
   },
   "outputs": [
    {
     "name": "stdout",
     "output_type": "stream",
     "text": [
      "<class 'pandas.core.frame.DataFrame'>\n",
      "RangeIndex: 3173 entries, 0 to 3172\n",
      "Data columns (total 5 columns):\n",
      " #   Column                  Non-Null Count  Dtype \n",
      "---  ------                  --------------  ----- \n",
      " 0   DataYear                3173 non-null   object\n",
      " 1   BuildingType            3173 non-null   object\n",
      " 2   PrimaryPropertyType     3173 non-null   object\n",
      " 3   Neighborhood            3173 non-null   object\n",
      " 4   LargestPropertyUseType  3104 non-null   object\n",
      "dtypes: object(5)\n",
      "memory usage: 124.1+ KB\n"
     ]
    }
   ],
   "source": [
    "categorical_features.info()"
   ]
  },
  {
   "cell_type": "markdown",
   "id": "6ca692ee",
   "metadata": {},
   "source": [
    "### LINEAR REGRESSION and its variants - No Optimization"
   ]
  },
  {
   "cell_type": "markdown",
   "id": "cb676366",
   "metadata": {},
   "source": [
    "In order to create a regression model that can the numerical features to the Energy Use or GHG Emissions, a baseline model will be built to get a basis for comparison. Linear regression will then be computed and compared to the baseline to check any improvement in our model.\n",
    "\n",
    "Step 1: __DATA SELECTION__"
   ]
  },
  {
   "cell_type": "code",
   "execution_count": 625,
   "id": "b0ef87ab",
   "metadata": {},
   "outputs": [],
   "source": [
    "# Data Selection \n",
    "y = df_data_non_ener['SiteEnergyUse(kBtu)'].values\n",
    "X = numerical_features.drop(target_features, axis=1)\n"
   ]
  },
  {
   "cell_type": "markdown",
   "id": "89f9d091",
   "metadata": {},
   "source": [
    "Step 2: __STANDARDIZATION__<br>\n",
    "\n",
    "StandardScaler standardizes a feature by subtracting the mean and then scaling to unit variance. Unit variance means dividing all the values by the standard deviation. StandardScaler results in a distribution with a standard deviation equal to 1. "
   ]
  },
  {
   "cell_type": "code",
   "execution_count": 626,
   "id": "4bc0b589",
   "metadata": {},
   "outputs": [],
   "source": [
    "# Standardization\n",
    "from sklearn.preprocessing import StandardScaler\n",
    "scaler = StandardScaler()\n",
    "scaler.fit(X)\n",
    "X_scaled = scaler.transform(X)"
   ]
  },
  {
   "cell_type": "markdown",
   "id": "81df5f5f",
   "metadata": {},
   "source": [
    "Step 3: __TRAIN-TEST SPLIT EVALUATION__<br>\n",
    "\n",
    "The procedure involves taking a dataset and dividing it into two subsets. The first subset is used to fit the model and is referred to as the training dataset. The second subset is not used to train the model; instead, the input element of the dataset is provided to the model, then predictions are made and compared to the expected values. This second dataset is referred to as the test dataset.<br>\n",
    "The objective is to estimate the performance of the machine learning model on new data: data not used to train the model."
   ]
  },
  {
   "cell_type": "code",
   "execution_count": 627,
   "id": "9e832a5d",
   "metadata": {},
   "outputs": [],
   "source": [
    "from sklearn.model_selection import train_test_split, cross_val_score\n",
    "X_train, X_test, y_train, y_test = train_test_split(X_scaled, y, test_size=0.3, random_state=42)\n"
   ]
  },
  {
   "cell_type": "markdown",
   "id": "6f44442a",
   "metadata": {},
   "source": [
    "Step 4: __BASELINE CREATION__<br>\n",
    "\n",
    "The Dummy Regressor is a kind of Regressor that gives prediction based on simple strategies without paying any attention to the input Data. The sklearn library provides Dummy Regressor which is used to set up a baseline for comparing different regressions. Training the dummy model is similar to training any regular regression model, except for the strategies. The main role of strategy is to predict target values without any influence of the training data.<br> We are here using the strategy \"mean\" which is the default strategy used by the Dummy Regressor. It always predicts the mean of the training target values."
   ]
  },
  {
   "cell_type": "code",
   "execution_count": 628,
   "id": "ccd86649",
   "metadata": {},
   "outputs": [],
   "source": [
    "from sklearn.dummy import DummyRegressor\n",
    "dummy_reg = DummyRegressor(strategy=\"mean\")\n",
    "dummy_reg.fit(X_train, y_train)\n",
    "dummy_pred = dummy_reg.predict(X_test)"
   ]
  },
  {
   "cell_type": "markdown",
   "id": "fe264c7e",
   "metadata": {},
   "source": [
    "To evaluate our regression model, we compute few meaningful prameters to estimate how far our predictions are from the actual data:\n",
    "\n",
    "__MAE__ is the sum of absolute differences between our target and predicted variables.<br>\n",
    "__MSE__ measures the average squared difference between the estimated values and the actual value.<br>\n",
    "__RMSE__ is the standard deviation of the residuals.<br>\n",
    "__RSS__ is the residuals sum of squares.<br>\n",
    "__R²__ is the coefficient of determination and evaluates the scatter of the data points around the fitted regression line."
   ]
  },
  {
   "cell_type": "code",
   "execution_count": 629,
   "id": "35cf9285",
   "metadata": {},
   "outputs": [
    {
     "data": {
      "text/html": [
       "<div>\n",
       "<style scoped>\n",
       "    .dataframe tbody tr th:only-of-type {\n",
       "        vertical-align: middle;\n",
       "    }\n",
       "\n",
       "    .dataframe tbody tr th {\n",
       "        vertical-align: top;\n",
       "    }\n",
       "\n",
       "    .dataframe thead th {\n",
       "        text-align: right;\n",
       "    }\n",
       "</style>\n",
       "<table border=\"1\" class=\"dataframe\">\n",
       "  <thead>\n",
       "    <tr style=\"text-align: right;\">\n",
       "      <th></th>\n",
       "      <th>Functions</th>\n",
       "      <th>Baseline</th>\n",
       "    </tr>\n",
       "  </thead>\n",
       "  <tbody>\n",
       "    <tr>\n",
       "      <th>1</th>\n",
       "      <td>Mean Squared Error (MSE)</td>\n",
       "      <td>3.767654e+14</td>\n",
       "    </tr>\n",
       "    <tr>\n",
       "      <th>2</th>\n",
       "      <td>Residual Sum of Squares (RSS)</td>\n",
       "      <td>3.586807e+17</td>\n",
       "    </tr>\n",
       "    <tr>\n",
       "      <th>3</th>\n",
       "      <td>Root Mean Squared Error (RMSE)</td>\n",
       "      <td>1.941045e+07</td>\n",
       "    </tr>\n",
       "    <tr>\n",
       "      <th>4</th>\n",
       "      <td>Mean Absolute Error (MAE)</td>\n",
       "      <td>8.665980e+06</td>\n",
       "    </tr>\n",
       "    <tr>\n",
       "      <th>5</th>\n",
       "      <td>Coefficient of determination (R²)</td>\n",
       "      <td>-5.615692e-04</td>\n",
       "    </tr>\n",
       "  </tbody>\n",
       "</table>\n",
       "</div>"
      ],
      "text/plain": [
       "                           Functions      Baseline\n",
       "1           Mean Squared Error (MSE)  3.767654e+14\n",
       "2      Residual Sum of Squares (RSS)  3.586807e+17\n",
       "3     Root Mean Squared Error (RMSE)  1.941045e+07\n",
       "4          Mean Absolute Error (MAE)  8.665980e+06\n",
       "5  Coefficient of determination (R²) -5.615692e-04"
      ]
     },
     "execution_count": 629,
     "metadata": {},
     "output_type": "execute_result"
    }
   ],
   "source": [
    "from sklearn.metrics import mean_absolute_error\n",
    "from sklearn.metrics import mean_squared_error\n",
    "from sklearn.metrics import r2_score\n",
    "\n",
    "def algo_model(y_actual, y_forecast):\n",
    "    \"\"\"Return metrics for model evaluation in regression\"\"\"\n",
    "    \n",
    "    y_actual, y_forecast = np.array(y_actual), np.array(y_forecast)\n",
    "    \n",
    "    rss = np.sum((y_actual - y_forecast)**2)\n",
    "    mse = mean_squared_error(y_actual, y_forecast)\n",
    "    rmse = np.sqrt(mse)\n",
    "    mae = mean_absolute_error(y_actual, y_forecast)\n",
    "    \n",
    "    functions = {\"Functions\":[\"Mean Squared Error (MSE)\", \"Residual Sum of Squares (RSS)\",\n",
    "                               \"Root Mean Squared Error (RMSE)\",\n",
    "                              \"Mean Absolute Error (MAE)\", \"Coefficient of determination (R²)\"],\n",
    "                              \"Results\":[mse, rss, rmse, mae, r2_score(y_actual, y_forecast)]}\n",
    "    \n",
    "    df_functions = pd.DataFrame(functions) \n",
    "    return df_functions\n",
    "\n",
    "dummy_metrics = algo_model(y_test, dummy_pred).rename(columns={'Results':'Baseline'})\n",
    "dummy_metrics.index = np.arange(1, len(dummy_metrics)+1)\n",
    "dummy_metrics"
   ]
  },
  {
   "cell_type": "markdown",
   "id": "51ba074a",
   "metadata": {},
   "source": [
    "As can be seen from the above result, the expected Dummy Regressor always predict the R² score as 0, since it is always predicting a constant without having an insight of the output. This baseline will be a useful point for comparison with our linear regression."
   ]
  },
  {
   "cell_type": "markdown",
   "id": "21682637",
   "metadata": {},
   "source": [
    "Step 5-1: __LINEAR REGRESSION__<br>\n"
   ]
  },
  {
   "cell_type": "markdown",
   "id": "83d120b9",
   "metadata": {},
   "source": [
    "The simplest form of regression is the linear regression, which assumes that the predictors have a linear relationship with the target variable. The input variables are assumed to have a Gaussian distribution. Another assumption is that the predictors are not highly correlated with each other (a problem called multi-collinearity)."
   ]
  },
  {
   "cell_type": "code",
   "execution_count": 630,
   "id": "ebb089d9",
   "metadata": {},
   "outputs": [
    {
     "data": {
      "text/html": [
       "<div>\n",
       "<style scoped>\n",
       "    .dataframe tbody tr th:only-of-type {\n",
       "        vertical-align: middle;\n",
       "    }\n",
       "\n",
       "    .dataframe tbody tr th {\n",
       "        vertical-align: top;\n",
       "    }\n",
       "\n",
       "    .dataframe thead th {\n",
       "        text-align: right;\n",
       "    }\n",
       "</style>\n",
       "<table border=\"1\" class=\"dataframe\">\n",
       "  <thead>\n",
       "    <tr style=\"text-align: right;\">\n",
       "      <th></th>\n",
       "      <th>Functions</th>\n",
       "      <th>Baseline</th>\n",
       "      <th>Linear Regression</th>\n",
       "    </tr>\n",
       "  </thead>\n",
       "  <tbody>\n",
       "    <tr>\n",
       "      <th>1</th>\n",
       "      <td>Mean Squared Error (MSE)</td>\n",
       "      <td>3.767654e+14</td>\n",
       "      <td>2.192667e+14</td>\n",
       "    </tr>\n",
       "    <tr>\n",
       "      <th>2</th>\n",
       "      <td>Residual Sum of Squares (RSS)</td>\n",
       "      <td>3.586807e+17</td>\n",
       "      <td>2.087419e+17</td>\n",
       "    </tr>\n",
       "    <tr>\n",
       "      <th>3</th>\n",
       "      <td>Root Mean Squared Error (RMSE)</td>\n",
       "      <td>1.941045e+07</td>\n",
       "      <td>1.480766e+07</td>\n",
       "    </tr>\n",
       "    <tr>\n",
       "      <th>4</th>\n",
       "      <td>Mean Absolute Error (MAE)</td>\n",
       "      <td>8.665980e+06</td>\n",
       "      <td>5.331719e+06</td>\n",
       "    </tr>\n",
       "    <tr>\n",
       "      <th>5</th>\n",
       "      <td>Coefficient of determination (R²)</td>\n",
       "      <td>-0.000000e+00</td>\n",
       "      <td>4.200000e-01</td>\n",
       "    </tr>\n",
       "  </tbody>\n",
       "</table>\n",
       "</div>"
      ],
      "text/plain": [
       "                           Functions      Baseline  Linear Regression\n",
       "1           Mean Squared Error (MSE)  3.767654e+14       2.192667e+14\n",
       "2      Residual Sum of Squares (RSS)  3.586807e+17       2.087419e+17\n",
       "3     Root Mean Squared Error (RMSE)  1.941045e+07       1.480766e+07\n",
       "4          Mean Absolute Error (MAE)  8.665980e+06       5.331719e+06\n",
       "5  Coefficient of determination (R²) -0.000000e+00       4.200000e-01"
      ]
     },
     "execution_count": 630,
     "metadata": {},
     "output_type": "execute_result"
    }
   ],
   "source": [
    "from sklearn.linear_model import LinearRegression\n",
    "regr = LinearRegression()\n",
    "regr.fit(X_train, y_train)\n",
    "regr_forecast = regr.predict(X_test)\n",
    "regr_metrics = algo_model(y_test, regr_forecast).rename(columns={'Results':'Linear Regression'})\n",
    "regr_metrics.index = np.arange(1, len(regr_metrics)+1)\n",
    "regr_metrics = pd.concat([dummy_metrics,regr_metrics['Linear Regression']], axis=1)\n",
    "round(regr_metrics, 2)"
   ]
  },
  {
   "cell_type": "markdown",
   "id": "19ef8a52",
   "metadata": {},
   "source": [
    "As seen in this table, the coefficient of determination R² is much better than for the baseline which indicates that the performed linear regression is a better fit for our data but still far away from a golden solution which would approach 1 in ideal conditions. Plotting the acual data vs. the forecasts, we can have a display of the trends of the data."
   ]
  },
  {
   "cell_type": "code",
   "execution_count": 631,
   "id": "888eaa4c",
   "metadata": {
    "scrolled": true
   },
   "outputs": [
    {
     "data": {
      "image/png": "[encoded data removed]",
      "text/plain": [
       "<Figure size 720x432 with 1 Axes>"
      ]
     },
     "metadata": {
      "needs_background": "light"
     },
     "output_type": "display_data"
    }
   ],
   "source": [
    "def forecast_comp(y_actual, y_forecast):\n",
    "    X_plot = [y_actual.min(), y_actual.max()]\n",
    "    fig = plt.figure(figsize=(10,6))\n",
    "    plt.scatter(y_actual, y_forecast, color='black')\n",
    "    plt.plot(X_plot, X_plot, color='g')\n",
    "    plt.xlabel(\"Actual values\", weight = \"bold\", fontsize=12)\n",
    "    plt.ylabel(\"Forecasts\", weight = \"bold\", fontsize=12)\n",
    "    plt.title(\"Site Energy Use - Comparison of Actual and Forecasts\", weight = \"bold\", fontsize=16)\n",
    "    plt.show()\n",
    "forecast_comp(y_actual=y_test, y_forecast = regr_forecast)\n"
   ]
  },
  {
   "cell_type": "markdown",
   "id": "65f2e84c",
   "metadata": {},
   "source": [
    "Step 5-2: __RIDGE REGRESSION__<br>"
   ]
  },
  {
   "cell_type": "markdown",
   "id": "f949bf29",
   "metadata": {},
   "source": [
    "Ridge regression is an extension of linear regression where the loss function is modified to minimize the complexity of the model. This modification is done by adding a penalty parameter that is equivalent to the square of the magnitude of the coefficients."
   ]
  },
  {
   "cell_type": "code",
   "execution_count": 632,
   "id": "7bcee50c",
   "metadata": {},
   "outputs": [
    {
     "data": {
      "text/html": [
       "<div>\n",
       "<style scoped>\n",
       "    .dataframe tbody tr th:only-of-type {\n",
       "        vertical-align: middle;\n",
       "    }\n",
       "\n",
       "    .dataframe tbody tr th {\n",
       "        vertical-align: top;\n",
       "    }\n",
       "\n",
       "    .dataframe thead th {\n",
       "        text-align: right;\n",
       "    }\n",
       "</style>\n",
       "<table border=\"1\" class=\"dataframe\">\n",
       "  <thead>\n",
       "    <tr style=\"text-align: right;\">\n",
       "      <th></th>\n",
       "      <th>Functions</th>\n",
       "      <th>Baseline</th>\n",
       "      <th>Linear Regression</th>\n",
       "      <th>Ridge Regression</th>\n",
       "    </tr>\n",
       "  </thead>\n",
       "  <tbody>\n",
       "    <tr>\n",
       "      <th>1</th>\n",
       "      <td>Mean Squared Error (MSE)</td>\n",
       "      <td>3.767654e+14</td>\n",
       "      <td>2.192667e+14</td>\n",
       "      <td>2.186133e+14</td>\n",
       "    </tr>\n",
       "    <tr>\n",
       "      <th>2</th>\n",
       "      <td>Residual Sum of Squares (RSS)</td>\n",
       "      <td>3.586807e+17</td>\n",
       "      <td>2.087419e+17</td>\n",
       "      <td>2.081199e+17</td>\n",
       "    </tr>\n",
       "    <tr>\n",
       "      <th>3</th>\n",
       "      <td>Root Mean Squared Error (RMSE)</td>\n",
       "      <td>1.941045e+07</td>\n",
       "      <td>1.480766e+07</td>\n",
       "      <td>1.478558e+07</td>\n",
       "    </tr>\n",
       "    <tr>\n",
       "      <th>4</th>\n",
       "      <td>Mean Absolute Error (MAE)</td>\n",
       "      <td>8.665980e+06</td>\n",
       "      <td>5.331719e+06</td>\n",
       "      <td>5.324672e+06</td>\n",
       "    </tr>\n",
       "    <tr>\n",
       "      <th>5</th>\n",
       "      <td>Coefficient of determination (R²)</td>\n",
       "      <td>-0.000000e+00</td>\n",
       "      <td>4.200000e-01</td>\n",
       "      <td>4.200000e-01</td>\n",
       "    </tr>\n",
       "  </tbody>\n",
       "</table>\n",
       "</div>"
      ],
      "text/plain": [
       "                           Functions      Baseline  Linear Regression  \\\n",
       "1           Mean Squared Error (MSE)  3.767654e+14       2.192667e+14   \n",
       "2      Residual Sum of Squares (RSS)  3.586807e+17       2.087419e+17   \n",
       "3     Root Mean Squared Error (RMSE)  1.941045e+07       1.480766e+07   \n",
       "4          Mean Absolute Error (MAE)  8.665980e+06       5.331719e+06   \n",
       "5  Coefficient of determination (R²) -0.000000e+00       4.200000e-01   \n",
       "\n",
       "   Ridge Regression  \n",
       "1      2.186133e+14  \n",
       "2      2.081199e+17  \n",
       "3      1.478558e+07  \n",
       "4      5.324672e+06  \n",
       "5      4.200000e-01  "
      ]
     },
     "execution_count": 632,
     "metadata": {},
     "output_type": "execute_result"
    }
   ],
   "source": [
    "\n",
    "rr = Ridge(alpha=1)\n",
    "rr.fit(X_train, y_train) \n",
    "rr_forecast= rr.predict(X_test)\n",
    "ridge_metrics = algo_model(y_test, rr_forecast).rename(columns={'Results':'Ridge Regression'})\n",
    "ridge_metrics.index = np.arange(1, len(ridge_metrics)+1)\n",
    "ridge_metrics = pd.concat([regr_metrics,ridge_metrics['Ridge Regression']], axis=1)\n",
    "round(ridge_metrics, 2)\n"
   ]
  },
  {
   "cell_type": "markdown",
   "id": "989ff463",
   "metadata": {},
   "source": [
    "Step 5-3: __LASSO REGRESSION__<br>"
   ]
  },
  {
   "cell_type": "markdown",
   "id": "e15e09ab",
   "metadata": {},
   "source": [
    "Lasso regression, or the Least Absolute Shrinkage and Selection Operator, is also a modification of linear regression. In Lasso, the loss function is modified to minimize the complexity of the model by limiting the sum of the absolute values of the model coefficients (also called the l1-norm)."
   ]
  },
  {
   "cell_type": "code",
   "execution_count": 633,
   "id": "7027c558",
   "metadata": {
    "scrolled": true
   },
   "outputs": [
    {
     "data": {
      "text/html": [
       "<div>\n",
       "<style scoped>\n",
       "    .dataframe tbody tr th:only-of-type {\n",
       "        vertical-align: middle;\n",
       "    }\n",
       "\n",
       "    .dataframe tbody tr th {\n",
       "        vertical-align: top;\n",
       "    }\n",
       "\n",
       "    .dataframe thead th {\n",
       "        text-align: right;\n",
       "    }\n",
       "</style>\n",
       "<table border=\"1\" class=\"dataframe\">\n",
       "  <thead>\n",
       "    <tr style=\"text-align: right;\">\n",
       "      <th></th>\n",
       "      <th>Functions</th>\n",
       "      <th>Baseline</th>\n",
       "      <th>Linear Regression</th>\n",
       "      <th>Ridge Regression</th>\n",
       "      <th>Lasso Regression</th>\n",
       "    </tr>\n",
       "  </thead>\n",
       "  <tbody>\n",
       "    <tr>\n",
       "      <th>1</th>\n",
       "      <td>Mean Squared Error (MSE)</td>\n",
       "      <td>3.767654e+14</td>\n",
       "      <td>2.192667e+14</td>\n",
       "      <td>2.186133e+14</td>\n",
       "      <td>2.192667e+14</td>\n",
       "    </tr>\n",
       "    <tr>\n",
       "      <th>2</th>\n",
       "      <td>Residual Sum of Squares (RSS)</td>\n",
       "      <td>3.586807e+17</td>\n",
       "      <td>2.087419e+17</td>\n",
       "      <td>2.081199e+17</td>\n",
       "      <td>2.087419e+17</td>\n",
       "    </tr>\n",
       "    <tr>\n",
       "      <th>3</th>\n",
       "      <td>Root Mean Squared Error (RMSE)</td>\n",
       "      <td>1.941045e+07</td>\n",
       "      <td>1.480766e+07</td>\n",
       "      <td>1.478558e+07</td>\n",
       "      <td>1.480766e+07</td>\n",
       "    </tr>\n",
       "    <tr>\n",
       "      <th>4</th>\n",
       "      <td>Mean Absolute Error (MAE)</td>\n",
       "      <td>8.665980e+06</td>\n",
       "      <td>5.331719e+06</td>\n",
       "      <td>5.324672e+06</td>\n",
       "      <td>5.331718e+06</td>\n",
       "    </tr>\n",
       "    <tr>\n",
       "      <th>5</th>\n",
       "      <td>Coefficient of determination (R²)</td>\n",
       "      <td>-0.000000e+00</td>\n",
       "      <td>4.200000e-01</td>\n",
       "      <td>4.200000e-01</td>\n",
       "      <td>4.200000e-01</td>\n",
       "    </tr>\n",
       "  </tbody>\n",
       "</table>\n",
       "</div>"
      ],
      "text/plain": [
       "                           Functions      Baseline  Linear Regression  \\\n",
       "1           Mean Squared Error (MSE)  3.767654e+14       2.192667e+14   \n",
       "2      Residual Sum of Squares (RSS)  3.586807e+17       2.087419e+17   \n",
       "3     Root Mean Squared Error (RMSE)  1.941045e+07       1.480766e+07   \n",
       "4          Mean Absolute Error (MAE)  8.665980e+06       5.331719e+06   \n",
       "5  Coefficient of determination (R²) -0.000000e+00       4.200000e-01   \n",
       "\n",
       "   Ridge Regression  Lasso Regression  \n",
       "1      2.186133e+14      2.192667e+14  \n",
       "2      2.081199e+17      2.087419e+17  \n",
       "3      1.478558e+07      1.480766e+07  \n",
       "4      5.324672e+06      5.331718e+06  \n",
       "5      4.200000e-01      4.200000e-01  "
      ]
     },
     "execution_count": 633,
     "metadata": {},
     "output_type": "execute_result"
    }
   ],
   "source": [
    "model_lasso = Lasso(alpha=1)\n",
    "model_lasso.fit(X_train, y_train) \n",
    "lasso_forecast= model_lasso.predict(X_test)\n",
    "lasso_metrics = algo_model(y_test, lasso_forecast).rename(columns={'Results':'Lasso Regression'})\n",
    "lasso_metrics.index = np.arange(1, len(lasso_metrics)+1)\n",
    "lasso_metrics = pd.concat([ridge_metrics,lasso_metrics['Lasso Regression']], axis=1)\n",
    "round(lasso_metrics, 2)\n"
   ]
  },
  {
   "cell_type": "markdown",
   "id": "b8d3f2f0",
   "metadata": {},
   "source": [
    "Step 5-3: __ELASTICNET REGRESSION__<br>"
   ]
  },
  {
   "cell_type": "markdown",
   "id": "738c8cc9",
   "metadata": {},
   "source": [
    "ElasticNet combines the properties of both Ridge and Lasso regression. It works by penalizing the model using both the l2-norm and the l1-norm."
   ]
  },
  {
   "cell_type": "code",
   "execution_count": 634,
   "id": "9f1760ad",
   "metadata": {},
   "outputs": [
    {
     "data": {
      "text/html": [
       "<div>\n",
       "<style scoped>\n",
       "    .dataframe tbody tr th:only-of-type {\n",
       "        vertical-align: middle;\n",
       "    }\n",
       "\n",
       "    .dataframe tbody tr th {\n",
       "        vertical-align: top;\n",
       "    }\n",
       "\n",
       "    .dataframe thead th {\n",
       "        text-align: right;\n",
       "    }\n",
       "</style>\n",
       "<table border=\"1\" class=\"dataframe\">\n",
       "  <thead>\n",
       "    <tr style=\"text-align: right;\">\n",
       "      <th></th>\n",
       "      <th>Functions</th>\n",
       "      <th>Baseline</th>\n",
       "      <th>Linear Regression</th>\n",
       "      <th>Ridge Regression</th>\n",
       "      <th>Lasso Regression</th>\n",
       "      <th>ElasticNet Regression</th>\n",
       "    </tr>\n",
       "  </thead>\n",
       "  <tbody>\n",
       "    <tr>\n",
       "      <th>1</th>\n",
       "      <td>Mean Squared Error (MSE)</td>\n",
       "      <td>3.767654e+14</td>\n",
       "      <td>2.192667e+14</td>\n",
       "      <td>2.186133e+14</td>\n",
       "      <td>2.192667e+14</td>\n",
       "      <td>2.273809e+14</td>\n",
       "    </tr>\n",
       "    <tr>\n",
       "      <th>2</th>\n",
       "      <td>Residual Sum of Squares (RSS)</td>\n",
       "      <td>3.586807e+17</td>\n",
       "      <td>2.087419e+17</td>\n",
       "      <td>2.081199e+17</td>\n",
       "      <td>2.087419e+17</td>\n",
       "      <td>2.164666e+17</td>\n",
       "    </tr>\n",
       "    <tr>\n",
       "      <th>3</th>\n",
       "      <td>Root Mean Squared Error (RMSE)</td>\n",
       "      <td>1.941045e+07</td>\n",
       "      <td>1.480766e+07</td>\n",
       "      <td>1.478558e+07</td>\n",
       "      <td>1.480766e+07</td>\n",
       "      <td>1.507916e+07</td>\n",
       "    </tr>\n",
       "    <tr>\n",
       "      <th>4</th>\n",
       "      <td>Mean Absolute Error (MAE)</td>\n",
       "      <td>8.665980e+06</td>\n",
       "      <td>5.331719e+06</td>\n",
       "      <td>5.324672e+06</td>\n",
       "      <td>5.331718e+06</td>\n",
       "      <td>5.249495e+06</td>\n",
       "    </tr>\n",
       "    <tr>\n",
       "      <th>5</th>\n",
       "      <td>Coefficient of determination (R²)</td>\n",
       "      <td>-0.000000e+00</td>\n",
       "      <td>4.200000e-01</td>\n",
       "      <td>4.200000e-01</td>\n",
       "      <td>4.200000e-01</td>\n",
       "      <td>4.000000e-01</td>\n",
       "    </tr>\n",
       "  </tbody>\n",
       "</table>\n",
       "</div>"
      ],
      "text/plain": [
       "                           Functions      Baseline  Linear Regression  \\\n",
       "1           Mean Squared Error (MSE)  3.767654e+14       2.192667e+14   \n",
       "2      Residual Sum of Squares (RSS)  3.586807e+17       2.087419e+17   \n",
       "3     Root Mean Squared Error (RMSE)  1.941045e+07       1.480766e+07   \n",
       "4          Mean Absolute Error (MAE)  8.665980e+06       5.331719e+06   \n",
       "5  Coefficient of determination (R²) -0.000000e+00       4.200000e-01   \n",
       "\n",
       "   Ridge Regression  Lasso Regression  ElasticNet Regression  \n",
       "1      2.186133e+14      2.192667e+14           2.273809e+14  \n",
       "2      2.081199e+17      2.087419e+17           2.164666e+17  \n",
       "3      1.478558e+07      1.480766e+07           1.507916e+07  \n",
       "4      5.324672e+06      5.331718e+06           5.249495e+06  \n",
       "5      4.200000e-01      4.200000e-01           4.000000e-01  "
      ]
     },
     "execution_count": 634,
     "metadata": {},
     "output_type": "execute_result"
    }
   ],
   "source": [
    "model_enet = ElasticNet(alpha = 1)\n",
    "model_enet.fit(X_train, y_train) \n",
    "enet_forecast= model_enet.predict(X_test)\n",
    "enet_metrics = algo_model(y_test, enet_forecast).rename(columns={'Results':'ElasticNet Regression'})\n",
    "enet_metrics.index = np.arange(1, len(enet_metrics)+1)\n",
    "enet_metrics = pd.concat([lasso_metrics,enet_metrics['ElasticNet Regression']], axis=1)\n",
    "round(enet_metrics, 2)"
   ]
  },
  {
   "cell_type": "markdown",
   "id": "3cc68eb0",
   "metadata": {},
   "source": [
    "Regressions with numerical data only. Results "
   ]
  },
  {
   "cell_type": "markdown",
   "id": "f02707dd",
   "metadata": {},
   "source": [
    "### SECOND LINEAR REGRESSION: ONE HOT ENCODING"
   ]
  },
  {
   "cell_type": "markdown",
   "id": "a51ad59d",
   "metadata": {},
   "source": [
    "In order to improve our linear regression, we'll incorporate categorical variables and check if it gives values/improvement from our former linear regression.\n",
    "A one hot encoding is a representation of categorical variables as binary vectors.\n",
    "This first requires that the categorical values be mapped to integer values.\n",
    "Then, each integer value is represented as a binary vector that is all zero values except the index of the integer, which is marked with a 1. <br>"
   ]
  },
  {
   "cell_type": "code",
   "execution_count": 635,
   "id": "edfc5d10",
   "metadata": {
    "scrolled": false
   },
   "outputs": [
    {
     "data": {
      "text/html": [
       "<div>\n",
       "<style scoped>\n",
       "    .dataframe tbody tr th:only-of-type {\n",
       "        vertical-align: middle;\n",
       "    }\n",
       "\n",
       "    .dataframe tbody tr th {\n",
       "        vertical-align: top;\n",
       "    }\n",
       "\n",
       "    .dataframe thead th {\n",
       "        text-align: right;\n",
       "    }\n",
       "</style>\n",
       "<table border=\"1\" class=\"dataframe\">\n",
       "  <thead>\n",
       "    <tr style=\"text-align: right;\">\n",
       "      <th></th>\n",
       "      <th>Functions</th>\n",
       "      <th>Baseline</th>\n",
       "      <th>Linear Regression</th>\n",
       "      <th>Energy Use Lin</th>\n",
       "      <th>Energy Use Lasso</th>\n",
       "      <th>Energy Use Ridge</th>\n",
       "      <th>Energy Use ElasticNet</th>\n",
       "    </tr>\n",
       "  </thead>\n",
       "  <tbody>\n",
       "    <tr>\n",
       "      <th>1</th>\n",
       "      <td>Mean Squared Error (MSE)</td>\n",
       "      <td>3.767654e+14</td>\n",
       "      <td>2.192667e+14</td>\n",
       "      <td>1.313610e+14</td>\n",
       "      <td>1.312538e+14</td>\n",
       "      <td>1.283986e+14</td>\n",
       "      <td>2.210805e+14</td>\n",
       "    </tr>\n",
       "    <tr>\n",
       "      <th>2</th>\n",
       "      <td>Residual Sum of Squares (RSS)</td>\n",
       "      <td>3.586807e+17</td>\n",
       "      <td>2.087419e+17</td>\n",
       "      <td>1.250556e+17</td>\n",
       "      <td>1.249536e+17</td>\n",
       "      <td>1.222354e+17</td>\n",
       "      <td>2.104686e+17</td>\n",
       "    </tr>\n",
       "    <tr>\n",
       "      <th>3</th>\n",
       "      <td>Root Mean Squared Error (RMSE)</td>\n",
       "      <td>1.941045e+07</td>\n",
       "      <td>1.480766e+07</td>\n",
       "      <td>1.146128e+07</td>\n",
       "      <td>1.145660e+07</td>\n",
       "      <td>1.133131e+07</td>\n",
       "      <td>1.486878e+07</td>\n",
       "    </tr>\n",
       "    <tr>\n",
       "      <th>4</th>\n",
       "      <td>Mean Absolute Error (MAE)</td>\n",
       "      <td>8.665980e+06</td>\n",
       "      <td>5.331719e+06</td>\n",
       "      <td>4.846255e+06</td>\n",
       "      <td>4.835768e+06</td>\n",
       "      <td>4.799535e+06</td>\n",
       "      <td>5.078343e+06</td>\n",
       "    </tr>\n",
       "    <tr>\n",
       "      <th>5</th>\n",
       "      <td>Coefficient of determination (R²)</td>\n",
       "      <td>-1.000000e-03</td>\n",
       "      <td>4.180000e-01</td>\n",
       "      <td>6.510000e-01</td>\n",
       "      <td>6.510000e-01</td>\n",
       "      <td>6.590000e-01</td>\n",
       "      <td>4.130000e-01</td>\n",
       "    </tr>\n",
       "  </tbody>\n",
       "</table>\n",
       "</div>"
      ],
      "text/plain": [
       "                           Functions      Baseline  Linear Regression  \\\n",
       "1           Mean Squared Error (MSE)  3.767654e+14       2.192667e+14   \n",
       "2      Residual Sum of Squares (RSS)  3.586807e+17       2.087419e+17   \n",
       "3     Root Mean Squared Error (RMSE)  1.941045e+07       1.480766e+07   \n",
       "4          Mean Absolute Error (MAE)  8.665980e+06       5.331719e+06   \n",
       "5  Coefficient of determination (R²) -1.000000e-03       4.180000e-01   \n",
       "\n",
       "   Energy Use Lin  Energy Use Lasso  Energy Use Ridge  Energy Use ElasticNet  \n",
       "1    1.313610e+14      1.312538e+14      1.283986e+14           2.210805e+14  \n",
       "2    1.250556e+17      1.249536e+17      1.222354e+17           2.104686e+17  \n",
       "3    1.146128e+07      1.145660e+07      1.133131e+07           1.486878e+07  \n",
       "4    4.846255e+06      4.835768e+06      4.799535e+06           5.078343e+06  \n",
       "5    6.510000e-01      6.510000e-01      6.590000e-01           4.130000e-01  "
      ]
     },
     "execution_count": 635,
     "metadata": {},
     "output_type": "execute_result"
    }
   ],
   "source": [
    "from sklearn.preprocessing import OneHotEncoder\n",
    "from sklearn.compose import ColumnTransformer\n",
    "from sklearn.pipeline import Pipeline\n",
    "\n",
    "# We incorporate categories for Energy Use in the regression\n",
    "\n",
    "num_data = list(X.columns)\n",
    "cat_data = list(categorical_features.columns)\n",
    "categorical_transformer = OneHotEncoder(handle_unknown='ignore')\n",
    "\n",
    "preprocessor = ColumnTransformer(transformers=\n",
    "                                 [('num', scaler, num_data),\n",
    "                                  ('cat', categorical_transformer, cat_data)])\n",
    "\n",
    "pipe1 = Pipeline(steps=[('preprocessor', preprocessor),\n",
    "                             ('regressor', LinearRegression())])\n",
    "\n",
    "X1 = df_data_non_ener[num_data + cat_data]\n",
    "y1 = df_data_non_ener['SiteEnergyUse(kBtu)']\n",
    "\n",
    "X1_train, X1_test, y1_train, y1_test = train_test_split(X1, y1, test_size=0.3, random_state=42)\n",
    "\n",
    "pipe1.fit(X1_train, y1_train)\n",
    "\n",
    "cat1_forec = pipe1.predict(X1_test)\n",
    "\n",
    "cat1_metrics = algo_model(y1_test, cat1_forec).rename(columns={'Results':'Energy Use Lin'})\n",
    "cat1_metrics.index = np.arange(1, len(cat1_metrics)+1)\n",
    "cat1_metrics = pd.concat([regr_metrics,cat1_metrics['Energy Use Lin']], axis=1)\n",
    "\n",
    "#------------------------------------------------------------------------------------------\n",
    "\n",
    "pipe2 = Pipeline(steps=[('preprocessor', preprocessor),\n",
    "                             ('regressor', Lasso())])\n",
    "\n",
    "\n",
    "X2 = df_data_non_ener[num_data + cat_data]\n",
    "y2 = df_data_non_ener['SiteEnergyUse(kBtu)']\n",
    "\n",
    "X2_train, X2_test, y2_train, y2_test = train_test_split(X2, y2, test_size=0.3, random_state=42)\n",
    "\n",
    "pipe2.fit(X2_train, y2_train)\n",
    "cat12_forec = pipe2.predict(X2_test)\n",
    "\n",
    "cat12_metrics = algo_model(y2_test, cat12_forec).rename(columns={'Results':'Energy Use Lasso'})\n",
    "cat12_metrics.index = np.arange(1, len(cat12_metrics)+1)\n",
    "\n",
    "cat13_metrics = pd.concat([cat1_metrics,cat12_metrics['Energy Use Lasso']], axis=1)\n",
    "\n",
    "#----------------------------------------------------------------------------\n",
    "\n",
    "pipe3 = Pipeline(steps=[('preprocessor', preprocessor),\n",
    "                             ('regressor', Ridge())])\n",
    "\n",
    "\n",
    "X3 = df_data_non_ener[num_data + cat_data]\n",
    "y3 = df_data_non_ener['SiteEnergyUse(kBtu)']\n",
    "\n",
    "X3_train, X3_test, y3_train, y3_test = train_test_split(X3, y3, test_size=0.3, random_state=42)\n",
    "\n",
    "pipe3.fit(X3_train, y3_train)\n",
    "cat23_forec = pipe3.predict(X3_test)\n",
    "\n",
    "cat23_metrics = algo_model(y3_test, cat23_forec).rename(columns={'Results':'Energy Use Ridge'})\n",
    "cat23_metrics.index = np.arange(1, len(cat23_metrics)+1)\n",
    "\n",
    "cat23_metrics = pd.concat([cat13_metrics,cat23_metrics['Energy Use Ridge']], axis=1)\n",
    "\n",
    "#---------------------------------------------------------------------------------------------\n",
    "pipe4 = Pipeline(steps=[('preprocessor', preprocessor),\n",
    "                             ('regressor', ElasticNet())])\n",
    "\n",
    "\n",
    "X4 = df_data_non_ener[num_data + cat_data]\n",
    "y4 = df_data_non_ener['SiteEnergyUse(kBtu)']\n",
    "\n",
    "X4_train, X4_test, y4_train, y4_test = train_test_split(X4, y4, test_size=0.3, random_state=42)\n",
    "\n",
    "pipe4.fit(X4_train, y4_train)\n",
    "cat34_forec = pipe4.predict(X4_test)\n",
    "\n",
    "cat34_metrics = algo_model(y4_test, cat34_forec).rename(columns={'Results':'Energy Use ElasticNet'})\n",
    "cat34_metrics.index = np.arange(1, len(cat34_metrics)+1)\n",
    "\n",
    "cat34_metrics = pd.concat([cat23_metrics,cat34_metrics['Energy Use ElasticNet']], axis=1)\n",
    "#cat34_metrics.style.set_table_attributes(\"style='display:inline'\").set_caption('Caption table')\n",
    "round(cat34_metrics, 3)"
   ]
  },
  {
   "cell_type": "code",
   "execution_count": null,
   "id": "efdd62e0",
   "metadata": {},
   "outputs": [],
   "source": []
  },
  {
   "cell_type": "markdown",
   "id": "8d02a247",
   "metadata": {},
   "source": [
    "__OPTIMIZATION OF THE DIFFERENT REGRESSIONS THROUGH GRIDSEARCHCV__"
   ]
  },
  {
   "cell_type": "markdown",
   "id": "1076633e",
   "metadata": {},
   "source": [
    "__Linear regression__"
   ]
  },
  {
   "cell_type": "code",
   "execution_count": 636,
   "id": "4de22533",
   "metadata": {
    "scrolled": true
   },
   "outputs": [
    {
     "name": "stdout",
     "output_type": "stream",
     "text": [
      "MAE Train: 4316342.36\n",
      "R2 Train: 0.45\n",
      "Best parameters: {'regressor__fit_intercept': True, 'regressor__normalize': True}\n",
      "Best score: -4753595.976424834\n",
      "Running Time: 1.359668254852295 seconds\n"
     ]
    }
   ],
   "source": [
    "from sklearn.model_selection import GridSearchCV\n",
    "\n",
    "# We incorporate categories for Energy Use in the regression\n",
    "\n",
    "import time\n",
    "start_time1 = time.time()\n",
    "\n",
    "num_data = list(X.columns)\n",
    "cat_data = list(categorical_features.columns)\n",
    "categorical_transformer = OneHotEncoder(handle_unknown='ignore')\n",
    "\n",
    "preprocessor = ColumnTransformer(transformers=\n",
    "                                 [('num', scaler, num_data),\n",
    "                                  ('cat', categorical_transformer, cat_data)])\n",
    "\n",
    "pipe = Pipeline(steps=[('preprocessor', preprocessor),\n",
    "                       ('regressor', LinearRegression())])\n",
    "\n",
    "X = df_data_non_ener[num_data + cat_data]\n",
    "y = df_data_non_ener['SiteEnergyUse(kBtu)']\n",
    "\n",
    "X_train, X_test, y_train, y_test = train_test_split(X, y, test_size=0.3, random_state=42)\n",
    "\n",
    "\n",
    "params = {\"regressor__fit_intercept\": [True, False], # Whether to calculate the intercept for this model\n",
    "          \"regressor__normalize\": [True, False]}\n",
    "\n",
    "grid_cv = GridSearchCV(pipe, \n",
    "                       param_grid=params, # Dictionary with parameters names\n",
    "                       cv=5, # Determines the cross-validation splitting strategy\n",
    "                       scoring=('r2','neg_mean_absolute_error'), # Strategy to evaluate the performance of the cross-validated model on the test set\n",
    "                       return_train_score = True, # If False, the cv_results_ attribute will not include training scores\n",
    "                       refit='neg_mean_absolute_error', #Refit an estimator using the best found parameters on the whole dataset\n",
    "                       n_jobs = -1) # Number of jobs to run in parallel\n",
    "\n",
    "grid_cv.fit(X_train, y_train)\n",
    "\n",
    "y_pred=grid_cv.predict(X_train)\n",
    "mae_train1 = mean_absolute_error(y_pred,y_train)\n",
    "r2_train1 = r2_score(y_pred,y_train)\n",
    "print(\"MAE Train: %.2f\" % mae_train1)\n",
    "print(\"R2 Train: %.2f\" % r2_train1)\n",
    "print('Best parameters:', grid_cv.best_params_)\n",
    "print('Best score:', grid_cv.best_score_)\n",
    "tm1 = time.time() - start_time1\n",
    "print(\"Running Time: %s seconds\" % (tm1))"
   ]
  },
  {
   "cell_type": "code",
   "execution_count": 637,
   "id": "240a15b3",
   "metadata": {},
   "outputs": [
    {
     "name": "stdout",
     "output_type": "stream",
     "text": [
      "MAE Test: 4836633.48\n",
      "R2 Test: 0.65\n"
     ]
    }
   ],
   "source": [
    "y_pred_lin=grid_cv.predict(X_test)\n",
    "mae_test1 = mean_absolute_error(y_pred_lin, y_test)\n",
    "r2_test1 = r2_score(y_test, y_pred_lin)\n",
    "print(\"MAE Test: %.2f\" % mae_test1)\n",
    "print(\"R2 Test: %.2f\" % r2_test1)\n"
   ]
  },
  {
   "cell_type": "code",
   "execution_count": 686,
   "id": "808407ff",
   "metadata": {
    "scrolled": false
   },
   "outputs": [
    {
     "data": {
      "image/png": "[encoded data removed]",
      "text/plain": [
       "<Figure size 864x432 with 1 Axes>"
      ]
     },
     "metadata": {
      "needs_background": "light"
     },
     "output_type": "display_data"
    }
   ],
   "source": [
    "fig = plt.figure(figsize=(12,6))\n",
    "x_ax = range(len(y_test))\n",
    "plt.scatter(x_ax, y_test, s=5, color=\"blue\", label=\"original\")\n",
    "plt.plot(x_ax, y_pred_lin, lw=0.3, color=\"red\", label=\"predicted\")\n",
    "fig.suptitle('Site Energy Use - Actual v predicted values')\n",
    "plt.ylabel('Site Energy Use (kBtu)')\n",
    "plt.xlabel('Data points')\n",
    "plt.ylim(0,80000000)\n",
    "plt.legend()\n",
    "plt.show()"
   ]
  },
  {
   "cell_type": "markdown",
   "id": "24f9c5df",
   "metadata": {},
   "source": [
    "__LASSO__"
   ]
  },
  {
   "cell_type": "code",
   "execution_count": 647,
   "id": "25d5e8ed",
   "metadata": {
    "scrolled": true
   },
   "outputs": [
    {
     "name": "stdout",
     "output_type": "stream",
     "text": [
      "MAE train: 4289316.89\n",
      "R2 train: 0.41\n",
      "Best parameters: {'regressor__alpha': 1, 'regressor__max_iter': 10}\n",
      "Best score: -4700367.4012400685\n",
      "Running Time: 1.7964403629302979 seconds\n"
     ]
    }
   ],
   "source": [
    "import time\n",
    "start_time2 = time.time()\n",
    "\n",
    "pipe_lasso = Pipeline(steps=[('preprocessor', preprocessor),\n",
    "                             ('regressor', Lasso())])\n",
    "\n",
    "params = {\"regressor__alpha\": [0.001, 1, 0.01], # Constant that multiplies the L1 term\n",
    "          \"regressor__max_iter\": [10, 50, 100, 1000]} # maximum number of iterations.\n",
    "\n",
    "grid_lasso = GridSearchCV(pipe_lasso, param_grid=params, cv=5,\n",
    "                            scoring=('r2','neg_mean_absolute_error'),\n",
    "                            return_train_score = True,\n",
    "                            refit='neg_mean_absolute_error',\n",
    "                            n_jobs = -1)\n",
    "\n",
    "\n",
    "grid_lasso.fit(X_train, y_train)\n",
    "\n",
    "y_pred_las=grid_lasso.predict(X_train)\n",
    "mae_train2 = mean_absolute_error(y_pred_las,y_train)\n",
    "r2_train2 = r2_score(y_pred_las,y_train)\n",
    "print(\"MAE train: %.2f\" % mae_train2)\n",
    "print(\"R2 train: %.2f\" % r2_train2)\n",
    "print('Best parameters:', grid_lasso.best_params_)\n",
    "print('Best score:', grid_lasso.best_score_)\n",
    "tm2 = time.time() - start_time2\n",
    "print(\"Running Time: %s seconds\" % (tm2))"
   ]
  },
  {
   "cell_type": "code",
   "execution_count": 648,
   "id": "97670ef2",
   "metadata": {},
   "outputs": [
    {
     "name": "stdout",
     "output_type": "stream",
     "text": [
      "MAE test: 4779221.76\n",
      "R2 test: 0.63\n"
     ]
    }
   ],
   "source": [
    "y_pred_las=grid_lasso.predict(X_test)\n",
    "mae_test2 = mean_absolute_error(y_pred_las, y_test)\n",
    "r2_test2 = r2_score(y_test, y_pred_las)\n",
    "print(\"MAE test: %.2f\" % mae_test2)\n",
    "print(\"R2 test: %.2f\" % r2_test2)\n"
   ]
  },
  {
   "cell_type": "markdown",
   "id": "c06f23da",
   "metadata": {},
   "source": [
    "__RIDGE__"
   ]
  },
  {
   "cell_type": "code",
   "execution_count": 649,
   "id": "ece50997",
   "metadata": {},
   "outputs": [
    {
     "name": "stdout",
     "output_type": "stream",
     "text": [
      "MAE train: 4324331.99\n",
      "R2 train: 0.41\n",
      "Best parameters: {'regressor__alpha': 1, 'regressor__max_iter': 50}\n",
      "Best score: -4680556.05158602\n",
      "Running Time: 0.45261502265930176 seconds\n"
     ]
    }
   ],
   "source": [
    "import time\n",
    "start_time3 = time.time()\n",
    "\n",
    "pipe_ridge = Pipeline(steps=[('preprocessor', preprocessor),\n",
    "                             ('regressor', Ridge())])\n",
    "\n",
    "params = {\"regressor__alpha\": [0.001, 1, 0.01], \n",
    "          \"regressor__max_iter\": [10, 50, 100, 1000]}\n",
    "             \n",
    "\n",
    "grid_ridge = GridSearchCV(pipe_ridge, param_grid=params, cv=5,\n",
    "                            scoring=('r2','neg_mean_absolute_error'),\n",
    "                            return_train_score = True,\n",
    "                            refit='neg_mean_absolute_error',\n",
    "                            n_jobs = -1)\n",
    "\n",
    "\n",
    "grid_ridge.fit(X_train, y_train)\n",
    "\n",
    "y_pred_rid=grid_ridge.predict(X_train)\n",
    "mae_train3 = mean_absolute_error(y_pred_rid,y_train)\n",
    "r2_train3 = r2_score(y_pred_rid,y_train)\n",
    "print(\"MAE train: %.2f\" % mae_train3)\n",
    "print(\"R2 train: %.2f\" % r2_train3)\n",
    "print('Best parameters:', grid_ridge.best_params_)\n",
    "print('Best score:', grid_ridge.best_score_)\n",
    "tm3 = time.time() - start_time3\n",
    "print(\"Running Time: %s seconds\" % (tm3))"
   ]
  },
  {
   "cell_type": "code",
   "execution_count": 650,
   "id": "f49e4055",
   "metadata": {},
   "outputs": [
    {
     "name": "stdout",
     "output_type": "stream",
     "text": [
      "MAE test: 4799535.24\n",
      "R2 test: 0.66\n"
     ]
    }
   ],
   "source": [
    "y_pred_rid=grid_ridge.predict(X_test)\n",
    "\n",
    "mae_test3 = mean_absolute_error(y_pred_rid, y_test)\n",
    "r2_test3 = r2_score(y_test, y_pred_rid)\n",
    "\n",
    "print(\"MAE test: %.2f\" % mae_test3)\n",
    "print(\"R2 test: %.2f\" % r2_test3)\n"
   ]
  },
  {
   "cell_type": "markdown",
   "id": "9aabafc5",
   "metadata": {},
   "source": [
    "__ElasticNet Regression__"
   ]
  },
  {
   "cell_type": "code",
   "execution_count": 660,
   "id": "5f2ac095",
   "metadata": {
    "scrolled": true
   },
   "outputs": [
    {
     "name": "stdout",
     "output_type": "stream",
     "text": [
      "MAE train: 4306433.40\n",
      "R2 train: 0.07\n",
      "Best parameters: {'regressor__alpha': 0.1, 'regressor__l1_ratio': 0.95, 'regressor__max_iter': 10}\n",
      "Best score: -4552284.319692697\n",
      "Running Time: 6.850861549377441 seconds\n"
     ]
    }
   ],
   "source": [
    "import time\n",
    "start_time4 = time.time()\n",
    "pipenet = Pipeline(steps=[('preprocessor', preprocessor),\n",
    "                          ('regressor', ElasticNet())])\n",
    "\n",
    "param_eNet = {\"regressor__alpha\": [0, 1, 0.1], # Constant that multiplies the penalty terms. Defaults to 1.0\n",
    "                                                  # alpha=0 the penalty function reduces to the L1 (ridge) term\n",
    "                                                  # alpha=1, we get the L2 (lasso) term.\n",
    "              \"regressor__l1_ratio\": [.1, .5, .7, .9, .95, .99, 1], # The ElasticNet mixing parameter,\n",
    "                                                                    # with 0 <= l1_ratio <= 1. \n",
    "                                                                    # For l1_ratio = 0 the penalty is an L2 penalty.\n",
    "                                                                    # For l1_ratio = 1 it is an L1 penalty. \n",
    "                                                                    # For 0 < l1_ratio < 1, the penalty is a combination of L1 and L2.\n",
    "              \"regressor__max_iter\": [10, 50, 100, 1000]} # The maximum number of iterations (default = 1000)\n",
    "             \n",
    "grid_cvnet = GridSearchCV(pipenet, \n",
    "                          param_grid=param_eNet, \n",
    "                          cv=5,\n",
    "                          scoring=('r2','neg_mean_absolute_error'),\n",
    "                          return_train_score = True,\n",
    "                          refit='neg_mean_absolute_error',\n",
    "                          n_jobs = -1)\n",
    "\n",
    "grid_cvnet.fit(X_train, y_train)\n",
    "\n",
    "y_pred_net=grid_cvnet.predict(X_train)\n",
    "mae_train4 = mean_absolute_error(y_pred_net,y_train)\n",
    "r2_train4 = r2_score(y_pred_net,y_train)\n",
    "\n",
    "print(\"MAE train: %.2f\" % mae_train4)\n",
    "print(\"R2 train: %.2f\" % r2_train4)\n",
    "print('Best parameters:', grid_cvnet.best_params_)\n",
    "print('Best score:', grid_cvnet.best_score_)\n",
    "tm4 = time.time() - start_time4\n",
    "print(\"Running Time: %s seconds\" % (tm4))"
   ]
  },
  {
   "cell_type": "code",
   "execution_count": 661,
   "id": "517684f6",
   "metadata": {},
   "outputs": [
    {
     "name": "stdout",
     "output_type": "stream",
     "text": [
      "MAE test: 4537289.07\n",
      "R2 test: 0.66\n"
     ]
    }
   ],
   "source": [
    "y_pred_net=grid_cvnet.predict(X_test)\n",
    "\n",
    "mae_test4 = mean_absolute_error(y_pred_net, y_test)\n",
    "r2_test4 = r2_score(y_test, y_pred_net)\n",
    "\n",
    "print(\"MAE test: %.2f\" % mae_test4)\n",
    "print(\"R2 test: %.2f\" % r2_test4)"
   ]
  },
  {
   "cell_type": "markdown",
   "id": "6690e162",
   "metadata": {},
   "source": [
    "__KNN Regression__"
   ]
  },
  {
   "cell_type": "code",
   "execution_count": 670,
   "id": "9eb5a107",
   "metadata": {
    "scrolled": true
   },
   "outputs": [
    {
     "name": "stdout",
     "output_type": "stream",
     "text": [
      "MAE train: 3024492.62\n",
      "R2 train: 0.34\n",
      "Best parameters: {'regressor__n_neighbors': 5}\n",
      "Best score: -4072813.9970740923\n",
      "Running Time: 3.3782172203063965 seconds\n"
     ]
    }
   ],
   "source": [
    "from sklearn import neighbors, metrics\n",
    "\n",
    "import time\n",
    "start_time5 = time.time()\n",
    "\n",
    "pipe_knn = Pipeline(steps=[('preprocessor', preprocessor),\n",
    "                       ('regressor', KNeighborsRegressor())])\n",
    "\n",
    "\n",
    "X_train, X_test, y_train, y_test = train_test_split(X, y, test_size=0.3, random_state=42)\n",
    "\n",
    "\n",
    "# Fixer les valeurs des hyperparamètres à tester\n",
    "param_grid = {'regressor__n_neighbors':[5, 7, 9, 11, 13, 15, 55]}\n",
    "\n",
    "# Choisir un score à optimiser, ici l'accuracy (proportion de prédictions correctes)\n",
    "#score = 'accuracy'\n",
    "\n",
    "# Créer un classifieur kNN avec recherche d'hyperparamètre par validation croisée\n",
    "clf = GridSearchCV(\n",
    "                    pipe_knn, # un classifieur kNN\n",
    "                    param_grid,     # hyperparamètres à tester\n",
    "                    cv=5,           # nombre de folds de validation croisée\n",
    "                    scoring=('r2','neg_mean_absolute_error'),   # score à optimiser\n",
    "                    return_train_score = True,\n",
    "                    refit='neg_mean_absolute_error',\n",
    "                    n_jobs = -1)\n",
    "\n",
    "clf.fit(X_train, y_train)\n",
    "\n",
    "y_pred_clf=clf.predict(X_train)\n",
    "mae_train5 = mean_absolute_error(y_pred_clf,y_train)\n",
    "r2_train5 = r2_score(y_pred_clf,y_train)\n",
    "\n",
    "print(\"MAE train: %.2f\" % mae_train5)\n",
    "print(\"R2 train: %.2f\" % r2_train5)\n",
    "print('Best parameters:', clf.best_params_)\n",
    "print('Best score:', clf.best_score_)\n",
    "tm5 = time.time() - start_time5\n",
    "print(\"Running Time: %s seconds\" % (tm5))\n"
   ]
  },
  {
   "cell_type": "code",
   "execution_count": 671,
   "id": "e8cf6570",
   "metadata": {},
   "outputs": [
    {
     "name": "stdout",
     "output_type": "stream",
     "text": [
      "MAE test: 4234646.65\n",
      "R2 test: 0.43\n"
     ]
    }
   ],
   "source": [
    "y_pred_clf=clf.predict(X_test)\n",
    "mae_test5 = mean_absolute_error(y_pred_clf, y_test)\n",
    "r2_test5 = r2_score(y_test, y_pred_clf)\n",
    "print(\"MAE test: %.2f\" % mae_test5)\n",
    "print(\"R2 test: %.2f\" % r2_test5)"
   ]
  },
  {
   "cell_type": "markdown",
   "id": "335533a4",
   "metadata": {},
   "source": [
    "__Support Vector Regression (SVR)__"
   ]
  },
  {
   "cell_type": "code",
   "execution_count": 680,
   "id": "244a6f20",
   "metadata": {},
   "outputs": [
    {
     "name": "stdout",
     "output_type": "stream",
     "text": [
      "MAE train: 4274053.72\n",
      "R2 train: 0.33\n",
      "Best parameters: {'regressor__C': 0.1, 'regressor__epsilon': 1, 'regressor__loss': 'squared_epsilon_insensitive', 'regressor__max_iter': 100}\n",
      "Best score: -4565689.457021204\n",
      "Running Time: 2.314591407775879 seconds\n"
     ]
    }
   ],
   "source": [
    "from sklearn.svm import LinearSVR\n",
    "import time\n",
    "start_time6 = time.time()\n",
    "\n",
    "pipesvr = Pipeline(steps=[('preprocessor', preprocessor),\n",
    "                          ('regressor', LinearSVR())])\n",
    "\n",
    "param_svr = {'regressor__epsilon' : [0.1, 1, 0.01 ], # Epsilon parameter in the epsilon-insensitive loss function (default=0)\n",
    "             'regressor__C' : [0.1, 1, 0.01], # Regularization parameter. The strength of the regularization is inversely proportional to C.\n",
    "             'regressor__loss' : [\"epsilon_insensitive\",\"squared_epsilon_insensitive\"], # Specifies the loss function \n",
    "             'regressor__max_iter': [10, 100, 1000, 2000]} # The maximum number of iterations to be run (default=1000)\n",
    "\n",
    "grid_cvsvr = GridSearchCV(pipesvr, \n",
    "                          param_grid=param_svr,\n",
    "                          cv=5,\n",
    "                          scoring=('r2','neg_mean_absolute_error'),\n",
    "                          return_train_score = True,\n",
    "                          refit='neg_mean_absolute_error',\n",
    "                          n_jobs = -1)\n",
    "\n",
    "\n",
    "grid_cvsvr.fit(X_train, y_train)\n",
    "\n",
    "y_pred_svr=grid_cvsvr.predict(X_train)\n",
    "mae_train6 = mean_absolute_error(y_pred_svr,y_train)\n",
    "r2_train6 = r2_score(y_pred_svr,y_train)\n",
    "\n",
    "print(\"MAE train: %.2f\" % mae_train6)\n",
    "print(\"R2 train: %.2f\" % r2_train6)\n",
    "print('Best parameters:', grid_cvsvr.best_params_)\n",
    "print('Best score:', grid_cvsvr.best_score_)\n",
    "tm6 = time.time() - start_time6\n",
    "print(\"Running Time: %s seconds\" % (tm6))"
   ]
  },
  {
   "cell_type": "code",
   "execution_count": 681,
   "id": "00b88431",
   "metadata": {
    "scrolled": false
   },
   "outputs": [
    {
     "name": "stdout",
     "output_type": "stream",
     "text": [
      "MAE test: 4652842.74\n",
      "R2 test: 0.66\n"
     ]
    }
   ],
   "source": [
    "y_pred_svr = grid_cvsvr.predict(X_test)\n",
    "mae_test6 = mean_absolute_error(y_pred_svr, y_test)\n",
    "r2_test6 = r2_score(y_test, y_pred_svr)\n",
    "print(\"MAE test: %.2f\" % mae_test6)\n",
    "print(\"R2 test: %.2f\" % r2_test6)"
   ]
  },
  {
   "cell_type": "markdown",
   "id": "650fec96",
   "metadata": {},
   "source": [
    "__RANDOM FOREST__"
   ]
  },
  {
   "cell_type": "code",
   "execution_count": 683,
   "id": "7c5c009b",
   "metadata": {
    "scrolled": true
   },
   "outputs": [
    {
     "name": "stdout",
     "output_type": "stream",
     "text": [
      "MAE train: 788.87\n",
      "R2 train: 1.00\n",
      "Best parameters: {'regressor__bootstrap': False, 'regressor__max_depth': 50, 'regressor__max_features': 'sqrt', 'regressor__min_samples_leaf': 1, 'regressor__min_samples_split': 2}\n",
      "Best score: -2795175.65837835\n",
      "Running Time: 51.602460861206055 seconds\n"
     ]
    }
   ],
   "source": [
    "import time\n",
    "start_time7 = time.time()\n",
    "\n",
    "pipe_rfr = Pipeline(steps=[('preprocessor', preprocessor),\n",
    "                          ('regressor', RandomForestRegressor())])\n",
    "\n",
    "param_rfr = {'regressor__max_features' : ['sqrt', 'log2'], # The number of features to consider when looking for the best split\n",
    "             'regressor__max_depth': [5, 15, 25, 50, 100], # The maximum depth of the tree\n",
    "             'regressor__min_samples_split': [2, 5, 10], # The minimum number of samples required to split an internal node (default=2)\n",
    "             'regressor__bootstrap' : [True, False], # Whether bootstrap samples are used when building trees\n",
    "             'regressor__min_samples_leaf': [1,2,5,10]} # The minimum number of samples required to be at a leaf node (default=1)\n",
    "\n",
    "grid_cvrfr = GridSearchCV(pipe_rfr,\n",
    "                          param_grid=param_rfr,\n",
    "                          cv=5,\n",
    "                          scoring=('r2','neg_mean_absolute_error'),\n",
    "                          return_train_score = True,\n",
    "                          refit='neg_mean_absolute_error',\n",
    "                          n_jobs = -1)\n",
    "\n",
    "\n",
    "grid_cvrfr.fit(X_train, y_train)\n",
    "\n",
    "y_pred_rfr = grid_cvrfr.predict(X_train)\n",
    "mae_train7 = mean_absolute_error(y_pred_rfr,y_train)\n",
    "r2_train7 = r2_score(y_pred_rfr,y_train)\n",
    "\n",
    "print(\"MAE train: %.2f\" % mae_train7)\n",
    "print(\"R2 train: %.2f\" % r2_train7)\n",
    "print('Best parameters:', grid_cvrfr.best_params_)\n",
    "print('Best score:', grid_cvrfr.best_score_)\n",
    "tm7 = time.time() - start_time7\n",
    "print(\"Running Time: %s seconds\" % (tm7))"
   ]
  },
  {
   "cell_type": "code",
   "execution_count": 684,
   "id": "f01fe1e5",
   "metadata": {},
   "outputs": [
    {
     "name": "stdout",
     "output_type": "stream",
     "text": [
      "MAE test: 2632523.10\n",
      "R2 test: 0.86\n"
     ]
    }
   ],
   "source": [
    "y_pred_rfr=grid_cvrfr.predict(X_test)\n",
    "mae_test7 = mean_absolute_error(y_pred_rfr, y_test)\n",
    "r2_test7 = r2_score(y_test, y_pred_rfr)\n",
    "print(\"MAE test: %.2f\" % mae_test7)\n",
    "print(\"R2 test: %.2f\" % r2_test7)"
   ]
  },
  {
   "cell_type": "markdown",
   "id": "94a0a5e3",
   "metadata": {},
   "source": [
    "__XGBoost regression__"
   ]
  },
  {
   "cell_type": "code",
   "execution_count": 687,
   "id": "29ccd01a",
   "metadata": {
    "scrolled": true
   },
   "outputs": [
    {
     "name": "stdout",
     "output_type": "stream",
     "text": [
      "MAE train: 293.45\n",
      "R2 train: 1.00\n",
      "Best parameters: {'regressor__gamma': 0.25, 'regressor__learning_rate': 1, 'regressor__max_depth': 20, 'regressor__n_estimators': 200}\n",
      "Best score: -2802995.4639661512\n",
      "Running Time: 252.7774634361267 seconds\n"
     ]
    }
   ],
   "source": [
    "start_time8 = time.time()\n",
    "\n",
    "pipe_xgb = Pipeline(steps=[('preprocessor', preprocessor),\n",
    "                          ('regressor', xgb.XGBRegressor())])\n",
    "\n",
    "param_xgb = {'regressor__gamma': [0.1, 0.25, 0.5, 1.0],\n",
    "             'regressor__learning_rate' : [0.01, 1, 0.01], #step size shrinkage used to prevent overfitting. Range is [0,1]\n",
    "             'regressor__max_depth': [6, 10, 15, 20, 50],\n",
    "             'regressor__n_estimators': [25, 50, 100, 200]} # number of trees we want to build\n",
    "                     \n",
    "grid_cvxgb = GridSearchCV(pipe_xgb,\n",
    "                          param_grid = param_xgb,\n",
    "                          cv = 5,\n",
    "                          scoring=('r2','neg_mean_absolute_error'),\n",
    "                          return_train_score = True,\n",
    "                          refit = 'neg_mean_absolute_error',\n",
    "                          n_jobs = -1)\n",
    "\n",
    "grid_cvxgb.fit(X_train, y_train)\n",
    "\n",
    "y_pred_xgb = grid_cvxgb.predict(X_train)\n",
    "mae_train8 = mean_absolute_error(y_pred_xgb,y_train)\n",
    "r2_train8 = r2_score(y_pred_xgb,y_train)\n",
    "\n",
    "\n",
    "print(\"MAE train: %.2f\" % mae_train8)\n",
    "print(\"R2 train: %.2f\" % r2_train8)\n",
    "print('Best parameters:', grid_cvxgb.best_params_)\n",
    "print('Best score:', grid_cvxgb.best_score_)\n",
    "tm8 = time.time() - start_time8\n",
    "print(\"Running Time: %s seconds\" % (tm8))\n"
   ]
  },
  {
   "cell_type": "markdown",
   "id": "1a69ccad",
   "metadata": {},
   "source": [
    "__XGBoost on Test data__"
   ]
  },
  {
   "cell_type": "code",
   "execution_count": 689,
   "id": "ffa4b119",
   "metadata": {
    "scrolled": true
   },
   "outputs": [
    {
     "name": "stdout",
     "output_type": "stream",
     "text": [
      "MAE test: 2878733.39\n",
      "R2 test: 0.78\n"
     ]
    }
   ],
   "source": [
    "y_pred_xgb = grid_cvxgb.predict(X_test)\n",
    "mae_test8 = mean_absolute_error(y_pred_xgb, y_test)\n",
    "r2_test8 = r2_score(y_test, y_pred_xgb)\n",
    "print(\"MAE test: %.2f\" % mae_test8)\n",
    "print(\"R2 test: %.2f\" % r2_test8)"
   ]
  },
  {
   "cell_type": "markdown",
   "id": "bf1ff539",
   "metadata": {},
   "source": [
    "__Summary of Results on Site Energy Use__"
   ]
  },
  {
   "cell_type": "code",
   "execution_count": 690,
   "id": "08ba0765",
   "metadata": {
    "scrolled": true
   },
   "outputs": [
    {
     "data": {
      "text/html": [
       "<div>\n",
       "<style scoped>\n",
       "    .dataframe tbody tr th:only-of-type {\n",
       "        vertical-align: middle;\n",
       "    }\n",
       "\n",
       "    .dataframe tbody tr th {\n",
       "        vertical-align: top;\n",
       "    }\n",
       "\n",
       "    .dataframe thead th {\n",
       "        text-align: right;\n",
       "    }\n",
       "</style>\n",
       "<table border=\"1\" class=\"dataframe\">\n",
       "  <thead>\n",
       "    <tr style=\"text-align: right;\">\n",
       "      <th></th>\n",
       "      <th>Linear</th>\n",
       "      <th>Lasso</th>\n",
       "      <th>Ridge</th>\n",
       "      <th>ElasticNet</th>\n",
       "      <th>KNN</th>\n",
       "      <th>SVM</th>\n",
       "      <th>RandomForest</th>\n",
       "      <th>XGBoost</th>\n",
       "    </tr>\n",
       "    <tr>\n",
       "      <th>Metrics</th>\n",
       "      <th></th>\n",
       "      <th></th>\n",
       "      <th></th>\n",
       "      <th></th>\n",
       "      <th></th>\n",
       "      <th></th>\n",
       "      <th></th>\n",
       "      <th></th>\n",
       "    </tr>\n",
       "  </thead>\n",
       "  <tbody>\n",
       "    <tr>\n",
       "      <th>R2_train</th>\n",
       "      <td>0.45</td>\n",
       "      <td>0.41</td>\n",
       "      <td>0.41</td>\n",
       "      <td>0.07</td>\n",
       "      <td>0.34</td>\n",
       "      <td>0.33</td>\n",
       "      <td>1.00</td>\n",
       "      <td>1.00</td>\n",
       "    </tr>\n",
       "    <tr>\n",
       "      <th>R2_test</th>\n",
       "      <td>0.65</td>\n",
       "      <td>0.63</td>\n",
       "      <td>0.66</td>\n",
       "      <td>0.66</td>\n",
       "      <td>0.43</td>\n",
       "      <td>0.66</td>\n",
       "      <td>0.86</td>\n",
       "      <td>0.78</td>\n",
       "    </tr>\n",
       "    <tr>\n",
       "      <th>MAE_train</th>\n",
       "      <td>4316342.36</td>\n",
       "      <td>4289316.89</td>\n",
       "      <td>4324331.99</td>\n",
       "      <td>4306433.40</td>\n",
       "      <td>3024492.62</td>\n",
       "      <td>4274053.72</td>\n",
       "      <td>788.87</td>\n",
       "      <td>293.45</td>\n",
       "    </tr>\n",
       "    <tr>\n",
       "      <th>MAE_test</th>\n",
       "      <td>4836633.48</td>\n",
       "      <td>4779221.76</td>\n",
       "      <td>4799535.24</td>\n",
       "      <td>4537289.07</td>\n",
       "      <td>4234646.65</td>\n",
       "      <td>4652842.74</td>\n",
       "      <td>2632523.10</td>\n",
       "      <td>2878733.39</td>\n",
       "    </tr>\n",
       "    <tr>\n",
       "      <th>Running_train_time(s)</th>\n",
       "      <td>1.36</td>\n",
       "      <td>1.80</td>\n",
       "      <td>0.45</td>\n",
       "      <td>6.85</td>\n",
       "      <td>3.38</td>\n",
       "      <td>2.31</td>\n",
       "      <td>51.60</td>\n",
       "      <td>252.78</td>\n",
       "    </tr>\n",
       "  </tbody>\n",
       "</table>\n",
       "</div>"
      ],
      "text/plain": [
       "                           Linear       Lasso       Ridge  ElasticNet  \\\n",
       "Metrics                                                                 \n",
       "R2_train                     0.45        0.41        0.41        0.07   \n",
       "R2_test                      0.65        0.63        0.66        0.66   \n",
       "MAE_train              4316342.36  4289316.89  4324331.99  4306433.40   \n",
       "MAE_test               4836633.48  4779221.76  4799535.24  4537289.07   \n",
       "Running_train_time(s)        1.36        1.80        0.45        6.85   \n",
       "\n",
       "                              KNN         SVM  RandomForest     XGBoost  \n",
       "Metrics                                                                  \n",
       "R2_train                     0.34        0.33          1.00        1.00  \n",
       "R2_test                      0.43        0.66          0.86        0.78  \n",
       "MAE_train              3024492.62  4274053.72        788.87      293.45  \n",
       "MAE_test               4234646.65  4652842.74    2632523.10  2878733.39  \n",
       "Running_train_time(s)        3.38        2.31         51.60      252.78  "
      ]
     },
     "execution_count": 690,
     "metadata": {},
     "output_type": "execute_result"
    }
   ],
   "source": [
    "results = ['R2_train', 'R2_test', 'MAE_train', 'MAE_test', 'Running_train_time(s)']\n",
    "reg_met = {'Linear' : pd.Series([r2_train1, r2_test1, mae_train1, mae_test1, tm1],\n",
    "                        index = results),\n",
    "              'Lasso' : pd.Series([r2_train2, r2_test2, mae_train2, mae_test2, tm2],\n",
    "                        index = results),\n",
    "              'Ridge' : pd.Series([r2_train3, r2_test3, mae_train3, mae_test3, tm3],\n",
    "                        index = results),\n",
    "              'ElasticNet' : pd.Series([r2_train4, r2_test4, mae_train4, mae_test4, tm4],\n",
    "                        index = results),\n",
    "              'KNN' : pd.Series([r2_train5, r2_test5, mae_train5, mae_test5, tm5],\n",
    "                        index = results),\n",
    "              'SVM' : pd.Series([r2_train6, r2_test6, mae_train6, mae_test6, tm6],\n",
    "                        index = results),\n",
    "              'RandomForest' : pd.Series([r2_train7, r2_test7, mae_train7, mae_test7, tm7],\n",
    "                        index = results),\n",
    "              'XGBoost' : pd.Series([r2_train8, r2_test8, mae_train8, mae_test8, tm8],\n",
    "                        index = results)}\n",
    "\n",
    "# Creates Dataframe df_files_spec\n",
    "\n",
    "df_results_SEU = pd.DataFrame(reg_met)\n",
    "index = df_results_SEU.index\n",
    "index. name = \"Metrics\"\n",
    "df_results_SEU.round(2)\n"
   ]
  },
  {
   "cell_type": "code",
   "execution_count": 691,
   "id": "98d24893",
   "metadata": {},
   "outputs": [
    {
     "data": {
      "image/png": "[encoded data removed]",
      "text/plain": [
       "<Figure size 720x360 with 1 Axes>"
      ]
     },
     "metadata": {
      "needs_background": "light"
     },
     "output_type": "display_data"
    }
   ],
   "source": [
    "df_SEU = df_results_SEU.T\n",
    "plt.rcParams[\"figure.figsize\"] = (10, 5)\n",
    "df_SEU1 = df_SEU[[\"MAE_test\", \"MAE_train\"]].plot( y=[\"MAE_train\", \"MAE_test\"], kind=\"bar\", rot = 45)\n",
    "plt.xlabel(\"Regressions\")\n",
    "plt.ylabel(\"Mean Absolute Error\")\n",
    "plt.title(\"Site Energy Use - Mean Absolute Error from the different models\")\n",
    "#plt. ylim()\n",
    "plt.show()"
   ]
  },
  {
   "cell_type": "code",
   "execution_count": 692,
   "id": "90b91a4c",
   "metadata": {
    "scrolled": false
   },
   "outputs": [
    {
     "data": {
      "image/png": "[encoded data removed]",
      "text/plain": [
       "<Figure size 720x360 with 1 Axes>"
      ]
     },
     "metadata": {
      "needs_background": "light"
     },
     "output_type": "display_data"
    }
   ],
   "source": [
    "plt.rcParams[\"figure.figsize\"] = (10, 5)\n",
    "df_SEU2 = df_SEU.plot( y=\"Running_train_time(s)\", kind=\"bar\", rot = 45)\n",
    "plt.xlabel(\"Regressions\")\n",
    "plt.ylabel(\"Running_train_time(s)\")\n",
    "plt.title('Running time comparison between the different models', weight = \"bold\")\n",
    "plt.show()"
   ]
  },
  {
   "cell_type": "code",
   "execution_count": 695,
   "id": "f9f8069d",
   "metadata": {},
   "outputs": [],
   "source": [
    "def forecast_comp_1(y_true, y_pred, color=None, title=None):\n",
    "    X_plot = [y_true.min(), y_true.max()]\n",
    "    fig = plt.figure(figsize=(12,7))\n",
    "    plt.scatter(y_true, y_pred, color='b', alpha=.4)\n",
    "    plt.xlabel(\"Actual values\")\n",
    "    plt.ylabel(\"Predicted values\")\n",
    "    plt.title(\"Site Energy Use - Actual Values vs predicted values\", \n",
    "              fontsize=18)\n",
    "    plt.show()"
   ]
  },
  {
   "cell_type": "code",
   "execution_count": 696,
   "id": "601123fb",
   "metadata": {},
   "outputs": [
    {
     "data": {
      "image/png": "[encoded data removed]",
      "text/plain": [
       "<Figure size 864x504 with 1 Axes>"
      ]
     },
     "metadata": {
      "needs_background": "light"
     },
     "output_type": "display_data"
    }
   ],
   "source": [
    "y2_pred_rfr = grid_cvrfr.predict(X_test)\n",
    "forecast_comp_1(y_test, y2_pred_rfr, title=\"TotalGHGEmissions\")"
   ]
  },
  {
   "cell_type": "markdown",
   "id": "28f01593",
   "metadata": {},
   "source": [
    "__Predictions on GHG Emissions__"
   ]
  },
  {
   "cell_type": "code",
   "execution_count": 698,
   "id": "37ad35a7",
   "metadata": {},
   "outputs": [
    {
     "data": {
      "text/html": [
       "<div>\n",
       "<style scoped>\n",
       "    .dataframe tbody tr th:only-of-type {\n",
       "        vertical-align: middle;\n",
       "    }\n",
       "\n",
       "    .dataframe tbody tr th {\n",
       "        vertical-align: top;\n",
       "    }\n",
       "\n",
       "    .dataframe thead th {\n",
       "        text-align: right;\n",
       "    }\n",
       "</style>\n",
       "<table border=\"1\" class=\"dataframe\">\n",
       "  <thead>\n",
       "    <tr style=\"text-align: right;\">\n",
       "      <th></th>\n",
       "      <th>Linear</th>\n",
       "      <th>Lasso</th>\n",
       "      <th>Ridge</th>\n",
       "      <th>ElasticNet</th>\n",
       "      <th>KNN</th>\n",
       "      <th>SVM</th>\n",
       "      <th>RandomForest</th>\n",
       "      <th>XGBoost</th>\n",
       "    </tr>\n",
       "    <tr>\n",
       "      <th>Metrics GHG</th>\n",
       "      <th></th>\n",
       "      <th></th>\n",
       "      <th></th>\n",
       "      <th></th>\n",
       "      <th></th>\n",
       "      <th></th>\n",
       "      <th></th>\n",
       "      <th></th>\n",
       "    </tr>\n",
       "  </thead>\n",
       "  <tbody>\n",
       "    <tr>\n",
       "      <th>R2_train</th>\n",
       "      <td>0.223</td>\n",
       "      <td>-0.192</td>\n",
       "      <td>0.180</td>\n",
       "      <td>0.007</td>\n",
       "      <td>-0.736</td>\n",
       "      <td>-17.645</td>\n",
       "      <td>1.000</td>\n",
       "      <td>0.854</td>\n",
       "    </tr>\n",
       "    <tr>\n",
       "      <th>R2_test</th>\n",
       "      <td>0.520</td>\n",
       "      <td>0.539</td>\n",
       "      <td>0.537</td>\n",
       "      <td>0.493</td>\n",
       "      <td>0.266</td>\n",
       "      <td>0.150</td>\n",
       "      <td>0.862</td>\n",
       "      <td>0.835</td>\n",
       "    </tr>\n",
       "    <tr>\n",
       "      <th>MAE_train</th>\n",
       "      <td>146.981</td>\n",
       "      <td>139.455</td>\n",
       "      <td>147.530</td>\n",
       "      <td>137.796</td>\n",
       "      <td>102.181</td>\n",
       "      <td>119.197</td>\n",
       "      <td>0.045</td>\n",
       "      <td>38.350</td>\n",
       "    </tr>\n",
       "    <tr>\n",
       "      <th>MAE_test</th>\n",
       "      <td>162.265</td>\n",
       "      <td>148.069</td>\n",
       "      <td>160.809</td>\n",
       "      <td>150.840</td>\n",
       "      <td>126.053</td>\n",
       "      <td>127.858</td>\n",
       "      <td>78.683</td>\n",
       "      <td>80.972</td>\n",
       "    </tr>\n",
       "    <tr>\n",
       "      <th>Running_train_time(s)</th>\n",
       "      <td>0.263</td>\n",
       "      <td>1.082</td>\n",
       "      <td>0.468</td>\n",
       "      <td>4.579</td>\n",
       "      <td>3.047</td>\n",
       "      <td>11.573</td>\n",
       "      <td>40.665</td>\n",
       "      <td>251.983</td>\n",
       "    </tr>\n",
       "  </tbody>\n",
       "</table>\n",
       "</div>"
      ],
      "text/plain": [
       "                        Linear    Lasso    Ridge  ElasticNet       KNN  \\\n",
       "Metrics GHG                                                              \n",
       "R2_train                 0.223   -0.192    0.180        0.007   -0.736   \n",
       "R2_test                  0.520    0.539    0.537        0.493    0.266   \n",
       "MAE_train              146.981  139.455  147.530      137.796  102.181   \n",
       "MAE_test               162.265  148.069  160.809      150.840  126.053   \n",
       "Running_train_time(s)    0.263    1.082    0.468        4.579    3.047   \n",
       "\n",
       "                           SVM  RandomForest  XGBoost  \n",
       "Metrics GHG                                            \n",
       "R2_train               -17.645         1.000    0.854  \n",
       "R2_test                  0.150         0.862    0.835  \n",
       "MAE_train              119.197         0.045   38.350  \n",
       "MAE_test               127.858        78.683   80.972  \n",
       "Running_train_time(s)   11.573        40.665  251.983  "
      ]
     },
     "execution_count": 698,
     "metadata": {},
     "output_type": "execute_result"
    }
   ],
   "source": [
    "# Linear regression\n",
    "start_time11 = time.time()\n",
    "pipe = Pipeline(steps=[('preprocessor', preprocessor),\n",
    "                       ('regressor', LinearRegression())])\n",
    "\n",
    "X = df_data_non_ener[num_data + cat_data]\n",
    "y = df_data_non_ener['GHGEmissions(MetricTonsCO2e)']\n",
    "\n",
    "X_train, X_test, y_train, y_test = train_test_split(X, y, test_size=0.3, random_state=42)\n",
    "\n",
    "\n",
    "params = {\"regressor__fit_intercept\": [True, False],\n",
    "          \"regressor__normalize\": [True, False]}\n",
    "\n",
    "grid_cv = GridSearchCV(pipe, param_grid=params, cv=5,\n",
    "                            scoring=('r2','neg_mean_absolute_error'),\n",
    "                            return_train_score = True,\n",
    "                            refit='neg_mean_absolute_error',\n",
    "                            n_jobs = -1)\n",
    "\n",
    "grid_cv.fit(X_train, y_train)\n",
    "\n",
    "y_pred = grid_cv.predict(X_train)\n",
    "mae_train11 = mean_absolute_error(y_pred,y_train)\n",
    "r2_train11 = r2_score(y_pred,y_train)\n",
    "tm11 = time.time() - start_time11\n",
    "ypred_lin = grid_cv.predict(X_test)\n",
    "mae_test11 = mean_absolute_error(ypred_lin, y_test)\n",
    "r2_test11 = r2_score(y_test, ypred_lin)\n",
    "\n",
    "# Lasso regression\n",
    "\n",
    "start_time21 = time.time()\n",
    "\n",
    "pipe_lasso = Pipeline(steps=[('preprocessor', preprocessor),\n",
    "                             ('regressor', Lasso())])\n",
    "\n",
    "params = {\"regressor__alpha\": [0.1, 3, 0.01], # Constant that multiplies the L1 term\n",
    "          \"regressor__max_iter\": [10, 50, 100, 1000]} # maximum number of iterations.\n",
    "\n",
    "grid_lasso = GridSearchCV(pipe_lasso, param_grid=params, cv=5,\n",
    "                            scoring=('r2','neg_mean_absolute_error'),\n",
    "                            return_train_score = True,\n",
    "                            refit='neg_mean_absolute_error',\n",
    "                            n_jobs = -1)\n",
    "\n",
    "\n",
    "grid_lasso.fit(X_train, y_train)\n",
    "\n",
    "y_pred_las=grid_lasso.predict(X_train)\n",
    "mae_train21 = mean_absolute_error(y_pred_las,y_train)\n",
    "r2_train21 = r2_score(y_pred_las,y_train)\n",
    "\n",
    "tm21 = time.time() - start_time21\n",
    "\n",
    "y_pred_las=grid_lasso.predict(X_test)\n",
    "mae_test21 = mean_absolute_error(y_pred_las, y_test)\n",
    "r2_test21 = r2_score(y_test, y_pred_las)\n",
    "\n",
    "# Ridge regression\n",
    "\n",
    "start_time31 = time.time()\n",
    "\n",
    "pipe_ridge = Pipeline(steps=[('preprocessor', preprocessor),\n",
    "                             ('regressor', Ridge())])\n",
    "\n",
    "params = {\"regressor__alpha\": [0.1, 1, 0.01], \n",
    "          \"regressor__max_iter\": [10, 50, 100, 1000]}\n",
    "             \n",
    "grid_ridge = GridSearchCV(pipe_ridge, param_grid=params, cv=5,\n",
    "                            scoring=('r2','neg_mean_absolute_error'),\n",
    "                            return_train_score = True,\n",
    "                            refit='neg_mean_absolute_error',\n",
    "                            n_jobs = -1)\n",
    "\n",
    "\n",
    "grid_ridge.fit(X_train, y_train)\n",
    "\n",
    "y_pred_rid=grid_ridge.predict(X_train)\n",
    "mae_train31 = mean_absolute_error(y_pred_rid,y_train)\n",
    "r2_train31 = r2_score(y_pred_rid,y_train)\n",
    "tm31 = time.time() - start_time31\n",
    "y_pred_rid=grid_ridge.predict(X_test)\n",
    "mae_test31 = mean_absolute_error(y_pred_rid, y_test)\n",
    "r2_test31 = r2_score(y_test, y_pred_rid)\n",
    "\n",
    "# ElasicNet regression\n",
    "\n",
    "start_time41 = time.time()\n",
    "pipenet = Pipeline(steps=[('preprocessor', preprocessor),\n",
    "                          ('regressor', ElasticNet())])\n",
    "\n",
    "param_eNet = {\"regressor__alpha\": [0.1, 1, 0.01],\n",
    "              \"regressor__l1_ratio\": [.1, .5, .7, .9, .95, .99, 1],\n",
    "              \"regressor__max_iter\": [10, 50, 100, 1000]}\n",
    "\n",
    "grid_cvnet = GridSearchCV(pipenet, \n",
    "                          param_grid=param_eNet, \n",
    "                          cv=5,\n",
    "                          scoring=('r2','neg_mean_absolute_error'),\n",
    "                          return_train_score = True,\n",
    "                          refit='neg_mean_absolute_error',\n",
    "                          n_jobs = -1)\n",
    "\n",
    "grid_cvnet.fit(X_train, y_train)\n",
    "y_pred_net=grid_cvnet.predict(X_train)\n",
    "\n",
    "mae_train41 = mean_absolute_error(y_pred_net,y_train)\n",
    "r2_train41 = r2_score(y_pred_net,y_train)\n",
    "\n",
    "tm41 = time.time() - start_time41\n",
    "\n",
    "y_pred_net = grid_cvnet.predict(X_test)\n",
    "mae_test41 = mean_absolute_error(y_pred_net, y_test)\n",
    "r2_test41 = r2_score(y_test, y_pred_net)\n",
    "\n",
    "# KNN regresion\n",
    "\n",
    "start_time51 = time.time()\n",
    "\n",
    "pipe_knn = Pipeline(steps=[('preprocessor', preprocessor),\n",
    "                       ('regressor', KNeighborsRegressor())])\n",
    "\n",
    "# Hyperparameters input values\n",
    "param_grid = {'regressor__n_neighbors':[5, 7, 9, 11, 13, 15]}\n",
    "\n",
    "# Créer un classifieur kNN avec recherche d'hyperparamètre par validation croisée\n",
    "clf = GridSearchCV(\n",
    "                    pipe_knn, # kNN regressor\n",
    "                    param_grid,     # hyperparameters to test\n",
    "                    cv=5,           # number of folds of the cross validation\n",
    "                    scoring=('r2','neg_mean_absolute_error'),   \n",
    "                    return_train_score = True,\n",
    "                    refit='neg_mean_absolute_error',\n",
    "                    n_jobs = -1)\n",
    "\n",
    "clf.fit(X_train, y_train)\n",
    "\n",
    "y_pred_clf= clf.predict(X_train)\n",
    "\n",
    "mae_train51 = mean_absolute_error(y_pred_clf,y_train)\n",
    "r2_train51 = r2_score(y_pred_clf,y_train)\n",
    "\n",
    "tm51 = time.time() - start_time51\n",
    "\n",
    "y_pred_clf=clf.predict(X_test)\n",
    "mae_test51 = mean_absolute_error(y_pred_clf, y_test)\n",
    "r2_test51 = r2_score(y_test, y_pred_clf)\n",
    "\n",
    "# SVR regression\n",
    "\n",
    "start_time61 = time.time()\n",
    "\n",
    "pipesvr = Pipeline(steps=[('preprocessor', preprocessor),\n",
    "                          ('regressor', LinearSVR())])\n",
    "\n",
    "param_svr = {'regressor__epsilon' : [0, 0.01, 0.1, 0.5, 1, 2], # Epsilon parameter in the epsilon-insensitive loss function (default=0)\n",
    "             'regressor__C' : [0.1, 1, 2, 3, 4, 5], # Regularization parameter. The strength of the regularization is inversely proportional to C.\n",
    "             'regressor__loss' : [\"epsilon_insensitive\",\"squared_epsilon_insensitive\"], # Specifies the loss function \n",
    "             'regressor__max_iter': [10, 100, 1000, 2000]} # The maximum number of iterations to be run (default=1000)\n",
    "\n",
    "grid_cvsvr = GridSearchCV(pipesvr, \n",
    "                          param_grid=param_svr,\n",
    "                          cv=5,\n",
    "                          scoring=('r2','neg_mean_absolute_error'),\n",
    "                          return_train_score = True,\n",
    "                          refit='neg_mean_absolute_error',\n",
    "                          n_jobs = -1)\n",
    "\n",
    "\n",
    "grid_cvsvr.fit(X_train, y_train)\n",
    "\n",
    "y_pred_svr=grid_cvsvr.predict(X_train)\n",
    "mae_train61 = mean_absolute_error(y_pred_svr,y_train)\n",
    "r2_train61 = r2_score(y_pred_svr,y_train)\n",
    "\n",
    "tm61 = time.time() - start_time61\n",
    "\n",
    "y_pred_svr = grid_cvsvr.predict(X_test)\n",
    "mae_test61 = mean_absolute_error(y_pred_svr, y_test)\n",
    "r2_test61 = r2_score(y_test, y_pred_svr)\n",
    "\n",
    "# RandomForest\n",
    "\n",
    "start_time71 = time.time()\n",
    "\n",
    "pipe_rfr = Pipeline(steps=[('preprocessor', preprocessor),\n",
    "                          ('regressor', RandomForestRegressor())])\n",
    "\n",
    "param_rfr = {'regressor__max_features' : ['sqrt', 'log2'], # The number of features to consider when looking for the best split\n",
    "             'regressor__max_depth': [5, 15, 25, 50], # The maximum depth of the tree\n",
    "             'regressor__min_samples_split': [2, 5, 10], # The minimum number of samples required to split an internal node (default=2)\n",
    "             'regressor__bootstrap' : [True, False], # Whether bootstrap samples are used when building trees\n",
    "             'regressor__min_samples_leaf': [1,2,5,10]} # The minimum number of samples required to be at a leaf node (default=1)\n",
    "\n",
    "grid_cvrfr = GridSearchCV(pipe_rfr,\n",
    "                          param_grid=param_rfr,\n",
    "                          cv=5,\n",
    "                          scoring=('r2','neg_mean_absolute_error'),\n",
    "                          return_train_score = True,\n",
    "                          refit='neg_mean_absolute_error',\n",
    "                          n_jobs = -1)\n",
    "\n",
    "\n",
    "grid_cvrfr.fit(X_train, y_train)\n",
    "\n",
    "y_pred_rfr = grid_cvrfr.predict(X_train)\n",
    "mae_train71 = mean_absolute_error(y_pred_rfr,y_train)\n",
    "r2_train71 = r2_score(y_pred_rfr,y_train)\n",
    "tm71 = time.time() - start_time71\n",
    "y_pred_rfr = grid_cvrfr.predict(X_test)\n",
    "mae_test71 = mean_absolute_error(y_pred_rfr, y_test)\n",
    "r2_test71 = r2_score(y_test, y_pred_rfr)\n",
    "\n",
    "# XGBoost Regressor\n",
    "\n",
    "start_time81 = time.time()\n",
    "\n",
    "pipe_xgb = Pipeline(steps=[('preprocessor', preprocessor),\n",
    "                          ('regressor', xgb.XGBRegressor())])\n",
    "\n",
    "param_xgb = {'regressor__gamma': [0, 0.25, 0.5, 1.0],\n",
    "             'regressor__learning_rate' : [0.01, 1, 0.01], #step size shrinkage used to prevent overfitting. Range is [0,1]\n",
    "             'regressor__max_depth': [6, 10, 15, 20, 50],\n",
    "             'regressor__n_estimators': [25, 50, 100, 200]} # number of trees we want to build\n",
    "             \n",
    "grid_cvxgb = GridSearchCV(pipe_xgb,\n",
    "                          param_grid=param_xgb,\n",
    "                          cv=5,\n",
    "                          scoring=('r2','neg_mean_absolute_error'),\n",
    "                          return_train_score = True,\n",
    "                          refit='neg_mean_absolute_error',\n",
    "                          n_jobs = -1)\n",
    "\n",
    "grid_cvxgb.fit(X_train, y_train)\n",
    "\n",
    "y_pred_xgb = grid_cvxgb.predict(X_train)\n",
    "mae_train81 = mean_absolute_error(y_pred_xgb,y_train)\n",
    "r2_train81 = r2_score(y_pred_xgb,y_train)\n",
    "\n",
    "tm81 = time.time() - start_time81\n",
    "\n",
    "y_pred_xgb = grid_cvxgb.predict(X_test)\n",
    "mae_test81 = mean_absolute_error(y_pred_xgb, y_test)\n",
    "r2_test81 = r2_score(y_test, y_pred_xgb)\n",
    "\n",
    "\n",
    "# -----------------------------------------------------------------------------------------------\n",
    "\n",
    "results = ['R2_train', 'R2_test', 'MAE_train', 'MAE_test', 'Running_train_time(s)']\n",
    "reg_met_GHG = {'Linear' : pd.Series([r2_train11, r2_test11, mae_train11, mae_test11, tm11],\n",
    "                        index = results),\n",
    "              'Lasso' : pd.Series([r2_train21, r2_test21, mae_train21, mae_test21, tm21],\n",
    "                        index = results),\n",
    "              'Ridge' : pd.Series([r2_train31, r2_test31, mae_train31, mae_test31, tm31],\n",
    "                        index = results),\n",
    "              'ElasticNet ' : pd.Series([r2_train41, r2_test41, mae_train41, mae_test41, tm41],\n",
    "                        index = results),\n",
    "              'KNN' : pd.Series([r2_train51, r2_test51, mae_train51, mae_test51, tm51],\n",
    "                        index = results),\n",
    "              'SVM' : pd.Series([r2_train61, r2_test61, mae_train61, mae_test61, tm61],\n",
    "                        index = results),\n",
    "              'RandomForest' : pd.Series([r2_train71, r2_test71, mae_train71, mae_test71, tm71],\n",
    "                        index = results),\n",
    "              'XGBoost' : pd.Series([r2_train81, r2_test81, mae_train81, mae_test81, tm81],\n",
    "                        index = results)}\n",
    "\n",
    "# Creates Dataframe df_results_GHG\n",
    "\n",
    "df_results_GHG = pd.DataFrame(reg_met_GHG)\n",
    "index = df_results_GHG.index\n",
    "index. name = \"Metrics GHG\"\n",
    "hide_toggle()\n",
    "round(df_results_GHG, 3)\n"
   ]
  },
  {
   "cell_type": "code",
   "execution_count": 699,
   "id": "91dfb217",
   "metadata": {},
   "outputs": [
    {
     "data": {
      "image/png": "[encoded data removed]",
      "text/plain": [
       "<Figure size 720x360 with 1 Axes>"
      ]
     },
     "metadata": {
      "needs_background": "light"
     },
     "output_type": "display_data"
    }
   ],
   "source": [
    "df_GHG = df_results_GHG.T\n",
    "plt.rcParams[\"figure.figsize\"] = (10, 5)\n",
    "df_GHG1 = df_GHG[[\"MAE_test\", \"MAE_train\"]].plot( y=[\"MAE_train\", \"MAE_test\"], kind=\"bar\", rot = 45)\n",
    "plt.xlabel(\"Regressions\")\n",
    "plt.ylabel(\"Mean Absolute Error\")\n",
    "plt.title(\"Mean absolute error on GHG Emissions for the different models\")\n",
    "\n",
    "plt.show()"
   ]
  },
  {
   "cell_type": "code",
   "execution_count": 700,
   "id": "2da661c9",
   "metadata": {
    "scrolled": false
   },
   "outputs": [
    {
     "data": {
      "image/png": "[encoded data removed]",
      "text/plain": [
       "<Figure size 720x360 with 1 Axes>"
      ]
     },
     "metadata": {
      "needs_background": "light"
     },
     "output_type": "display_data"
    }
   ],
   "source": [
    "plt.rcParams[\"figure.figsize\"] = (10, 5)\n",
    "df_GHG2 = df_GHG.plot( y=\"Running_train_time(s)\", kind=\"bar\", rot = 45)\n",
    "plt.xlabel(\"Regressions\")\n",
    "plt.ylabel(\"Running_train_time(s)\")\n",
    "plt.title('Running time comparison between the different models', weight = \"bold\")\n",
    "plt.show()"
   ]
  },
  {
   "cell_type": "code",
   "execution_count": 701,
   "id": "9cc33675",
   "metadata": {},
   "outputs": [],
   "source": [
    "def forecast_comp_2(y_true, y_pred, color=None, title=None):\n",
    "    X_plot = [y_true.min(), y_true.max()]\n",
    "    fig = plt.figure(figsize=(12,8))\n",
    "    plt.scatter(y_true, y_pred, color='g', alpha=.4)\n",
    "    plt.xlabel(\"Actual values\")\n",
    "    plt.ylabel(\"Predicted values\")\n",
    "    plt.title(\"GHG Emissions - Actual Values vs predicted values\", \n",
    "              fontsize=18)\n",
    "    plt.show()"
   ]
  },
  {
   "cell_type": "code",
   "execution_count": 702,
   "id": "eb9bb4ca",
   "metadata": {
    "scrolled": false
   },
   "outputs": [
    {
     "data": {
      "image/png": "[encoded data removed]",
      "text/plain": [
       "<Figure size 864x576 with 1 Axes>"
      ]
     },
     "metadata": {
      "needs_background": "light"
     },
     "output_type": "display_data"
    }
   ],
   "source": [
    "y1_pred_rfr = grid_cvrfr.predict(X_test)\n",
    "forecast_comp_2(y_test, y1_pred_rfr, title=\"TotalGHGEmissions\")\n"
   ]
  },
  {
   "cell_type": "code",
   "execution_count": 565,
   "id": "68fcd5e3",
   "metadata": {},
   "outputs": [
    {
     "data": {
      "text/html": [
       "<div>\n",
       "<style scoped>\n",
       "    .dataframe tbody tr th:only-of-type {\n",
       "        vertical-align: middle;\n",
       "    }\n",
       "\n",
       "    .dataframe tbody tr th {\n",
       "        vertical-align: top;\n",
       "    }\n",
       "\n",
       "    .dataframe thead th {\n",
       "        text-align: right;\n",
       "    }\n",
       "</style>\n",
       "<table border=\"1\" class=\"dataframe\">\n",
       "  <thead>\n",
       "    <tr style=\"text-align: right;\">\n",
       "      <th></th>\n",
       "      <th>NumberofBuildings</th>\n",
       "      <th>NumberofFloors</th>\n",
       "      <th>PropertyGFATotal</th>\n",
       "      <th>AgeofBuilding</th>\n",
       "      <th>MeanBuildingGFA</th>\n",
       "      <th>MeanFloorGFA</th>\n",
       "      <th>BuildingGFApct</th>\n",
       "      <th>ParkingGFApct</th>\n",
       "      <th>DataYear</th>\n",
       "      <th>BuildingType</th>\n",
       "      <th>PrimaryPropertyType</th>\n",
       "      <th>Neighborhood</th>\n",
       "      <th>LargestPropertyUseType</th>\n",
       "    </tr>\n",
       "  </thead>\n",
       "  <tbody>\n",
       "    <tr>\n",
       "      <th>0</th>\n",
       "      <td>1.0</td>\n",
       "      <td>12.0</td>\n",
       "      <td>88434</td>\n",
       "      <td>88</td>\n",
       "      <td>88434.0</td>\n",
       "      <td>7369.500000</td>\n",
       "      <td>1.000000</td>\n",
       "      <td>0.000000</td>\n",
       "      <td>2015</td>\n",
       "      <td>NonResidential</td>\n",
       "      <td>Hotel</td>\n",
       "      <td>Downtown</td>\n",
       "      <td>Hotel</td>\n",
       "    </tr>\n",
       "    <tr>\n",
       "      <th>1</th>\n",
       "      <td>1.0</td>\n",
       "      <td>12.0</td>\n",
       "      <td>88434</td>\n",
       "      <td>89</td>\n",
       "      <td>88434.0</td>\n",
       "      <td>7369.500000</td>\n",
       "      <td>1.000000</td>\n",
       "      <td>0.000000</td>\n",
       "      <td>2016</td>\n",
       "      <td>NonResidential</td>\n",
       "      <td>Hotel</td>\n",
       "      <td>Downtown</td>\n",
       "      <td>Hotel</td>\n",
       "    </tr>\n",
       "    <tr>\n",
       "      <th>2</th>\n",
       "      <td>1.0</td>\n",
       "      <td>11.0</td>\n",
       "      <td>103566</td>\n",
       "      <td>19</td>\n",
       "      <td>103566.0</td>\n",
       "      <td>9415.090909</td>\n",
       "      <td>0.854547</td>\n",
       "      <td>0.145453</td>\n",
       "      <td>2015</td>\n",
       "      <td>NonResidential</td>\n",
       "      <td>Hotel</td>\n",
       "      <td>Downtown</td>\n",
       "      <td>Hotel</td>\n",
       "    </tr>\n",
       "    <tr>\n",
       "      <th>3</th>\n",
       "      <td>1.0</td>\n",
       "      <td>11.0</td>\n",
       "      <td>103566</td>\n",
       "      <td>20</td>\n",
       "      <td>103566.0</td>\n",
       "      <td>9415.090909</td>\n",
       "      <td>0.854547</td>\n",
       "      <td>0.145453</td>\n",
       "      <td>2016</td>\n",
       "      <td>NonResidential</td>\n",
       "      <td>Hotel</td>\n",
       "      <td>Downtown</td>\n",
       "      <td>Hotel</td>\n",
       "    </tr>\n",
       "    <tr>\n",
       "      <th>4</th>\n",
       "      <td>1.0</td>\n",
       "      <td>41.0</td>\n",
       "      <td>961990</td>\n",
       "      <td>46</td>\n",
       "      <td>961990.0</td>\n",
       "      <td>23463.170732</td>\n",
       "      <td>1.000000</td>\n",
       "      <td>0.000000</td>\n",
       "      <td>2015</td>\n",
       "      <td>NonResidential</td>\n",
       "      <td>Hotel</td>\n",
       "      <td>Downtown</td>\n",
       "      <td>Hotel</td>\n",
       "    </tr>\n",
       "    <tr>\n",
       "      <th>...</th>\n",
       "      <td>...</td>\n",
       "      <td>...</td>\n",
       "      <td>...</td>\n",
       "      <td>...</td>\n",
       "      <td>...</td>\n",
       "      <td>...</td>\n",
       "      <td>...</td>\n",
       "      <td>...</td>\n",
       "      <td>...</td>\n",
       "      <td>...</td>\n",
       "      <td>...</td>\n",
       "      <td>...</td>\n",
       "      <td>...</td>\n",
       "    </tr>\n",
       "    <tr>\n",
       "      <th>3168</th>\n",
       "      <td>1.0</td>\n",
       "      <td>1.0</td>\n",
       "      <td>18261</td>\n",
       "      <td>34</td>\n",
       "      <td>18261.0</td>\n",
       "      <td>18261.000000</td>\n",
       "      <td>1.000000</td>\n",
       "      <td>0.000000</td>\n",
       "      <td>2016</td>\n",
       "      <td>Nonresidential COS</td>\n",
       "      <td>Other</td>\n",
       "      <td>Delridge Neighborhoods</td>\n",
       "      <td>Other - Recreation</td>\n",
       "    </tr>\n",
       "    <tr>\n",
       "      <th>3169</th>\n",
       "      <td>1.0</td>\n",
       "      <td>1.0</td>\n",
       "      <td>16000</td>\n",
       "      <td>12</td>\n",
       "      <td>16000.0</td>\n",
       "      <td>16000.000000</td>\n",
       "      <td>1.000000</td>\n",
       "      <td>0.000000</td>\n",
       "      <td>2016</td>\n",
       "      <td>Nonresidential COS</td>\n",
       "      <td>Other</td>\n",
       "      <td>Downtown</td>\n",
       "      <td>Other - Recreation</td>\n",
       "    </tr>\n",
       "    <tr>\n",
       "      <th>3170</th>\n",
       "      <td>1.0</td>\n",
       "      <td>1.0</td>\n",
       "      <td>13157</td>\n",
       "      <td>42</td>\n",
       "      <td>13157.0</td>\n",
       "      <td>13157.000000</td>\n",
       "      <td>1.000000</td>\n",
       "      <td>0.000000</td>\n",
       "      <td>2016</td>\n",
       "      <td>Nonresidential COS</td>\n",
       "      <td>Other</td>\n",
       "      <td>Magnolia / Queen Anne</td>\n",
       "      <td>Other - Recreation</td>\n",
       "    </tr>\n",
       "    <tr>\n",
       "      <th>3171</th>\n",
       "      <td>1.0</td>\n",
       "      <td>1.0</td>\n",
       "      <td>14101</td>\n",
       "      <td>27</td>\n",
       "      <td>14101.0</td>\n",
       "      <td>14101.000000</td>\n",
       "      <td>1.000000</td>\n",
       "      <td>0.000000</td>\n",
       "      <td>2016</td>\n",
       "      <td>Nonresidential COS</td>\n",
       "      <td>Mixed Use Property</td>\n",
       "      <td>Greater Duwamish</td>\n",
       "      <td>Other - Recreation</td>\n",
       "    </tr>\n",
       "    <tr>\n",
       "      <th>3172</th>\n",
       "      <td>1.0</td>\n",
       "      <td>1.0</td>\n",
       "      <td>18258</td>\n",
       "      <td>78</td>\n",
       "      <td>18258.0</td>\n",
       "      <td>18258.000000</td>\n",
       "      <td>1.000000</td>\n",
       "      <td>0.000000</td>\n",
       "      <td>2016</td>\n",
       "      <td>Nonresidential COS</td>\n",
       "      <td>Mixed Use Property</td>\n",
       "      <td>Greater Duwamish</td>\n",
       "      <td>Other - Recreation</td>\n",
       "    </tr>\n",
       "  </tbody>\n",
       "</table>\n",
       "<p>3173 rows × 13 columns</p>\n",
       "</div>"
      ],
      "text/plain": [
       "      NumberofBuildings  NumberofFloors  PropertyGFATotal  AgeofBuilding  \\\n",
       "0                   1.0            12.0             88434             88   \n",
       "1                   1.0            12.0             88434             89   \n",
       "2                   1.0            11.0            103566             19   \n",
       "3                   1.0            11.0            103566             20   \n",
       "4                   1.0            41.0            961990             46   \n",
       "...                 ...             ...               ...            ...   \n",
       "3168                1.0             1.0             18261             34   \n",
       "3169                1.0             1.0             16000             12   \n",
       "3170                1.0             1.0             13157             42   \n",
       "3171                1.0             1.0             14101             27   \n",
       "3172                1.0             1.0             18258             78   \n",
       "\n",
       "      MeanBuildingGFA  MeanFloorGFA  BuildingGFApct  ParkingGFApct DataYear  \\\n",
       "0             88434.0   7369.500000        1.000000       0.000000     2015   \n",
       "1             88434.0   7369.500000        1.000000       0.000000     2016   \n",
       "2            103566.0   9415.090909        0.854547       0.145453     2015   \n",
       "3            103566.0   9415.090909        0.854547       0.145453     2016   \n",
       "4            961990.0  23463.170732        1.000000       0.000000     2015   \n",
       "...               ...           ...             ...            ...      ...   \n",
       "3168          18261.0  18261.000000        1.000000       0.000000     2016   \n",
       "3169          16000.0  16000.000000        1.000000       0.000000     2016   \n",
       "3170          13157.0  13157.000000        1.000000       0.000000     2016   \n",
       "3171          14101.0  14101.000000        1.000000       0.000000     2016   \n",
       "3172          18258.0  18258.000000        1.000000       0.000000     2016   \n",
       "\n",
       "            BuildingType PrimaryPropertyType            Neighborhood  \\\n",
       "0         NonResidential               Hotel                Downtown   \n",
       "1         NonResidential               Hotel                Downtown   \n",
       "2         NonResidential               Hotel                Downtown   \n",
       "3         NonResidential               Hotel                Downtown   \n",
       "4         NonResidential               Hotel                Downtown   \n",
       "...                  ...                 ...                     ...   \n",
       "3168  Nonresidential COS               Other  Delridge Neighborhoods   \n",
       "3169  Nonresidential COS               Other                Downtown   \n",
       "3170  Nonresidential COS               Other   Magnolia / Queen Anne   \n",
       "3171  Nonresidential COS  Mixed Use Property        Greater Duwamish   \n",
       "3172  Nonresidential COS  Mixed Use Property        Greater Duwamish   \n",
       "\n",
       "     LargestPropertyUseType  \n",
       "0                     Hotel  \n",
       "1                     Hotel  \n",
       "2                     Hotel  \n",
       "3                     Hotel  \n",
       "4                     Hotel  \n",
       "...                     ...  \n",
       "3168     Other - Recreation  \n",
       "3169     Other - Recreation  \n",
       "3170     Other - Recreation  \n",
       "3171     Other - Recreation  \n",
       "3172     Other - Recreation  \n",
       "\n",
       "[3173 rows x 13 columns]"
      ]
     },
     "execution_count": 565,
     "metadata": {},
     "output_type": "execute_result"
    }
   ],
   "source": [
    "X"
   ]
  },
  {
   "cell_type": "code",
   "execution_count": 566,
   "id": "b897cf47",
   "metadata": {},
   "outputs": [
    {
     "ename": "AttributeError",
     "evalue": "'GridSearchCV' object has no attribute 'named_steps'",
     "output_type": "error",
     "traceback": [
      "\u001b[1;31m---------------------------------------------------------------------------\u001b[0m",
      "\u001b[1;31mAttributeError\u001b[0m                            Traceback (most recent call last)",
      "\u001b[1;32m<ipython-input-566-482f4febde01>\u001b[0m in \u001b[0;36m<module>\u001b[1;34m\u001b[0m\n\u001b[1;32m----> 1\u001b[1;33m \u001b[0mfeature_importance\u001b[0m \u001b[1;33m=\u001b[0m \u001b[0mgrid_cvrfr\u001b[0m\u001b[1;33m.\u001b[0m\u001b[0mfit\u001b[0m\u001b[1;33m(\u001b[0m\u001b[0mX_train\u001b[0m\u001b[1;33m,\u001b[0m \u001b[0my_train\u001b[0m\u001b[1;33m)\u001b[0m\u001b[1;33m.\u001b[0m\u001b[0mnamed_steps\u001b[0m\u001b[1;33m[\u001b[0m\u001b[1;34m'regressor'\u001b[0m\u001b[1;33m]\u001b[0m\u001b[1;33m.\u001b[0m\u001b[0mbest_estimator_\u001b[0m\u001b[1;33m.\u001b[0m\u001b[0mregressor_\u001b[0m\u001b[1;33m.\u001b[0m\u001b[0mfeature_importances_\u001b[0m\u001b[1;33m\u001b[0m\u001b[1;33m\u001b[0m\u001b[0m\n\u001b[0m\u001b[0;32m      2\u001b[0m \u001b[0mfeatures_names\u001b[0m \u001b[1;33m=\u001b[0m \u001b[0mget_feature_names\u001b[0m\u001b[1;33m(\u001b[0m\u001b[0mgrid_cvrfr\u001b[0m\u001b[1;33m.\u001b[0m\u001b[0mfit\u001b[0m\u001b[1;33m(\u001b[0m\u001b[0mX_train\u001b[0m\u001b[1;33m,\u001b[0m \u001b[0my_train\u001b[0m\u001b[1;33m)\u001b[0m\u001b[1;33m.\u001b[0m\u001b[0mnamed_steps\u001b[0m\u001b[1;33m[\u001b[0m\u001b[1;34m'preprocessor'\u001b[0m\u001b[1;33m]\u001b[0m\u001b[1;33m)\u001b[0m\u001b[1;33m\u001b[0m\u001b[1;33m\u001b[0m\u001b[0m\n\u001b[0;32m      3\u001b[0m std = np.std([\n\u001b[0;32m      4\u001b[0m     tree.feature_importances_ for tree in grid_cvrfr.fit(X_train, y_train).named_steps['regressor'].best_estimator_.regressor_], axis=0)\n\u001b[0;32m      5\u001b[0m \u001b[0mdf_feature_importance\u001b[0m \u001b[1;33m=\u001b[0m \u001b[0mpd\u001b[0m\u001b[1;33m.\u001b[0m\u001b[0mSeries\u001b[0m\u001b[1;33m(\u001b[0m\u001b[0mfeature_importance\u001b[0m\u001b[1;33m,\u001b[0m \u001b[0mindex\u001b[0m\u001b[1;33m=\u001b[0m\u001b[0mfeatures_names\u001b[0m\u001b[1;33m)\u001b[0m\u001b[1;33m\u001b[0m\u001b[1;33m\u001b[0m\u001b[0m\n",
      "\u001b[1;31mAttributeError\u001b[0m: 'GridSearchCV' object has no attribute 'named_steps'"
     ]
    }
   ],
   "source": [
    "feature_importance = grid_cvrfr.fit(X_train, y_train).named_steps['regressor'].best_estimator_.regressor_.feature_importances_ \n",
    "features_names = get_feature_names(grid_cvrfr.fit(X_train, y_train).named_steps['preprocessor'])\n",
    "std = np.std([\n",
    "    tree.feature_importances_ for tree in grid_cvrfr.fit(X_train, y_train).named_steps['regressor'].best_estimator_.regressor_], axis=0)\n",
    "df_feature_importance = pd.Series(feature_importance, index=features_names)\n",
    "\n",
    "fig, ax = plt.subplots(figsize=(12,8))\n",
    "df_feature_importance.plot.bar(yerr=std, ax=ax)\n",
    "ax.set_title(\"Feature importances du modèle RandomForestRegressor sur les émissions de CO2\", fontdict=font_title)\n",
    "ax.set_ylabel(\"Diminution moyenne des impuretés\")\n",
    "fig.tight_layout()"
   ]
  }
 ],
 "metadata": {
  "kernelspec": {
   "display_name": "Python 3",
   "language": "python",
   "name": "python3"
  },
  "language_info": {
   "codemirror_mode": {
    "name": "ipython",
    "version": 3
   },
   "file_extension": ".py",
   "mimetype": "text/x-python",
   "name": "python",
   "nbconvert_exporter": "python",
   "pygments_lexer": "ipython3",
   "version": "3.8.8"
  }
 },
 "nbformat": 4,
 "nbformat_minor": 5
}
