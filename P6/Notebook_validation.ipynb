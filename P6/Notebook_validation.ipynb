{
 "cells": [
  {
   "cell_type": "code",
   "execution_count": null,
   "id": "517dd95b",
   "metadata": {},
   "outputs": [],
   "source": [
    "# Validation Notebook in order to prevent error message on main notebook\n",
    "# due to copy/paste cells from one notebook to another\n",
    "\n",
    "import nbformat as nbf\n",
    "from glob import glob\n",
    "\n",
    "import uuid\n",
    "def get_cell_id(id_length=8):\n",
    "    return uuid.uuid4().hex[:id_length]\n",
    "\n",
    "# -- SETUP\n",
    "nb_name = 'image_clustering.ipynb'\n",
    "\n",
    "# -- MAIN\n",
    "# grab notebook\n",
    "notebooks = list(filter(lambda x: nb_name in x, glob(\"./*.ipynb\", recursive=True)))\n",
    "\n",
    "# iterate over notebooks\n",
    "for ipath in sorted(notebooks):\n",
    "    # load notebook\n",
    "    ntbk = nbf.read(ipath, nbf.NO_CONVERT)\n",
    "    \n",
    "    cell_ids = []\n",
    "    for cell in ntbk.cells:\n",
    "        cell_ids.append(cell['id'])\n",
    "\n",
    "    # reset cell ids if there are duplicates\n",
    "    if not len(cell_ids) == len(set(cell_ids)): \n",
    "        for cell in ntbk.cells:\n",
    "            cell['id'] = get_cell_id()\n",
    "\n",
    "        nbf.write(ntbk, ipath)"
   ]
  }
 ],
 "metadata": {
  "kernelspec": {
   "display_name": "Python 3",
   "language": "python",
   "name": "python3"
  },
  "language_info": {
   "codemirror_mode": {
    "name": "ipython",
    "version": 3
   },
   "file_extension": ".py",
   "mimetype": "text/x-python",
   "name": "python",
   "nbconvert_exporter": "python",
   "pygments_lexer": "ipython3",
   "version": "3.8.8"
  }
 },
 "nbformat": 4,
 "nbformat_minor": 5
}
