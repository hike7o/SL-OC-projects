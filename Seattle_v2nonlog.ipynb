{
 "cells": [
  {
   "cell_type": "markdown",
   "id": "b51e2588",
   "metadata": {},
   "source": [
    "<div style=\"width:100%;text-align: top;\"> <img align=middle src=\"https://mmo.aiircdn.com/141/5ed59862e602f.png\" alt=\"Heat beating\" style=\"height:400px;margin-top:1rem;\"> </div>"
   ]
  },
  {
   "cell_type": "markdown",
   "id": "8baf8708",
   "metadata": {},
   "source": [
    "## BUILDING ENERGY CONSUMPTION ANALYSIS"
   ]
  },
  {
   "cell_type": "markdown",
   "id": "e579261c",
   "metadata": {},
   "source": [
    "Climate change is a global challenge and carbon pollution knows no boundaries.<br>\n",
    "In 2011, Seattle adopted the goal to become carbon neutral by 2050. The overall approach to carbon reductions in the buildings is to provide information, financial and other incentives, and technical assistance, while establishing strong standards for efficiency and emissions. <br>\n",
    "As part of the City of Seattle, our team will focus on Green House Gas Emissions from non residential buildings.<br>\n",
    "Our final objective is to predict CO2 emissions and the Total Energy Use for buildings that do not have yet any measurements.  <br>\n",
    "To achieve this"
   ]
  },
  {
   "cell_type": "code",
   "execution_count": 652,
   "id": "40b57bb7",
   "metadata": {},
   "outputs": [],
   "source": [
    "#! usr/bin/env python 3\n",
    "# coding: utf-8\n",
    "\n",
    "# Importing librairies\n",
    "\n",
    "import numpy as np                # numerical data processing\n",
    "import pandas as pd               # numerical tables & time series\n",
    "import scipy as sp                # numerical integration, interpolation, optimization, linear algebra, and statistics\n",
    "import scipy.stats as st          # statistical functions\n",
    "import seaborn as sns             # statistical data visualization\n",
    "import matplotlib.pyplot as plt   # static, animated, and interactive visualizations in Python\n",
    "\n",
    "from sklearn import model_selection\n",
    "from sklearn.linear_model import Ridge\n",
    "from sklearn.linear_model import Lasso\n",
    "from sklearn.linear_model import ElasticNet\n",
    "from sklearn.neighbors import KNeighborsRegressor\n",
    "from sklearn.tree import DecisionTreeRegressor\n",
    "from sklearn.svm import SVR\n",
    "from sklearn.ensemble import RandomForestRegressor\n",
    "from math import sqrt\n"
   ]
  },
  {
   "cell_type": "code",
   "execution_count": 653,
   "id": "d227a01f",
   "metadata": {},
   "outputs": [
    {
     "data": {
      "text/html": [
       "<div>\n",
       "<style scoped>\n",
       "    .dataframe tbody tr th:only-of-type {\n",
       "        vertical-align: middle;\n",
       "    }\n",
       "\n",
       "    .dataframe tbody tr th {\n",
       "        vertical-align: top;\n",
       "    }\n",
       "\n",
       "    .dataframe thead th {\n",
       "        text-align: right;\n",
       "    }\n",
       "</style>\n",
       "<table border=\"1\" class=\"dataframe\">\n",
       "  <thead>\n",
       "    <tr style=\"text-align: right;\">\n",
       "      <th></th>\n",
       "      <th>OSEBuildingID</th>\n",
       "      <th>DataYear</th>\n",
       "      <th>BuildingType</th>\n",
       "      <th>PrimaryPropertyType</th>\n",
       "      <th>PropertyName</th>\n",
       "      <th>Neighborhood</th>\n",
       "      <th>NumberofBuildings</th>\n",
       "      <th>NumberofFloors</th>\n",
       "      <th>PropertyGFATotal</th>\n",
       "      <th>LargestPropertyUseType</th>\n",
       "      <th>...</th>\n",
       "      <th>Address</th>\n",
       "      <th>City</th>\n",
       "      <th>State</th>\n",
       "      <th>ZipCode</th>\n",
       "      <th>AgeofBuilding</th>\n",
       "      <th>MeanBuildingGFA</th>\n",
       "      <th>MeanFloorGFA</th>\n",
       "      <th>PropertyUseTypeNumber</th>\n",
       "      <th>BuildingGFApct</th>\n",
       "      <th>ParkingGFApct</th>\n",
       "    </tr>\n",
       "  </thead>\n",
       "  <tbody>\n",
       "    <tr>\n",
       "      <th>0</th>\n",
       "      <td>1</td>\n",
       "      <td>2015</td>\n",
       "      <td>NonResidential</td>\n",
       "      <td>Hotel</td>\n",
       "      <td>Mayflower Park Hotel</td>\n",
       "      <td>Downtown</td>\n",
       "      <td>1.0</td>\n",
       "      <td>12.0</td>\n",
       "      <td>88434</td>\n",
       "      <td>Hotel</td>\n",
       "      <td>...</td>\n",
       "      <td>405 Olive Way</td>\n",
       "      <td>Seattle</td>\n",
       "      <td>WA</td>\n",
       "      <td>98101.0</td>\n",
       "      <td>88</td>\n",
       "      <td>88434.0</td>\n",
       "      <td>7369.5</td>\n",
       "      <td>1</td>\n",
       "      <td>1.0</td>\n",
       "      <td>0.0</td>\n",
       "    </tr>\n",
       "    <tr>\n",
       "      <th>1</th>\n",
       "      <td>1</td>\n",
       "      <td>2016</td>\n",
       "      <td>NonResidential</td>\n",
       "      <td>Hotel</td>\n",
       "      <td>Mayflower Park Hotel</td>\n",
       "      <td>Downtown</td>\n",
       "      <td>1.0</td>\n",
       "      <td>12.0</td>\n",
       "      <td>88434</td>\n",
       "      <td>Hotel</td>\n",
       "      <td>...</td>\n",
       "      <td>405 Olive Way</td>\n",
       "      <td>Seattle</td>\n",
       "      <td>WA</td>\n",
       "      <td>98101.0</td>\n",
       "      <td>89</td>\n",
       "      <td>88434.0</td>\n",
       "      <td>7369.5</td>\n",
       "      <td>1</td>\n",
       "      <td>1.0</td>\n",
       "      <td>0.0</td>\n",
       "    </tr>\n",
       "  </tbody>\n",
       "</table>\n",
       "<p>2 rows × 27 columns</p>\n",
       "</div>"
      ],
      "text/plain": [
       "   OSEBuildingID  DataYear    BuildingType PrimaryPropertyType  \\\n",
       "0              1      2015  NonResidential               Hotel   \n",
       "1              1      2016  NonResidential               Hotel   \n",
       "\n",
       "           PropertyName Neighborhood  NumberofBuildings  NumberofFloors  \\\n",
       "0  Mayflower Park Hotel     Downtown                1.0            12.0   \n",
       "1  Mayflower Park Hotel     Downtown                1.0            12.0   \n",
       "\n",
       "   PropertyGFATotal LargestPropertyUseType  ...         Address      City  \\\n",
       "0             88434                  Hotel  ...   405 Olive Way   Seattle   \n",
       "1             88434                  Hotel  ...   405 Olive Way   Seattle   \n",
       "\n",
       "   State  ZipCode AgeofBuilding  MeanBuildingGFA  MeanFloorGFA  \\\n",
       "0     WA  98101.0            88          88434.0        7369.5   \n",
       "1     WA  98101.0            89          88434.0        7369.5   \n",
       "\n",
       "  PropertyUseTypeNumber BuildingGFApct ParkingGFApct  \n",
       "0                     1            1.0           0.0  \n",
       "1                     1            1.0           0.0  \n",
       "\n",
       "[2 rows x 27 columns]"
      ]
     },
     "execution_count": 653,
     "metadata": {},
     "output_type": "execute_result"
    }
   ],
   "source": [
    "# Transforming input files.csv to dataframes\n",
    "\n",
    "df_data = pd.read_csv(\"data_cleaned.csv\")\n",
    "df_data = df_data.drop(['Unnamed: 0'], axis=1)\n",
    "df_data.head(2)\n"
   ]
  },
  {
   "cell_type": "code",
   "execution_count": 654,
   "id": "07c85fb7",
   "metadata": {},
   "outputs": [
    {
     "name": "stdout",
     "output_type": "stream",
     "text": [
      "<class 'pandas.core.frame.DataFrame'>\n",
      "RangeIndex: 3173 entries, 0 to 3172\n",
      "Data columns (total 27 columns):\n",
      " #   Column                        Non-Null Count  Dtype  \n",
      "---  ------                        --------------  -----  \n",
      " 0   OSEBuildingID                 3173 non-null   int64  \n",
      " 1   DataYear                      3173 non-null   int64  \n",
      " 2   BuildingType                  3173 non-null   object \n",
      " 3   PrimaryPropertyType           3173 non-null   object \n",
      " 4   PropertyName                  3173 non-null   object \n",
      " 5   Neighborhood                  3173 non-null   object \n",
      " 6   NumberofBuildings             3173 non-null   float64\n",
      " 7   NumberofFloors                3173 non-null   float64\n",
      " 8   PropertyGFATotal              3173 non-null   int64  \n",
      " 9   LargestPropertyUseType        3104 non-null   object \n",
      " 10  YearsENERGYSTARCertified      183 non-null    object \n",
      " 11  ENERGYSTARScore               2104 non-null   float64\n",
      " 12  SiteEnergyUse(kBtu)           3173 non-null   float64\n",
      " 13  GHGEmissions(MetricTonsCO2e)  3173 non-null   float64\n",
      " 14  Outlier                       28 non-null     object \n",
      " 15  Latitude                      3173 non-null   float64\n",
      " 16  Longitude                     3173 non-null   float64\n",
      " 17  Address                       3173 non-null   object \n",
      " 18  City                          3173 non-null   object \n",
      " 19  State                         3173 non-null   object \n",
      " 20  ZipCode                       3160 non-null   float64\n",
      " 21  AgeofBuilding                 3173 non-null   int64  \n",
      " 22  MeanBuildingGFA               3173 non-null   float64\n",
      " 23  MeanFloorGFA                  3173 non-null   float64\n",
      " 24  PropertyUseTypeNumber         3173 non-null   int64  \n",
      " 25  BuildingGFApct                3173 non-null   float64\n",
      " 26  ParkingGFApct                 3173 non-null   float64\n",
      "dtypes: float64(12), int64(5), object(10)\n",
      "memory usage: 669.4+ KB\n"
     ]
    }
   ],
   "source": [
    "target_features = ['SiteEnergyUse(kBtu)','GHGEmissions(MetricTonsCO2e)']\n",
    "df_data.info()"
   ]
  },
  {
   "cell_type": "code",
   "execution_count": 655,
   "id": "df1e7ae3",
   "metadata": {},
   "outputs": [],
   "source": [
    "non_reg = ['YearsENERGYSTARCertified', 'Outlier']\n",
    "df_data.drop(non_reg, axis=1, inplace=True)"
   ]
  },
  {
   "cell_type": "code",
   "execution_count": 656,
   "id": "4f4f1817",
   "metadata": {},
   "outputs": [],
   "source": [
    "loc_features = ['OSEBuildingID', 'PropertyName', 'Address', 'City', 'State', 'ZipCode']\n",
    "df_data_loc = df_data[loc_features]\n",
    "df_data.drop(loc_features, axis=1, inplace = True)"
   ]
  },
  {
   "cell_type": "code",
   "execution_count": 657,
   "id": "4b6973ab",
   "metadata": {},
   "outputs": [],
   "source": [
    "space = ['Latitude', 'Longitude']\n",
    "df_data_nonloc = df_data.drop(space, axis=1)"
   ]
  },
  {
   "cell_type": "code",
   "execution_count": 658,
   "id": "d971575d",
   "metadata": {},
   "outputs": [],
   "source": [
    "df_data_non_ener = df_data_nonloc.drop(['ENERGYSTARScore'], axis=1)\n",
    "df_data_non_ener['DataYear'] = df_data_non_ener['DataYear'].astype(str)"
   ]
  },
  {
   "cell_type": "code",
   "execution_count": 659,
   "id": "44449858",
   "metadata": {
    "scrolled": true
   },
   "outputs": [
    {
     "name": "stdout",
     "output_type": "stream",
     "text": [
      "<class 'pandas.core.frame.DataFrame'>\n",
      "RangeIndex: 3173 entries, 0 to 3172\n",
      "Data columns (total 16 columns):\n",
      " #   Column                        Non-Null Count  Dtype  \n",
      "---  ------                        --------------  -----  \n",
      " 0   DataYear                      3173 non-null   object \n",
      " 1   BuildingType                  3173 non-null   object \n",
      " 2   PrimaryPropertyType           3173 non-null   object \n",
      " 3   Neighborhood                  3173 non-null   object \n",
      " 4   NumberofBuildings             3173 non-null   float64\n",
      " 5   NumberofFloors                3173 non-null   float64\n",
      " 6   PropertyGFATotal              3173 non-null   int64  \n",
      " 7   LargestPropertyUseType        3104 non-null   object \n",
      " 8   SiteEnergyUse(kBtu)           3173 non-null   float64\n",
      " 9   GHGEmissions(MetricTonsCO2e)  3173 non-null   float64\n",
      " 10  AgeofBuilding                 3173 non-null   int64  \n",
      " 11  MeanBuildingGFA               3173 non-null   float64\n",
      " 12  MeanFloorGFA                  3173 non-null   float64\n",
      " 13  PropertyUseTypeNumber         3173 non-null   int64  \n",
      " 14  BuildingGFApct                3173 non-null   float64\n",
      " 15  ParkingGFApct                 3173 non-null   float64\n",
      "dtypes: float64(8), int64(3), object(5)\n",
      "memory usage: 396.8+ KB\n"
     ]
    }
   ],
   "source": [
    "df_data_non_ener.info()"
   ]
  },
  {
   "cell_type": "code",
   "execution_count": 660,
   "id": "711e6cbf",
   "metadata": {},
   "outputs": [],
   "source": [
    "df_data_non_ener['LargestPropertyUseType'] = df_data_non_ener['LargestPropertyUseType'].fillna(\"Nodata\")"
   ]
  },
  {
   "cell_type": "code",
   "execution_count": 661,
   "id": "9f356d5b",
   "metadata": {},
   "outputs": [],
   "source": [
    "numerical_features = df_data_non_ener.select_dtypes(include=['int64','float64'])\n",
    "categorical_features = df_data_non_ener.select_dtypes(exclude=['int64','float64']) "
   ]
  },
  {
   "cell_type": "code",
   "execution_count": 662,
   "id": "af0b578c",
   "metadata": {},
   "outputs": [
    {
     "name": "stdout",
     "output_type": "stream",
     "text": [
      "<class 'pandas.core.frame.DataFrame'>\n",
      "RangeIndex: 3173 entries, 0 to 3172\n",
      "Data columns (total 11 columns):\n",
      " #   Column                        Non-Null Count  Dtype  \n",
      "---  ------                        --------------  -----  \n",
      " 0   NumberofBuildings             3173 non-null   float64\n",
      " 1   NumberofFloors                3173 non-null   float64\n",
      " 2   PropertyGFATotal              3173 non-null   int64  \n",
      " 3   SiteEnergyUse(kBtu)           3173 non-null   float64\n",
      " 4   GHGEmissions(MetricTonsCO2e)  3173 non-null   float64\n",
      " 5   AgeofBuilding                 3173 non-null   int64  \n",
      " 6   MeanBuildingGFA               3173 non-null   float64\n",
      " 7   MeanFloorGFA                  3173 non-null   float64\n",
      " 8   PropertyUseTypeNumber         3173 non-null   int64  \n",
      " 9   BuildingGFApct                3173 non-null   float64\n",
      " 10  ParkingGFApct                 3173 non-null   float64\n",
      "dtypes: float64(8), int64(3)\n",
      "memory usage: 272.8 KB\n"
     ]
    }
   ],
   "source": [
    "numerical_features.info()"
   ]
  },
  {
   "cell_type": "code",
   "execution_count": 663,
   "id": "af7e59f5",
   "metadata": {
    "scrolled": false
   },
   "outputs": [
    {
     "name": "stdout",
     "output_type": "stream",
     "text": [
      "<class 'pandas.core.frame.DataFrame'>\n",
      "RangeIndex: 3173 entries, 0 to 3172\n",
      "Data columns (total 5 columns):\n",
      " #   Column                  Non-Null Count  Dtype \n",
      "---  ------                  --------------  ----- \n",
      " 0   DataYear                3173 non-null   object\n",
      " 1   BuildingType            3173 non-null   object\n",
      " 2   PrimaryPropertyType     3173 non-null   object\n",
      " 3   Neighborhood            3173 non-null   object\n",
      " 4   LargestPropertyUseType  3173 non-null   object\n",
      "dtypes: object(5)\n",
      "memory usage: 124.1+ KB\n"
     ]
    }
   ],
   "source": [
    "categorical_features.info()"
   ]
  },
  {
   "cell_type": "markdown",
   "id": "6ca692ee",
   "metadata": {},
   "source": [
    "### LINEAR REGRESSION"
   ]
  },
  {
   "cell_type": "markdown",
   "id": "cb676366",
   "metadata": {},
   "source": [
    "In order to create a regression model that can the numerical features to the Energy Use or GHG Emissions, a baseline model will be built to get a basis for comparison. Linear regression will then be computed and compared to the baseline to check any improvement in our model.\n",
    "\n",
    "Step 1: __DATA SELECTION__"
   ]
  },
  {
   "cell_type": "code",
   "execution_count": null,
   "id": "c7aa32d0",
   "metadata": {},
   "outputs": [],
   "source": []
  },
  {
   "cell_type": "code",
   "execution_count": 664,
   "id": "b0ef87ab",
   "metadata": {},
   "outputs": [],
   "source": [
    "# Data Selection \n",
    "y = df_data_non_ener['SiteEnergyUse(kBtu)'].values\n",
    "X = numerical_features.drop(target_features, axis=1)\n"
   ]
  },
  {
   "cell_type": "markdown",
   "id": "89f9d091",
   "metadata": {},
   "source": [
    "Step 2: __STANDARDIZATION__<br>\n",
    "\n",
    "StandardScaler standardizes a feature by subtracting the mean and then scaling to unit variance. Unit variance means dividing all the values by the standard deviation. StandardScaler results in a distribution with a standard deviation equal to 1. "
   ]
  },
  {
   "cell_type": "code",
   "execution_count": 665,
   "id": "4bc0b589",
   "metadata": {},
   "outputs": [],
   "source": [
    "# Standardization\n",
    "from sklearn.preprocessing import StandardScaler\n",
    "scaler = StandardScaler()\n",
    "scaler.fit(X)\n",
    "X_scaled = scaler.transform(X)"
   ]
  },
  {
   "cell_type": "markdown",
   "id": "81df5f5f",
   "metadata": {},
   "source": [
    "Step 3: __TRAIN-TEST SPLIT EVALUATION__<br>\n",
    "\n",
    "The procedure involves taking a dataset and dividing it into two subsets. The first subset is used to fit the model and is referred to as the training dataset. The second subset is not used to train the model; instead, the input element of the dataset is provided to the model, then predictions are made and compared to the expected values. This second dataset is referred to as the test dataset.<br>\n",
    "The objective is to estimate the performance of the machine learning model on new data: data not used to train the model."
   ]
  },
  {
   "cell_type": "code",
   "execution_count": 666,
   "id": "9e832a5d",
   "metadata": {},
   "outputs": [],
   "source": [
    "from sklearn.model_selection import train_test_split, cross_val_score\n",
    "X_train, X_test, y_train, y_test = train_test_split(X_scaled, y, test_size=0.3, random_state=42)\n"
   ]
  },
  {
   "cell_type": "markdown",
   "id": "6f44442a",
   "metadata": {},
   "source": [
    "Step 4: __BASELINE CREATION__<br>\n",
    "\n",
    "The Dummy Regressor is a kind of Regressor that gives prediction based on simple strategies without paying any attention to the input Data. The sklearn library provides Dummy Regressor which is used to set up a baseline for comparing Linear Regression for instance. Training the dummy model is similar to training any regular regression model, except for the strategies. The main role of strategy is to predict target values without any influence of the training data. We are here using the strategy \"mean\" which is the default strategy used by the Dummy Regressor. It always predicts the mean of the training target values."
   ]
  },
  {
   "cell_type": "code",
   "execution_count": 667,
   "id": "ccd86649",
   "metadata": {},
   "outputs": [],
   "source": [
    "from sklearn.dummy import DummyRegressor\n",
    "dummy_reg = DummyRegressor(strategy=\"mean\")\n",
    "dummy_reg.fit(X_train, y_train)\n",
    "dummy_pred = dummy_reg.predict(X_test)"
   ]
  },
  {
   "cell_type": "markdown",
   "id": "fe264c7e",
   "metadata": {},
   "source": [
    "To evaluate our regression model, we compute few meaningful prameters to estimate how far our predictions are from the actual data:\n",
    "\n",
    "__MAE__ is the sum of absolute differences between our target and predicted variables.<br>\n",
    "__MSE__ measures the average squared difference between the estimated values and the actual value.<br>\n",
    "__RMSE__ is the standard deviation of the residuals.<br>\n",
    "__RSS__ is the residuals sum of squares.<br>\n",
    "__R²__ is the coefficient of determination and evaluates the scatter of the data points around the fitted regression line."
   ]
  },
  {
   "cell_type": "code",
   "execution_count": 705,
   "id": "35cf9285",
   "metadata": {},
   "outputs": [
    {
     "data": {
      "text/html": [
       "<div>\n",
       "<style scoped>\n",
       "    .dataframe tbody tr th:only-of-type {\n",
       "        vertical-align: middle;\n",
       "    }\n",
       "\n",
       "    .dataframe tbody tr th {\n",
       "        vertical-align: top;\n",
       "    }\n",
       "\n",
       "    .dataframe thead th {\n",
       "        text-align: right;\n",
       "    }\n",
       "</style>\n",
       "<table border=\"1\" class=\"dataframe\">\n",
       "  <thead>\n",
       "    <tr style=\"text-align: right;\">\n",
       "      <th></th>\n",
       "      <th>Functions</th>\n",
       "      <th>Baseline</th>\n",
       "    </tr>\n",
       "  </thead>\n",
       "  <tbody>\n",
       "    <tr>\n",
       "      <th>1</th>\n",
       "      <td>Mean Absolute Error (MAE)</td>\n",
       "      <td>8.665980e+06</td>\n",
       "    </tr>\n",
       "    <tr>\n",
       "      <th>2</th>\n",
       "      <td>Residual Sum of Squares (RSS)</td>\n",
       "      <td>3.586807e+17</td>\n",
       "    </tr>\n",
       "    <tr>\n",
       "      <th>3</th>\n",
       "      <td>Mean Squared Error (MSE)</td>\n",
       "      <td>3.767654e+14</td>\n",
       "    </tr>\n",
       "    <tr>\n",
       "      <th>4</th>\n",
       "      <td>Root Mean Squared Error (RMSE)</td>\n",
       "      <td>1.941045e+07</td>\n",
       "    </tr>\n",
       "    <tr>\n",
       "      <th>5</th>\n",
       "      <td>Coefficient of determination (R²)</td>\n",
       "      <td>-5.615692e-04</td>\n",
       "    </tr>\n",
       "  </tbody>\n",
       "</table>\n",
       "</div>"
      ],
      "text/plain": [
       "                           Functions      Baseline\n",
       "1          Mean Absolute Error (MAE)  8.665980e+06\n",
       "2      Residual Sum of Squares (RSS)  3.586807e+17\n",
       "3           Mean Squared Error (MSE)  3.767654e+14\n",
       "4     Root Mean Squared Error (RMSE)  1.941045e+07\n",
       "5  Coefficient of determination (R²) -5.615692e-04"
      ]
     },
     "execution_count": 705,
     "metadata": {},
     "output_type": "execute_result"
    }
   ],
   "source": [
    "from sklearn.metrics import mean_absolute_error\n",
    "from sklearn.metrics import mean_squared_error\n",
    "from sklearn.metrics import r2_score\n",
    "\n",
    "def algo_model(y_actual, y_forecast):\n",
    "    \"\"\"Return metrics for model evaluation in regression\"\"\"\n",
    "    \n",
    "    y_actual, y_forecast = np.array(y_actual), np.array(y_forecast)\n",
    "    \n",
    "    mae = mean_absolute_error(y_actual, y_forecast)\n",
    "    rss = np.sum((y_actual - y_forecast)**2)\n",
    "    mse = mean_squared_error(y_actual, y_forecast)\n",
    "    rmse = np.sqrt(mse)\n",
    "    \n",
    "    functions = {\"Functions\":[\"Mean Absolute Error (MAE)\", \"Residual Sum of Squares (RSS)\",\n",
    "                              \"Mean Squared Error (MSE)\", \"Root Mean Squared Error (RMSE)\",\n",
    "                              \"Coefficient of determination (R²)\"],\n",
    "                              \"Results\":[mae, rss, mse, rmse, r2_score(y_actual, y_forecast)]}\n",
    "    \n",
    "    df_functions = pd.DataFrame(functions) \n",
    "    return df_functions\n",
    "\n",
    "dummy_metrics = algo_model(y_test, dummy_pred).rename(columns={'Results':'Baseline'})\n",
    "dummy_metrics.index = np.arange(1, len(dummy_metrics)+1)\n",
    "dummy_metrics"
   ]
  },
  {
   "cell_type": "markdown",
   "id": "51ba074a",
   "metadata": {},
   "source": [
    "As can be seen from the above result, the expected Dummy Regressor always predict the R² score as 0, since it is always predicting a constant without having an insight of the output. This baseline will be a useful point for comparison with our linear regression."
   ]
  },
  {
   "cell_type": "markdown",
   "id": "21682637",
   "metadata": {},
   "source": [
    "Step 5-1: __LINEAR REGRESSION__<br>\n"
   ]
  },
  {
   "cell_type": "markdown",
   "id": "83d120b9",
   "metadata": {},
   "source": [
    "The simplest form of regression is the linear regression, which assumes that the predictors have a linear relationship with the target variable. The input variables are assumed to have a Gaussian distribution. Another assumption is that the predictors are not highly correlated with each other (a problem called multi-collinearity)."
   ]
  },
  {
   "cell_type": "code",
   "execution_count": 669,
   "id": "ebb089d9",
   "metadata": {},
   "outputs": [
    {
     "data": {
      "text/html": [
       "<div>\n",
       "<style scoped>\n",
       "    .dataframe tbody tr th:only-of-type {\n",
       "        vertical-align: middle;\n",
       "    }\n",
       "\n",
       "    .dataframe tbody tr th {\n",
       "        vertical-align: top;\n",
       "    }\n",
       "\n",
       "    .dataframe thead th {\n",
       "        text-align: right;\n",
       "    }\n",
       "</style>\n",
       "<table border=\"1\" class=\"dataframe\">\n",
       "  <thead>\n",
       "    <tr style=\"text-align: right;\">\n",
       "      <th></th>\n",
       "      <th>Functions</th>\n",
       "      <th>Baseline</th>\n",
       "      <th>Linear Regression</th>\n",
       "    </tr>\n",
       "  </thead>\n",
       "  <tbody>\n",
       "    <tr>\n",
       "      <th>1</th>\n",
       "      <td>Mean Absolute Error (MAE)</td>\n",
       "      <td>8.665980e+06</td>\n",
       "      <td>5.267541e+06</td>\n",
       "    </tr>\n",
       "    <tr>\n",
       "      <th>2</th>\n",
       "      <td>Residual Sum of Squares (RSS)</td>\n",
       "      <td>3.586807e+17</td>\n",
       "      <td>2.089391e+17</td>\n",
       "    </tr>\n",
       "    <tr>\n",
       "      <th>3</th>\n",
       "      <td>Mean Squared Error (MSE)</td>\n",
       "      <td>3.767654e+14</td>\n",
       "      <td>2.194739e+14</td>\n",
       "    </tr>\n",
       "    <tr>\n",
       "      <th>4</th>\n",
       "      <td>Root Mean Squared Error (RMSE)</td>\n",
       "      <td>1.941045e+07</td>\n",
       "      <td>1.481465e+07</td>\n",
       "    </tr>\n",
       "    <tr>\n",
       "      <th>5</th>\n",
       "      <td>Coefficient of determination (R²)</td>\n",
       "      <td>-0.000000e+00</td>\n",
       "      <td>4.200000e-01</td>\n",
       "    </tr>\n",
       "  </tbody>\n",
       "</table>\n",
       "</div>"
      ],
      "text/plain": [
       "                           Functions      Baseline  Linear Regression\n",
       "1          Mean Absolute Error (MAE)  8.665980e+06       5.267541e+06\n",
       "2      Residual Sum of Squares (RSS)  3.586807e+17       2.089391e+17\n",
       "3           Mean Squared Error (MSE)  3.767654e+14       2.194739e+14\n",
       "4     Root Mean Squared Error (RMSE)  1.941045e+07       1.481465e+07\n",
       "5  Coefficient of determination (R²) -0.000000e+00       4.200000e-01"
      ]
     },
     "execution_count": 669,
     "metadata": {},
     "output_type": "execute_result"
    }
   ],
   "source": [
    "from sklearn.linear_model import LinearRegression\n",
    "regr = LinearRegression()\n",
    "regr.fit(X_train, y_train)\n",
    "regr_forecast = regr.predict(X_test)\n",
    "regr_metrics = algo_model(y_test, regr_forecast).rename(columns={'Results':'Linear Regression'})\n",
    "regr_metrics.index = np.arange(1, len(regr_metrics)+1)\n",
    "regr_metrics = pd.concat([dummy_metrics,regr_metrics['Linear Regression']], axis=1)\n",
    "round(regr_metrics, 2)"
   ]
  },
  {
   "cell_type": "markdown",
   "id": "19ef8a52",
   "metadata": {},
   "source": [
    "As seen in this table, the coefficient of determination R² is much better than for the baseline which indicates that the performed linear regression is a better fit for our data but still far away from a golden solution which would approach 1 in ideal conditions. Plotting the acual data vs. the forecasts, we can have a display of the trends of the data."
   ]
  },
  {
   "cell_type": "code",
   "execution_count": 670,
   "id": "888eaa4c",
   "metadata": {
    "scrolled": false
   },
   "outputs": [
    {
     "data": {
      "image/png": "[encoded data removed]",
      "text/plain": [
       "<Figure size 720x432 with 1 Axes>"
      ]
     },
     "metadata": {
      "needs_background": "light"
     },
     "output_type": "display_data"
    }
   ],
   "source": [
    "def forecast_comp(y_actual, y_forecast):\n",
    "    X_plot = [y_actual.min(), y_actual.max()]\n",
    "    fig = plt.figure(figsize=(10,6))\n",
    "    plt.scatter(y_actual, y_forecast, color='black')\n",
    "    plt.plot(X_plot, X_plot, color='g')\n",
    "    #plt.plot(X_test, dummy_pred, color='red')\n",
    "    plt.xlabel(\"Actual values\", weight = \"bold\", fontsize=12)\n",
    "    plt.ylabel(\"Forecasts\", weight = \"bold\", fontsize=12)\n",
    "    plt.title(\"Site Energy Use - Comparison of Actual and Forecasts\", weight = \"bold\", fontsize=16)\n",
    "    plt.show()\n",
    "forecast_comp(y_actual=y_test, y_forecast = regr_forecast)\n"
   ]
  },
  {
   "cell_type": "markdown",
   "id": "65f2e84c",
   "metadata": {},
   "source": [
    "Step 5-2: __RIDGE REGRESSION__<br>"
   ]
  },
  {
   "cell_type": "markdown",
   "id": "f949bf29",
   "metadata": {},
   "source": [
    "Ridge regression is an extension of linear regression where the loss function is modified to minimize the complexity of the model. This modification is done by adding a penalty parameter that is equivalent to the square of the magnitude of the coefficients."
   ]
  },
  {
   "cell_type": "code",
   "execution_count": 671,
   "id": "7bcee50c",
   "metadata": {},
   "outputs": [
    {
     "data": {
      "text/html": [
       "<div>\n",
       "<style scoped>\n",
       "    .dataframe tbody tr th:only-of-type {\n",
       "        vertical-align: middle;\n",
       "    }\n",
       "\n",
       "    .dataframe tbody tr th {\n",
       "        vertical-align: top;\n",
       "    }\n",
       "\n",
       "    .dataframe thead th {\n",
       "        text-align: right;\n",
       "    }\n",
       "</style>\n",
       "<table border=\"1\" class=\"dataframe\">\n",
       "  <thead>\n",
       "    <tr style=\"text-align: right;\">\n",
       "      <th></th>\n",
       "      <th>Functions</th>\n",
       "      <th>Baseline</th>\n",
       "      <th>Linear Regression</th>\n",
       "      <th>Ridge Regression</th>\n",
       "    </tr>\n",
       "  </thead>\n",
       "  <tbody>\n",
       "    <tr>\n",
       "      <th>1</th>\n",
       "      <td>Mean Absolute Error (MAE)</td>\n",
       "      <td>8.665980e+06</td>\n",
       "      <td>5.267541e+06</td>\n",
       "      <td>5.267477e+06</td>\n",
       "    </tr>\n",
       "    <tr>\n",
       "      <th>2</th>\n",
       "      <td>Residual Sum of Squares (RSS)</td>\n",
       "      <td>3.586807e+17</td>\n",
       "      <td>2.089391e+17</td>\n",
       "      <td>2.089326e+17</td>\n",
       "    </tr>\n",
       "    <tr>\n",
       "      <th>3</th>\n",
       "      <td>Mean Squared Error (MSE)</td>\n",
       "      <td>3.767654e+14</td>\n",
       "      <td>2.194739e+14</td>\n",
       "      <td>2.194670e+14</td>\n",
       "    </tr>\n",
       "    <tr>\n",
       "      <th>4</th>\n",
       "      <td>Root Mean Squared Error (RMSE)</td>\n",
       "      <td>1.941045e+07</td>\n",
       "      <td>1.481465e+07</td>\n",
       "      <td>1.481442e+07</td>\n",
       "    </tr>\n",
       "    <tr>\n",
       "      <th>5</th>\n",
       "      <td>Coefficient of determination (R²)</td>\n",
       "      <td>-0.000000e+00</td>\n",
       "      <td>4.200000e-01</td>\n",
       "      <td>4.200000e-01</td>\n",
       "    </tr>\n",
       "  </tbody>\n",
       "</table>\n",
       "</div>"
      ],
      "text/plain": [
       "                           Functions      Baseline  Linear Regression  \\\n",
       "1          Mean Absolute Error (MAE)  8.665980e+06       5.267541e+06   \n",
       "2      Residual Sum of Squares (RSS)  3.586807e+17       2.089391e+17   \n",
       "3           Mean Squared Error (MSE)  3.767654e+14       2.194739e+14   \n",
       "4     Root Mean Squared Error (RMSE)  1.941045e+07       1.481465e+07   \n",
       "5  Coefficient of determination (R²) -0.000000e+00       4.200000e-01   \n",
       "\n",
       "   Ridge Regression  \n",
       "1      5.267477e+06  \n",
       "2      2.089326e+17  \n",
       "3      2.194670e+14  \n",
       "4      1.481442e+07  \n",
       "5      4.200000e-01  "
      ]
     },
     "execution_count": 671,
     "metadata": {},
     "output_type": "execute_result"
    }
   ],
   "source": [
    "\n",
    "rr = Ridge(alpha=0.01)\n",
    "rr.fit(X_train, y_train) \n",
    "rr_forecast= rr.predict(X_test)\n",
    "ridge_metrics = algo_model(y_test, rr_forecast).rename(columns={'Results':'Ridge Regression'})\n",
    "ridge_metrics.index = np.arange(1, len(ridge_metrics)+1)\n",
    "ridge_metrics = pd.concat([regr_metrics,ridge_metrics['Ridge Regression']], axis=1)\n",
    "round(ridge_metrics, 2)\n"
   ]
  },
  {
   "cell_type": "markdown",
   "id": "989ff463",
   "metadata": {},
   "source": [
    "Step 5-3: __LASSO REGRESSION__<br>"
   ]
  },
  {
   "cell_type": "markdown",
   "id": "e15e09ab",
   "metadata": {},
   "source": [
    "Lasso regression, or the Least Absolute Shrinkage and Selection Operator, is also a modification of linear regression. In Lasso, the loss function is modified to minimize the complexity of the model by limiting the sum of the absolute values of the model coefficients (also called the l1-norm)."
   ]
  },
  {
   "cell_type": "code",
   "execution_count": 672,
   "id": "7027c558",
   "metadata": {
    "scrolled": true
   },
   "outputs": [
    {
     "data": {
      "text/html": [
       "<div>\n",
       "<style scoped>\n",
       "    .dataframe tbody tr th:only-of-type {\n",
       "        vertical-align: middle;\n",
       "    }\n",
       "\n",
       "    .dataframe tbody tr th {\n",
       "        vertical-align: top;\n",
       "    }\n",
       "\n",
       "    .dataframe thead th {\n",
       "        text-align: right;\n",
       "    }\n",
       "</style>\n",
       "<table border=\"1\" class=\"dataframe\">\n",
       "  <thead>\n",
       "    <tr style=\"text-align: right;\">\n",
       "      <th></th>\n",
       "      <th>Functions</th>\n",
       "      <th>Baseline</th>\n",
       "      <th>Linear Regression</th>\n",
       "      <th>Ridge Regression</th>\n",
       "      <th>Lasso Regression</th>\n",
       "    </tr>\n",
       "  </thead>\n",
       "  <tbody>\n",
       "    <tr>\n",
       "      <th>1</th>\n",
       "      <td>Mean Absolute Error (MAE)</td>\n",
       "      <td>8.665980e+06</td>\n",
       "      <td>5.267541e+06</td>\n",
       "      <td>5.267477e+06</td>\n",
       "      <td>5.267540e+06</td>\n",
       "    </tr>\n",
       "    <tr>\n",
       "      <th>2</th>\n",
       "      <td>Residual Sum of Squares (RSS)</td>\n",
       "      <td>3.586807e+17</td>\n",
       "      <td>2.089391e+17</td>\n",
       "      <td>2.089326e+17</td>\n",
       "      <td>2.089391e+17</td>\n",
       "    </tr>\n",
       "    <tr>\n",
       "      <th>3</th>\n",
       "      <td>Mean Squared Error (MSE)</td>\n",
       "      <td>3.767654e+14</td>\n",
       "      <td>2.194739e+14</td>\n",
       "      <td>2.194670e+14</td>\n",
       "      <td>2.194739e+14</td>\n",
       "    </tr>\n",
       "    <tr>\n",
       "      <th>4</th>\n",
       "      <td>Root Mean Squared Error (RMSE)</td>\n",
       "      <td>1.941045e+07</td>\n",
       "      <td>1.481465e+07</td>\n",
       "      <td>1.481442e+07</td>\n",
       "      <td>1.481465e+07</td>\n",
       "    </tr>\n",
       "    <tr>\n",
       "      <th>5</th>\n",
       "      <td>Coefficient of determination (R²)</td>\n",
       "      <td>-0.000000e+00</td>\n",
       "      <td>4.200000e-01</td>\n",
       "      <td>4.200000e-01</td>\n",
       "      <td>4.200000e-01</td>\n",
       "    </tr>\n",
       "  </tbody>\n",
       "</table>\n",
       "</div>"
      ],
      "text/plain": [
       "                           Functions      Baseline  Linear Regression  \\\n",
       "1          Mean Absolute Error (MAE)  8.665980e+06       5.267541e+06   \n",
       "2      Residual Sum of Squares (RSS)  3.586807e+17       2.089391e+17   \n",
       "3           Mean Squared Error (MSE)  3.767654e+14       2.194739e+14   \n",
       "4     Root Mean Squared Error (RMSE)  1.941045e+07       1.481465e+07   \n",
       "5  Coefficient of determination (R²) -0.000000e+00       4.200000e-01   \n",
       "\n",
       "   Ridge Regression  Lasso Regression  \n",
       "1      5.267477e+06      5.267540e+06  \n",
       "2      2.089326e+17      2.089391e+17  \n",
       "3      2.194670e+14      2.194739e+14  \n",
       "4      1.481442e+07      1.481465e+07  \n",
       "5      4.200000e-01      4.200000e-01  "
      ]
     },
     "execution_count": 672,
     "metadata": {},
     "output_type": "execute_result"
    }
   ],
   "source": [
    "model_lasso = Lasso(alpha=0.1)\n",
    "model_lasso.fit(X_train, y_train) \n",
    "lasso_forecast= model_lasso.predict(X_test)\n",
    "lasso_metrics = algo_model(y_test, lasso_forecast).rename(columns={'Results':'Lasso Regression'})\n",
    "lasso_metrics.index = np.arange(1, len(lasso_metrics)+1)\n",
    "lasso_metrics = pd.concat([ridge_metrics,lasso_metrics['Lasso Regression']], axis=1)\n",
    "round(lasso_metrics, 2)\n"
   ]
  },
  {
   "cell_type": "markdown",
   "id": "b8d3f2f0",
   "metadata": {},
   "source": [
    "Step 5-3: __ELASTICNET REGRESSION__<br>"
   ]
  },
  {
   "cell_type": "markdown",
   "id": "738c8cc9",
   "metadata": {},
   "source": [
    "ElasticNet combines the properties of both Ridge and Lasso regression. It works by penalizing the model using both the l2-norm and the l1-norm."
   ]
  },
  {
   "cell_type": "code",
   "execution_count": 673,
   "id": "9f1760ad",
   "metadata": {},
   "outputs": [
    {
     "data": {
      "text/html": [
       "<div>\n",
       "<style scoped>\n",
       "    .dataframe tbody tr th:only-of-type {\n",
       "        vertical-align: middle;\n",
       "    }\n",
       "\n",
       "    .dataframe tbody tr th {\n",
       "        vertical-align: top;\n",
       "    }\n",
       "\n",
       "    .dataframe thead th {\n",
       "        text-align: right;\n",
       "    }\n",
       "</style>\n",
       "<table border=\"1\" class=\"dataframe\">\n",
       "  <thead>\n",
       "    <tr style=\"text-align: right;\">\n",
       "      <th></th>\n",
       "      <th>Functions</th>\n",
       "      <th>Baseline</th>\n",
       "      <th>Linear Regression</th>\n",
       "      <th>Ridge Regression</th>\n",
       "      <th>Lasso Regression</th>\n",
       "      <th>ElasticNet Regression</th>\n",
       "    </tr>\n",
       "  </thead>\n",
       "  <tbody>\n",
       "    <tr>\n",
       "      <th>1</th>\n",
       "      <td>Mean Absolute Error (MAE)</td>\n",
       "      <td>8.665980e+06</td>\n",
       "      <td>5.267541e+06</td>\n",
       "      <td>5.267477e+06</td>\n",
       "      <td>5.267540e+06</td>\n",
       "      <td>5.112701e+06</td>\n",
       "    </tr>\n",
       "    <tr>\n",
       "      <th>2</th>\n",
       "      <td>Residual Sum of Squares (RSS)</td>\n",
       "      <td>3.586807e+17</td>\n",
       "      <td>2.089391e+17</td>\n",
       "      <td>2.089326e+17</td>\n",
       "      <td>2.089391e+17</td>\n",
       "      <td>2.021897e+17</td>\n",
       "    </tr>\n",
       "    <tr>\n",
       "      <th>3</th>\n",
       "      <td>Mean Squared Error (MSE)</td>\n",
       "      <td>3.767654e+14</td>\n",
       "      <td>2.194739e+14</td>\n",
       "      <td>2.194670e+14</td>\n",
       "      <td>2.194739e+14</td>\n",
       "      <td>2.123841e+14</td>\n",
       "    </tr>\n",
       "    <tr>\n",
       "      <th>4</th>\n",
       "      <td>Root Mean Squared Error (RMSE)</td>\n",
       "      <td>1.941045e+07</td>\n",
       "      <td>1.481465e+07</td>\n",
       "      <td>1.481442e+07</td>\n",
       "      <td>1.481465e+07</td>\n",
       "      <td>1.457340e+07</td>\n",
       "    </tr>\n",
       "    <tr>\n",
       "      <th>5</th>\n",
       "      <td>Coefficient of determination (R²)</td>\n",
       "      <td>-0.000000e+00</td>\n",
       "      <td>4.200000e-01</td>\n",
       "      <td>4.200000e-01</td>\n",
       "      <td>4.200000e-01</td>\n",
       "      <td>4.400000e-01</td>\n",
       "    </tr>\n",
       "  </tbody>\n",
       "</table>\n",
       "</div>"
      ],
      "text/plain": [
       "                           Functions      Baseline  Linear Regression  \\\n",
       "1          Mean Absolute Error (MAE)  8.665980e+06       5.267541e+06   \n",
       "2      Residual Sum of Squares (RSS)  3.586807e+17       2.089391e+17   \n",
       "3           Mean Squared Error (MSE)  3.767654e+14       2.194739e+14   \n",
       "4     Root Mean Squared Error (RMSE)  1.941045e+07       1.481465e+07   \n",
       "5  Coefficient of determination (R²) -0.000000e+00       4.200000e-01   \n",
       "\n",
       "   Ridge Regression  Lasso Regression  ElasticNet Regression  \n",
       "1      5.267477e+06      5.267540e+06           5.112701e+06  \n",
       "2      2.089326e+17      2.089391e+17           2.021897e+17  \n",
       "3      2.194670e+14      2.194739e+14           2.123841e+14  \n",
       "4      1.481442e+07      1.481465e+07           1.457340e+07  \n",
       "5      4.200000e-01      4.200000e-01           4.400000e-01  "
      ]
     },
     "execution_count": 673,
     "metadata": {},
     "output_type": "execute_result"
    }
   ],
   "source": [
    "model_enet = ElasticNet(alpha = 0.1)\n",
    "model_enet.fit(X_train, y_train) \n",
    "enet_forecast= model_enet.predict(X_test)\n",
    "enet_metrics = algo_model(y_test, enet_forecast).rename(columns={'Results':'ElasticNet Regression'})\n",
    "enet_metrics.index = np.arange(1, len(enet_metrics)+1)\n",
    "enet_metrics = pd.concat([lasso_metrics,enet_metrics['ElasticNet Regression']], axis=1)\n",
    "round(enet_metrics, 2)"
   ]
  },
  {
   "cell_type": "markdown",
   "id": "f02707dd",
   "metadata": {},
   "source": [
    "### SECOND LINEAR REGRESSION: ONE HOT ENCODING"
   ]
  },
  {
   "cell_type": "markdown",
   "id": "a51ad59d",
   "metadata": {},
   "source": [
    "In order to improve our linear regression, we'll incorporate categorical variables and check if it gives values/improvement from our former linear regression.\n",
    "A one hot encoding is a representation of categorical variables as binary vectors.\n",
    "This first requires that the categorical values be mapped to integer values.\n",
    "Then, each integer value is represented as a binary vector that is all zero values except the index of the integer, which is marked with a 1. <br>"
   ]
  },
  {
   "cell_type": "code",
   "execution_count": 674,
   "id": "edfc5d10",
   "metadata": {
    "scrolled": true
   },
   "outputs": [
    {
     "name": "stderr",
     "output_type": "stream",
     "text": [
      "C:\\Users\\steph\\anaconda3\\lib\\site-packages\\sklearn\\linear_model\\_coordinate_descent.py:513: ConvergenceWarning: Objective did not converge. You might want to increase the number of iterations. Duality gap: 4.219998746328406e+16, tolerance: 99485031589923.81\n",
      "  model = cd_fast.sparse_enet_coordinate_descent(\n"
     ]
    },
    {
     "data": {
      "text/html": [
       "<div>\n",
       "<style scoped>\n",
       "    .dataframe tbody tr th:only-of-type {\n",
       "        vertical-align: middle;\n",
       "    }\n",
       "\n",
       "    .dataframe tbody tr th {\n",
       "        vertical-align: top;\n",
       "    }\n",
       "\n",
       "    .dataframe thead th {\n",
       "        text-align: right;\n",
       "    }\n",
       "</style>\n",
       "<table border=\"1\" class=\"dataframe\">\n",
       "  <thead>\n",
       "    <tr style=\"text-align: right;\">\n",
       "      <th></th>\n",
       "      <th>Functions</th>\n",
       "      <th>Baseline</th>\n",
       "      <th>Linear Regression</th>\n",
       "      <th>Energy Use Lin</th>\n",
       "      <th>Energy Use Lasso</th>\n",
       "      <th>Energy Use Ridge</th>\n",
       "      <th>Energy Use ElasticNet</th>\n",
       "    </tr>\n",
       "  </thead>\n",
       "  <tbody>\n",
       "    <tr>\n",
       "      <th>1</th>\n",
       "      <td>Mean Absolute Error (MAE)</td>\n",
       "      <td>8.665980e+06</td>\n",
       "      <td>5.267541e+06</td>\n",
       "      <td>4.828367e+06</td>\n",
       "      <td>4.818452e+06</td>\n",
       "      <td>4.778888e+06</td>\n",
       "      <td>5.026987e+06</td>\n",
       "    </tr>\n",
       "    <tr>\n",
       "      <th>2</th>\n",
       "      <td>Residual Sum of Squares (RSS)</td>\n",
       "      <td>3.586807e+17</td>\n",
       "      <td>2.089391e+17</td>\n",
       "      <td>1.249258e+17</td>\n",
       "      <td>1.248358e+17</td>\n",
       "      <td>1.220651e+17</td>\n",
       "      <td>2.105605e+17</td>\n",
       "    </tr>\n",
       "    <tr>\n",
       "      <th>3</th>\n",
       "      <td>Mean Squared Error (MSE)</td>\n",
       "      <td>3.767654e+14</td>\n",
       "      <td>2.194739e+14</td>\n",
       "      <td>1.312246e+14</td>\n",
       "      <td>1.311301e+14</td>\n",
       "      <td>1.282197e+14</td>\n",
       "      <td>2.211770e+14</td>\n",
       "    </tr>\n",
       "    <tr>\n",
       "      <th>4</th>\n",
       "      <td>Root Mean Squared Error (RMSE)</td>\n",
       "      <td>1.941045e+07</td>\n",
       "      <td>1.481465e+07</td>\n",
       "      <td>1.145533e+07</td>\n",
       "      <td>1.145120e+07</td>\n",
       "      <td>1.132341e+07</td>\n",
       "      <td>1.487202e+07</td>\n",
       "    </tr>\n",
       "    <tr>\n",
       "      <th>5</th>\n",
       "      <td>Coefficient of determination (R²)</td>\n",
       "      <td>-1.000000e-03</td>\n",
       "      <td>4.170000e-01</td>\n",
       "      <td>6.520000e-01</td>\n",
       "      <td>6.520000e-01</td>\n",
       "      <td>6.590000e-01</td>\n",
       "      <td>4.130000e-01</td>\n",
       "    </tr>\n",
       "  </tbody>\n",
       "</table>\n",
       "</div>"
      ],
      "text/plain": [
       "                           Functions      Baseline  Linear Regression  \\\n",
       "1          Mean Absolute Error (MAE)  8.665980e+06       5.267541e+06   \n",
       "2      Residual Sum of Squares (RSS)  3.586807e+17       2.089391e+17   \n",
       "3           Mean Squared Error (MSE)  3.767654e+14       2.194739e+14   \n",
       "4     Root Mean Squared Error (RMSE)  1.941045e+07       1.481465e+07   \n",
       "5  Coefficient of determination (R²) -1.000000e-03       4.170000e-01   \n",
       "\n",
       "   Energy Use Lin  Energy Use Lasso  Energy Use Ridge  Energy Use ElasticNet  \n",
       "1    4.828367e+06      4.818452e+06      4.778888e+06           5.026987e+06  \n",
       "2    1.249258e+17      1.248358e+17      1.220651e+17           2.105605e+17  \n",
       "3    1.312246e+14      1.311301e+14      1.282197e+14           2.211770e+14  \n",
       "4    1.145533e+07      1.145120e+07      1.132341e+07           1.487202e+07  \n",
       "5    6.520000e-01      6.520000e-01      6.590000e-01           4.130000e-01  "
      ]
     },
     "execution_count": 674,
     "metadata": {},
     "output_type": "execute_result"
    }
   ],
   "source": [
    "from sklearn.preprocessing import OneHotEncoder\n",
    "from sklearn.compose import ColumnTransformer\n",
    "from sklearn.pipeline import Pipeline\n",
    "\n",
    "# We incorporate categories for Energy Use in the regression\n",
    "\n",
    "num_data = list(X.columns)\n",
    "cat_data = list(categorical_features.columns)\n",
    "categorical_transformer = OneHotEncoder(handle_unknown='ignore')\n",
    "\n",
    "preprocessor = ColumnTransformer(transformers=\n",
    "                                 [('num', scaler, num_data),\n",
    "                                  ('cat', categorical_transformer, cat_data)])\n",
    "\n",
    "pipe1 = Pipeline(steps=[('preprocessor', preprocessor),\n",
    "                             ('regressor', LinearRegression())])\n",
    "\n",
    "X1 = df_data_non_ener[num_data + cat_data]\n",
    "y1 = df_data_non_ener['SiteEnergyUse(kBtu)']\n",
    "\n",
    "X1_train, X1_test, y1_train, y1_test = train_test_split(X1, y1, test_size=0.3, random_state=42)\n",
    "\n",
    "pipe1.fit(X1_train, y1_train)\n",
    "\n",
    "cat1_forec = pipe1.predict(X1_test)\n",
    "\n",
    "cat1_metrics = algo_model(y1_test, cat1_forec).rename(columns={'Results':'Energy Use Lin'})\n",
    "cat1_metrics.index = np.arange(1, len(cat1_metrics)+1)\n",
    "cat1_metrics = pd.concat([regr_metrics,cat1_metrics['Energy Use Lin']], axis=1)\n",
    "\n",
    "#------------------------------------------------------------------------------------------\n",
    "\n",
    "pipe2 = Pipeline(steps=[('preprocessor', preprocessor),\n",
    "                             ('regressor', Lasso())])\n",
    "\n",
    "\n",
    "X2 = df_data_non_ener[num_data + cat_data]\n",
    "y2 = df_data_non_ener['SiteEnergyUse(kBtu)']\n",
    "\n",
    "X2_train, X2_test, y2_train, y2_test = train_test_split(X2, y2, test_size=0.3, random_state=42)\n",
    "\n",
    "pipe2.fit(X2_train, y2_train)\n",
    "cat12_forec = pipe2.predict(X2_test)\n",
    "\n",
    "cat12_metrics = algo_model(y2_test, cat12_forec).rename(columns={'Results':'Energy Use Lasso'})\n",
    "cat12_metrics.index = np.arange(1, len(cat12_metrics)+1)\n",
    "\n",
    "cat13_metrics = pd.concat([cat1_metrics,cat12_metrics['Energy Use Lasso']], axis=1)\n",
    "\n",
    "#----------------------------------------------------------------------------\n",
    "\n",
    "pipe3 = Pipeline(steps=[('preprocessor', preprocessor),\n",
    "                             ('regressor', Ridge())])\n",
    "\n",
    "\n",
    "X3 = df_data_non_ener[num_data + cat_data]\n",
    "y3 = df_data_non_ener['SiteEnergyUse(kBtu)']\n",
    "\n",
    "X3_train, X3_test, y3_train, y3_test = train_test_split(X3, y3, test_size=0.3, random_state=42)\n",
    "\n",
    "pipe3.fit(X3_train, y3_train)\n",
    "cat23_forec = pipe3.predict(X3_test)\n",
    "\n",
    "cat23_metrics = algo_model(y3_test, cat23_forec).rename(columns={'Results':'Energy Use Ridge'})\n",
    "cat23_metrics.index = np.arange(1, len(cat23_metrics)+1)\n",
    "\n",
    "cat23_metrics = pd.concat([cat13_metrics,cat23_metrics['Energy Use Ridge']], axis=1)\n",
    "\n",
    "#---------------------------------------------------------------------------------------------\n",
    "pipe4 = Pipeline(steps=[('preprocessor', preprocessor),\n",
    "                             ('regressor', ElasticNet())])\n",
    "\n",
    "\n",
    "X4 = df_data_non_ener[num_data + cat_data]\n",
    "y4 = df_data_non_ener['SiteEnergyUse(kBtu)']\n",
    "\n",
    "X4_train, X4_test, y4_train, y4_test = train_test_split(X4, y4, test_size=0.3, random_state=42)\n",
    "\n",
    "pipe4.fit(X4_train, y4_train)\n",
    "cat34_forec = pipe4.predict(X4_test)\n",
    "\n",
    "cat34_metrics = algo_model(y4_test, cat34_forec).rename(columns={'Results':'Energy Use ElasticNet'})\n",
    "cat34_metrics.index = np.arange(1, len(cat34_metrics)+1)\n",
    "\n",
    "cat34_metrics = pd.concat([cat23_metrics,cat34_metrics['Energy Use ElasticNet']], axis=1)\n",
    "round(cat34_metrics, 3)"
   ]
  },
  {
   "cell_type": "code",
   "execution_count": null,
   "id": "efdd62e0",
   "metadata": {},
   "outputs": [],
   "source": []
  },
  {
   "cell_type": "markdown",
   "id": "8d02a247",
   "metadata": {},
   "source": [
    "__LINEAR REGRESSION NON LOG__"
   ]
  },
  {
   "cell_type": "code",
   "execution_count": 746,
   "id": "4de22533",
   "metadata": {
    "scrolled": true
   },
   "outputs": [
    {
     "name": "stdout",
     "output_type": "stream",
     "text": [
      "{'regressor__fit_intercept': True, 'regressor__normalize': True}\n"
     ]
    }
   ],
   "source": [
    "from sklearn.preprocessing import OneHotEncoder\n",
    "from sklearn.compose import ColumnTransformer\n",
    "from sklearn.pipeline import Pipeline\n",
    "from sklearn.model_selection import GridSearchCV\n",
    "\n",
    "# We incorporate categories for Energy Use in the regression\n",
    "\n",
    "num_data = list(X.columns)\n",
    "cat_data = list(categorical_features.columns)\n",
    "categorical_transformer = OneHotEncoder(handle_unknown='ignore')\n",
    "\n",
    "preprocessor = ColumnTransformer(transformers=\n",
    "                                 [('num', scaler, num_data),\n",
    "                                  ('cat', categorical_transformer, cat_data)])\n",
    "\n",
    "pipe = Pipeline(steps=[('preprocessor', preprocessor),\n",
    "                       ('regressor', LinearRegression())])\n",
    "\n",
    "X1 = df_data_non_ener[num_data + cat_data]\n",
    "y1 = df_data_non_ener['SiteEnergyUse(kBtu)']\n",
    "\n",
    "X1_train, X1_test, y1_train, y1_test = train_test_split(X1, y1, test_size=0.3, random_state=42)\n",
    "\n",
    "\n",
    "params = {\"regressor__fit_intercept\": [True, False],\n",
    "             \"regressor__normalize\": [True, False]}\n",
    "\n",
    "grid_cv = GridSearchCV(pipe, param_grid=params, cv=5,\n",
    "                            scoring=('r2','neg_mean_absolute_error'),\n",
    "                            return_train_score = True,\n",
    "                            refit='neg_mean_absolute_error',\n",
    "                            n_jobs = -1)\n",
    "\n",
    "\n",
    "grid_cv.fit(X1_train, y1_train)\n",
    "print(grid_cv.best_params_)\n"
   ]
  },
  {
   "cell_type": "code",
   "execution_count": 747,
   "id": "e9b42bf4",
   "metadata": {},
   "outputs": [
    {
     "name": "stdout",
     "output_type": "stream",
     "text": [
      "-4771950.764872884\n"
     ]
    }
   ],
   "source": [
    "print(grid_cv.best_score_)"
   ]
  },
  {
   "cell_type": "code",
   "execution_count": 750,
   "id": "73ece719",
   "metadata": {},
   "outputs": [
    {
     "name": "stdout",
     "output_type": "stream",
     "text": [
      "Pipeline(steps=[('preprocessor',\n",
      "                 ColumnTransformer(transformers=[('num', StandardScaler(),\n",
      "                                                  ['NumberofBuildings',\n",
      "                                                   'NumberofFloors',\n",
      "                                                   'PropertyGFATotal',\n",
      "                                                   'AgeofBuilding',\n",
      "                                                   'MeanBuildingGFA',\n",
      "                                                   'MeanFloorGFA',\n",
      "                                                   'PropertyUseTypeNumber',\n",
      "                                                   'BuildingGFApct',\n",
      "                                                   'ParkingGFApct']),\n",
      "                                                 ('cat',\n",
      "                                                  OneHotEncoder(handle_unknown='ignore'),\n",
      "                                                  ['DataYear', 'BuildingType',\n",
      "                                                   'PrimaryPropertyType',\n",
      "                                                   'Neighborhood',\n",
      "                                                   'LargestPropertyUseType'])])),\n",
      "                ('regressor', LinearRegression(normalize=True))])\n"
     ]
    }
   ],
   "source": [
    "best_estim = grid_cv.best_estimator_\n",
    "print(best_estim)"
   ]
  },
  {
   "cell_type": "code",
   "execution_count": 755,
   "id": "e13c1507",
   "metadata": {},
   "outputs": [
    {
     "name": "stdout",
     "output_type": "stream",
     "text": [
      "MAE: 158271718371299.78\n",
      "R2: 0.45\n"
     ]
    }
   ],
   "source": [
    "best_estim.fit(X1_train,y1_train)\n",
    "\n",
    "ytr_pred=best_estim.predict(X1_train)\n",
    "mae = mean_absolute_error(ytr_pred,y1_train)\n",
    "#mse = mean_squared_error(ytr_pred,y1_train)\n",
    "r2 = r2_score(ytr_pred,y1_train)\n",
    "print(\"MAE: %.2f\" % mse)\n",
    "print(\"R2: %.2f\" % r2)"
   ]
  },
  {
   "cell_type": "markdown",
   "id": "9aabafc5",
   "metadata": {},
   "source": [
    "__ELASTICNET NON LOG__"
   ]
  },
  {
   "cell_type": "code",
   "execution_count": 739,
   "id": "5f2ac095",
   "metadata": {
    "scrolled": false
   },
   "outputs": [
    {
     "name": "stderr",
     "output_type": "stream",
     "text": [
      "C:\\Users\\steph\\anaconda3\\lib\\site-packages\\sklearn\\model_selection\\_search.py:918: UserWarning: One or more of the test scores are non-finite: [0.54956519 0.53172516 0.52821925 ...        nan        nan        nan]\n",
      "  warnings.warn(\n",
      "C:\\Users\\steph\\anaconda3\\lib\\site-packages\\sklearn\\model_selection\\_search.py:918: UserWarning: One or more of the train scores are non-finite: [0.64982975 0.66359126 0.66369233 ...        nan        nan        nan]\n",
      "  warnings.warn(\n",
      "C:\\Users\\steph\\anaconda3\\lib\\site-packages\\sklearn\\model_selection\\_search.py:918: UserWarning: One or more of the test scores are non-finite: [-4677044.78388069 -4732791.8344421  -4757736.30958084 ...\n",
      "               nan               nan               nan]\n",
      "  warnings.warn(\n",
      "C:\\Users\\steph\\anaconda3\\lib\\site-packages\\sklearn\\model_selection\\_search.py:918: UserWarning: One or more of the train scores are non-finite: [-4299899.69542052 -4301596.47843296 -4309797.19185275 ...\n",
      "               nan               nan               nan]\n",
      "  warnings.warn(\n",
      "C:\\Users\\steph\\anaconda3\\lib\\site-packages\\sklearn\\linear_model\\_coordinate_descent.py:513: ConvergenceWarning: Objective did not converge. You might want to increase the number of iterations. Duality gap: 2.3039733912893078e+17, tolerance: 99485031589923.81\n",
      "  model = cd_fast.sparse_enet_coordinate_descent(\n"
     ]
    },
    {
     "data": {
      "text/plain": [
       "{'regressor__alpha': 0.01,\n",
       " 'regressor__l1_ratio': 0.54,\n",
       " 'regressor__max_iter': 10}"
      ]
     },
     "execution_count": 739,
     "metadata": {},
     "output_type": "execute_result"
    }
   ],
   "source": [
    "pipenet = Pipeline(steps=[('preprocessor', preprocessor),\n",
    "                          ('regressor', ElasticNet())])\n",
    "\n",
    "param_eNet = {\"regressor__max_iter\": [10, 100, 1000],\n",
    "              \"regressor__alpha\": np.logspace(-4, 0, num=5),\n",
    "              \"regressor__l1_ratio\": np.arange(0.0, 1.1, 0.01)}\n",
    "\n",
    "grid_cvnet = GridSearchCV(pipenet, param_grid=param_eNet, cv=5,\n",
    "                            scoring=('r2','neg_mean_absolute_error'),\n",
    "                            return_train_score = True,\n",
    "                            refit='neg_mean_absolute_error',\n",
    "                            n_jobs = -1)\n",
    "\n",
    "\n",
    "grid_cvnet.fit(X1_train, y1_train)\n",
    "grid_cvnet.best_score_\n",
    "grid_cvnet.best_params_"
   ]
  },
  {
   "cell_type": "markdown",
   "id": "4ff826f6",
   "metadata": {},
   "source": [
    "__SVM NON LOG__"
   ]
  },
  {
   "cell_type": "code",
   "execution_count": 737,
   "id": "61783a4f",
   "metadata": {},
   "outputs": [
    {
     "name": "stderr",
     "output_type": "stream",
     "text": [
      "C:\\Users\\steph\\anaconda3\\lib\\site-packages\\sklearn\\svm\\_base.py:985: ConvergenceWarning: Liblinear failed to converge, increase the number of iterations.\n",
      "  warnings.warn(\"Liblinear failed to converge, increase \"\n"
     ]
    },
    {
     "data": {
      "text/plain": [
       "{'regressor__C': 0.001,\n",
       " 'regressor__epsilon': 0.5,\n",
       " 'regressor__loss': 'squared_epsilon_insensitive',\n",
       " 'regressor__max_iter': 10}"
      ]
     },
     "execution_count": 737,
     "metadata": {},
     "output_type": "execute_result"
    }
   ],
   "source": [
    "from sklearn.svm import LinearSVR\n",
    "\n",
    "pipesvr = Pipeline(steps=[('preprocessor', preprocessor),\n",
    "                          ('regressor', LinearSVR())])\n",
    "\n",
    "param_svr = {'regressor__C' : np.logspace(-4, 0, 5),\n",
    "             'regressor__epsilon' : [0, 0.01, 0.1, 0.5, 1, 2],\n",
    "             'regressor__loss' : [\"epsilon_insensitive\",\"squared_epsilon_insensitive\"],\n",
    "             'regressor__max_iter': [10, 100, 1000]}\n",
    "\n",
    "grid_cvsvr = GridSearchCV(pipesvr, param_grid=param_svr, cv=5,\n",
    "                            scoring=('r2','neg_mean_absolute_error'),\n",
    "                            return_train_score = True,\n",
    "                            refit='neg_mean_absolute_error',\n",
    "                            n_jobs = -1)\n",
    "\n",
    "\n",
    "grid_cvsvr.fit(X1_train, y1_train)\n",
    "grid_cvsvr.best_score_\n",
    "grid_cvsvr.best_params_"
   ]
  },
  {
   "cell_type": "code",
   "execution_count": null,
   "id": "b32b85a6",
   "metadata": {},
   "outputs": [],
   "source": []
  },
  {
   "cell_type": "code",
   "execution_count": null,
   "id": "08ba0765",
   "metadata": {},
   "outputs": [],
   "source": []
  },
  {
   "cell_type": "code",
   "execution_count": null,
   "id": "898b1f43",
   "metadata": {},
   "outputs": [],
   "source": [
    "def model_scores(pip,step):\n",
    "    df_results = pd.DataFrame.from_dict(pip.named_steps[step].cv_results_) \\\n",
    "                    .sort_values('rank_test_neg_mean_absolute_error')\n",
    "    \n",
    "    best_nmae = pip.named_steps[step].best_score_\n",
    "    \n",
    "    best_r2 = np.mean(df_results[df_results.rank_test_r2 == 1]['mean_test_r2'])\n",
    "    \n",
    "    best_params = pip.named_steps[step].best_params_\n",
    "    training_time = round((np.mean(df_results.mean_fit_time)*X_train.shape[0]),2)\n",
    "    print(\"Meilleur score MAE : {}\\nMeilleur Score R2 : {}\\nMeilleurs paramètres : {}\\nTemps moyen d'entrainement : {}s\"\\\n",
    "         .format(round(best_nmae,3), round(best_r2,3), best_params, training_time))\n",
    "    return df_results"
   ]
  },
  {
   "cell_type": "code",
   "execution_count": 706,
   "id": "43480a98",
   "metadata": {},
   "outputs": [],
   "source": [
    "# function to get cross validation scores\n",
    "def get_cv_scores(model):\n",
    "    scores = cross_val_score(model, X_train, y_train, cv=5, scoring='r2')\n",
    "    \n",
    "    print('CV Mean: ', np.mean(scores))\n",
    "    print('STD: ', np.std(scores))\n",
    "    print('\\n')"
   ]
  },
  {
   "cell_type": "code",
   "execution_count": 707,
   "id": "53b0dec2",
   "metadata": {},
   "outputs": [
    {
     "name": "stdout",
     "output_type": "stream",
     "text": [
      "CV Mean:  0.4206499443708978\n",
      "STD:  0.13107623425814136\n",
      "\n",
      "\n"
     ]
    }
   ],
   "source": [
    "from sklearn.linear_model import ElasticNet\n",
    "\n",
    "# Train model with default alpha=1 and l1_ratio=0.5\n",
    "elastic_net = ElasticNet(alpha=1, l1_ratio=0.5).fit(X_train, y_train)\n",
    "\n",
    "# get cross val scores\n",
    "get_cv_scores(elastic_net)"
   ]
  },
  {
   "cell_type": "code",
   "execution_count": 708,
   "id": "c27ad3b0",
   "metadata": {},
   "outputs": [
    {
     "name": "stdout",
     "output_type": "stream",
     "text": [
      "Fitting 5 folds for each of 77 candidates, totalling 385 fits\n",
      "Best Score:  0.4824588348559396\n",
      "Best Params:  {'alpha': 0.01, 'l1_ratio': 0.1}\n"
     ]
    }
   ],
   "source": [
    "# find optimal alpha with grid search\n",
    "alpha = [0.001, 0.01, 0.1, 1, 10, 100, 1000]\n",
    "l1_ratio = [0, 0.1, 0.2, 0.3, 0.4, 0.5, 0.6, 0.7, 0.8, 0.9, 1]\n",
    "param_grid = dict(alpha=alpha, l1_ratio=l1_ratio)\n",
    "\n",
    "grid = GridSearchCV(estimator=elastic_net, param_grid=param_grid, scoring='r2', verbose=1, n_jobs=-1)\n",
    "grid_result = grid.fit(X_train, y_train)\n",
    "\n",
    "print('Best Score: ', grid_result.best_score_)\n",
    "print('Best Params: ', grid_result.best_params_)"
   ]
  },
  {
   "cell_type": "code",
   "execution_count": 709,
   "id": "aebb6f88",
   "metadata": {},
   "outputs": [
    {
     "name": "stdout",
     "output_type": "stream",
     "text": [
      "CV Mean:  0.4824588348559396\n",
      "STD:  0.20748223207598815\n",
      "\n",
      "\n",
      "Train Score:  0.45620395420996684\n",
      "Test Score:  0.4356623665370445\n"
     ]
    }
   ],
   "source": [
    "\n",
    "elastic_net = ElasticNet(alpha=0.01, l1_ratio=0.1).fit(X_train, y_train)\n",
    "\n",
    "get_cv_scores(elastic_net)\n",
    "\n",
    "print('Train Score: ', elastic_net.score(X_train, y_train))\n",
    "print('Test Score: ', elastic_net.score(X_test, y_test))"
   ]
  }
 ],
 "metadata": {
  "kernelspec": {
   "display_name": "Python 3",
   "language": "python",
   "name": "python3"
  },
  "language_info": {
   "codemirror_mode": {
    "name": "ipython",
    "version": 3
   },
   "file_extension": ".py",
   "mimetype": "text/x-python",
   "name": "python",
   "nbconvert_exporter": "python",
   "pygments_lexer": "ipython3",
   "version": "3.8.8"
  }
 },
 "nbformat": 4,
 "nbformat_minor": 5
}
