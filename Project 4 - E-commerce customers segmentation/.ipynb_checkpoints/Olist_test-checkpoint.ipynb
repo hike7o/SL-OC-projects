{
 "cells": [
  {
   "cell_type": "code",
   "execution_count": 10,
   "id": "f78173bf",
   "metadata": {},
   "outputs": [
    {
     "name": "stderr",
     "output_type": "stream",
     "text": [
      "1:1: E265 block comment should start with '# '\n",
      "8:80: E501 line too long (118 > 79 characters)\n",
      "11:80: E501 line too long (94 > 79 characters)\n",
      "17:1: E402 module level import not at top of file\n",
      "18:1: E402 module level import not at top of file\n"
     ]
    }
   ],
   "source": [
    "#! usr/bin/env python 3\n",
    "# coding: utf-8\n",
    "\n",
    "# Importing librairies\n",
    "\n",
    "import numpy as np                # numerical data processing\n",
    "import pandas as pd               # numerical tables & time series\n",
    "import scipy as sp                # numerical integration, interpolation, optimization, linear algebra, and statistics\n",
    "import scipy.stats as st          # statistical functions\n",
    "import seaborn as sns             # statistical data visualization\n",
    "import matplotlib.pyplot as plt   # static, animated, and interactive visualizations in Python\n",
    "import xgboost as xgb\n",
    "import time\n",
    "import warnings\n",
    "warnings.filterwarnings('ignore')\n",
    "\n",
    "from sklearn.preprocessing import StandardScaler\n",
    "from IPython.display import HTML"
   ]
  },
  {
   "cell_type": "code",
   "execution_count": 14,
   "id": "f40f7b81",
   "metadata": {},
   "outputs": [],
   "source": [
    "def duplicates(data):\n",
    "    \"\"\"Calculate the number of duplicates in dataframe data\"\"\"\n",
    "\n",
    "    return len(data)-len(data.drop_duplicates())\n",
    "\n",
    "\n",
    "def missing_cells(data):\n",
    "    \"\"\"Calculate the number of empty cells in dataframe data\"\"\"\n",
    "\n",
    "    return data.isna().sum().sum()\n",
    "\n",
    "\n",
    "def missing_cells_percent(data):\n",
    "    \"\"\"Calculate the percentage of empty cells in dataframe data\"\"\"\n",
    "\n",
    "    return missing_cells(data)/(data.size)*100\n",
    "\n",
    "\n",
    "def filled_cells(data):\n",
    "    \"\"\"Calculate the number of existing values in dataframe data\"\"\"\n",
    "\n",
    "    return data.notna().sum()\n",
    "\n",
    "\n",
    "def filled_cells_percent(data):\n",
    "    \"\"\"Calculate the percentage of existing values in dataframe data\"\"\"\n",
    "\n",
    "    return filled_cells(data)/(len(data.index))*100"
   ]
  },
  {
   "cell_type": "code",
   "execution_count": 11,
   "id": "4bec4340",
   "metadata": {},
   "outputs": [],
   "source": [
    "# Transforming our input files.csv from the cleaning phase to dataframe\n",
    "\n",
    "customers = pd.read_csv(\"olist_customers_dataset.csv\")\n",
    "geolocation = pd.read_csv(\"olist_geolocation_dataset.csv\")\n",
    "order_items = pd.read_csv(\"olist_order_items_dataset.csv\")\n",
    "order_payments = pd.read_csv(\"olist_order_payments_dataset.csv\")\n",
    "order_reviews = pd.read_csv(\"olist_order_reviews_dataset.csv\")\n",
    "orders = pd.read_csv(\"olist_orders_dataset.csv\")\n",
    "products = pd.read_csv(\"olist_products_dataset.csv\")\n",
    "sellers = pd.read_csv(\"olist_sellers_dataset.csv\")\n",
    "translation = pd.read_csv(\"product_category_name_translation.csv\")"
   ]
  },
  {
   "cell_type": "code",
   "execution_count": 31,
   "id": "f4d0420d",
   "metadata": {},
   "outputs": [
    {
     "data": {
      "text/plain": [
       "(115609, 40)"
      ]
     },
     "execution_count": 31,
     "metadata": {},
     "output_type": "execute_result"
    }
   ],
   "source": [
    "merged = pd.merge(orders, order_items, how='left', on='order_id')\n",
    "merged = merged.merge(order_payments, on='order_id')\n",
    "merged = merged.merge(order_reviews, on='order_id')\n",
    "merged = merged.merge(customers, on='customer_id')\n",
    "merged = merged.merge(sellers, on='seller_id')\n",
    "merged = merged.merge(products, on='product_id')\n",
    "merged = merged.merge(translation, on='product_category_name')\n",
    "merged.shape"
   ]
  },
  {
   "cell_type": "code",
   "execution_count": 15,
   "id": "8f78df5c",
   "metadata": {},
   "outputs": [
    {
     "data": {
      "text/plain": [
       "0"
      ]
     },
     "execution_count": 15,
     "metadata": {},
     "output_type": "execute_result"
    }
   ],
   "source": [
    "duplicates(merged)"
   ]
  },
  {
   "cell_type": "code",
   "execution_count": null,
   "id": "382dbbed",
   "metadata": {},
   "outputs": [],
   "source": []
  }
 ],
 "metadata": {
  "kernelspec": {
   "display_name": "Python 3",
   "language": "python",
   "name": "python3"
  },
  "language_info": {
   "codemirror_mode": {
    "name": "ipython",
    "version": 3
   },
   "file_extension": ".py",
   "mimetype": "text/x-python",
   "name": "python",
   "nbconvert_exporter": "python",
   "pygments_lexer": "ipython3",
   "version": "3.8.8"
  }
 },
 "nbformat": 4,
 "nbformat_minor": 5
}
