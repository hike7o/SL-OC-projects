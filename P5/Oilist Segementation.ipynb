{
 "cells": [
  {
   "cell_type": "markdown",
   "id": "612c82bf",
   "metadata": {},
   "source": [
    "![image.png](attachment:image.png)"
   ]
  },
  {
   "cell_type": "markdown",
   "id": "42257d24",
   "metadata": {},
   "source": [
    "Vous êtes consultant pour Olist, une solution de vente sur les marketplaces en ligne.\n",
    "\n",
    "Olist souhaite que vous fournissiez à ses équipes d'e-commerce une segmentation des clients qu’elles pourront utiliser au quotidien pour leurs campagnes de communication.\n",
    "\n",
    "Votre objectif est de comprendre les différents types d’utilisateurs grâce à leur comportement et à leurs données personnelles.\n",
    "\n",
    "Vous devrez fournir à l’équipe marketing une description actionable de votre segmentation et de sa logique sous-jacente pour une utilisation optimale, ainsi qu’une proposition de contrat de maintenance basée sur une analyse de la stabilité des segments au cours du temps.\n",
    "\n",
    "Les données\n",
    "Pour cette mission, Olist vous fournit une base de données anonymisée comportant des informations sur l’historique de commandes, les produits achetés, les commentaires de satisfaction, et la localisation des clients depuis janvier 2017.\n",
    "\n",
    "Votre mission\n",
    "Votre mission est d’aider les équipes d’Olist à comprendre les différents types d'utilisateurs. Vous utiliserez donc des méthodes non supervisées pour regrouper ensemble des clients de profils similaires. Ces catégories pourront être utilisées par l’équipe marketing pour mieux communiquer."
   ]
  },
  {
   "cell_type": "code",
   "execution_count": 1,
   "id": "508d0808",
   "metadata": {},
   "outputs": [],
   "source": [
    "# ! usr/bin/env python 3\n",
    "# coding: utf-8\n",
    "\n",
    "# Importing librairies\n",
    "\n",
    "from sklearn.preprocessing import StandardScaler\n",
    "from IPython.display import HTML\n",
    "import numpy as np               # numerical data processing\n",
    "import pandas as pd              # numerical tables & time series\n",
    "import scipy as sp\n",
    "# numerical integration, interpolation, optimization and statistics\n",
    "import scipy.stats as st         # statistical functions\n",
    "import seaborn as sns            # statistical data visualization\n",
    "import matplotlib.pyplot as plt\n",
    "# static, animated, and interactive visualizations in Python\n",
    "import time\n",
    "# import warnings\n",
    "# warnings.filterwarnings('ignore')\n",
    "%load_ext pycodestyle_magic\n",
    "%pycodestyle_on"
   ]
  },
  {
   "cell_type": "markdown",
   "id": "b19e33b0",
   "metadata": {},
   "source": [
    "La segmentation RFM ou méthode RFM est une méthode de segmentation principalement développée à l'origine pour les actions de marketing direct des véadistes et qui s'applique désormais également aux acteurs du e-commerce et du commerce traditionnel.\n",
    "\n",
    "La segmentation RFM prend en compte la Récence (date de la dernière commande), la Fréquence des commandes et le Montant (de la dernière commande ou sur une période donnée) pour établir des segments de clients homogènes.\n",
    "\n",
    "La segmentation RFM permet de cibler les offres, d'établir des segments basés sur la valeur des clients et de prévenir l'attrition en identifiant des segments à risque.\n",
    "\n",
    "Les données RFM restent des données très utilisées, mais une \"simple\" segmentation RFM est de plus en plus rare. Les données RFM sont désormais intégrées dans des procédures de ciblage et de segmentation comportant de plus en plus de variables et de données. Elles dépassent désormais le cadre du marketing direct et peuvent s'appliquer à la publicité display en utilisant une DMP et des procédures de CRM onboarding."
   ]
  },
  {
   "cell_type": "code",
   "execution_count": null,
   "id": "d9ad134a",
   "metadata": {},
   "outputs": [],
   "source": []
  }
 ],
 "metadata": {
  "kernelspec": {
   "display_name": "Python 3",
   "language": "python",
   "name": "python3"
  },
  "language_info": {
   "codemirror_mode": {
    "name": "ipython",
    "version": 3
   },
   "file_extension": ".py",
   "mimetype": "text/x-python",
   "name": "python",
   "nbconvert_exporter": "python",
   "pygments_lexer": "ipython3",
   "version": "3.8.8"
  }
 },
 "nbformat": 4,
 "nbformat_minor": 5
}
